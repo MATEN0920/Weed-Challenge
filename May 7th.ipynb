{
 "cells": [
  {
   "cell_type": "markdown",
   "id": "e8503b3e-b973-4b11-9ef9-488495553eec",
   "metadata": {},
   "source": [
    "### [PCCE 기출문제] 9번 / 이웃한 칸"
   ]
  },
  {
   "cell_type": "code",
   "execution_count": 18,
   "id": "ff6bbaa2-86c5-4d6e-8f86-649a72856a75",
   "metadata": {},
   "outputs": [
    {
     "name": "stdout",
     "output_type": "stream",
     "text": [
      "2\n",
      "1\n"
     ]
    }
   ],
   "source": [
    "def solution(board, h ,w):\n",
    "    n = len(board)\n",
    "    count = 0\n",
    "    dh, dw = [0, 1, -1, 0], [1, 0, 0, -1]\n",
    "    for i in range(4):\n",
    "        h_check, w_check = h + dh[i], w + dw[i]\n",
    "        if 0 <= h_check and h_check < n and 0 <= w_check and w_check < n:\n",
    "            if board[h][w] == board[h_check][w_check]:\n",
    "                count += 1\n",
    "    return count\n",
    "print(solution([[\"blue\", \"red\", \"orange\", \"red\"], [\"red\", \"red\", \"blue\", \"orange\"], [\"blue\", \"orange\", \"red\", \"red\"], [\"orange\", \"orange\", \"red\", \"blue\"]],1,1))\n",
    "print(solution([[\"yellow\", \"green\", \"blue\"], [\"blue\", \"green\", \"yellow\"], [\"yellow\", \"blue\", \"blue\"]], 0, 1))"
   ]
  }
 ],
 "metadata": {
  "kernelspec": {
   "display_name": "Python [conda env:base] *",
   "language": "python",
   "name": "conda-base-py"
  },
  "language_info": {
   "codemirror_mode": {
    "name": "ipython",
    "version": 3
   },
   "file_extension": ".py",
   "mimetype": "text/x-python",
   "name": "python",
   "nbconvert_exporter": "python",
   "pygments_lexer": "ipython3",
   "version": "3.12.7"
  }
 },
 "nbformat": 4,
 "nbformat_minor": 5
}
