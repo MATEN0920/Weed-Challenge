{
 "cells": [
  {
   "cell_type": "markdown",
   "id": "7e6d9a86-88d8-45a4-aa23-693af8044324",
   "metadata": {},
   "source": [
    "### [PCCE 기출문제] 10번 / 데이터 분석"
   ]
  },
  {
   "cell_type": "code",
   "execution_count": 14,
   "id": "f6666e27-8b09-4316-b877-14192fe9ea12",
   "metadata": {},
   "outputs": [
    {
     "name": "stdout",
     "output_type": "stream",
     "text": [
      "[[3, 20300401, 10, 8], [1, 20300104, 100, 80]]\n",
      "[[1, 20300104, 100, 80], [3, 20300401, 10, 8]]\n",
      "[[2, 20300804, 847, 37], [3, 20300401, 10, 8]]\n"
     ]
    }
   ],
   "source": [
    "def solution(data, ext, val_ext, sort_by):\n",
    "    result = []\n",
    "    index_map = {\"code\": 0, \"date\": 1, \"maximum\": 2, \"remain\": 3}\n",
    "    filter_index = index_map[ext]\n",
    "    sorted_index = index_map[sort_by]\n",
    "    for item in data:\n",
    "        if item[filter_index] < val_ext:\n",
    "            result.append(item)\n",
    "    return sorted(result, key=lambda x: x[sorted_index])\n",
    "print(solution([[1, 20300104, 100, 80], [2, 20300804, 847, 37], [3, 20300401, 10, 8]],\"date\",20300501,\"remain\"))\n",
    "print(solution([[1, 20300104, 100, 80], [2, 20300804, 847, 37], [3, 20300401, 10, 8]],\"maximum\",800,\"date\"))\n",
    "print(solution([[1, 20300104, 100, 80], [2, 20300804, 847, 37], [3, 20300401, 10, 8]],\"remain\",40,\"code\"))"
   ]
  }
 ],
 "metadata": {
  "kernelspec": {
   "display_name": "Python [conda env:base] *",
   "language": "python",
   "name": "conda-base-py"
  },
  "language_info": {
   "codemirror_mode": {
    "name": "ipython",
    "version": 3
   },
   "file_extension": ".py",
   "mimetype": "text/x-python",
   "name": "python",
   "nbconvert_exporter": "python",
   "pygments_lexer": "ipython3",
   "version": "3.12.7"
  }
 },
 "nbformat": 4,
 "nbformat_minor": 5
}
