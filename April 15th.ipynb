{
 "cells": [
  {
   "cell_type": "markdown",
   "id": "23746b1c-731f-4ef6-a1d7-33d4883205c6",
   "metadata": {},
   "source": [
    "# Day 22"
   ]
  },
  {
   "cell_type": "markdown",
   "id": "8f0b87dd-46bc-4bb5-919b-a384ae11a571",
   "metadata": {},
   "source": [
    "### 0 떼기"
   ]
  },
  {
   "cell_type": "code",
   "execution_count": 67,
   "id": "b4bd5b8e-b450-4c70-bf7c-1bab54b0cb81",
   "metadata": {},
   "outputs": [
    {
     "name": "stdout",
     "output_type": "stream",
     "text": [
      "10\n",
      "854020\n"
     ]
    }
   ],
   "source": [
    "def solution(n_str):\n",
    "    i = 0\n",
    "    while n_str[i] == \"0\":\n",
    "        i += 1\n",
    "    return n_str[i:]\n",
    "print(solution(\"0010\"))\n",
    "print(solution(\"854020\"))"
   ]
  },
  {
   "cell_type": "markdown",
   "id": "c437654a-cf84-4f0f-87ad-871e1775ff25",
   "metadata": {},
   "source": [
    "### 두 수의 합"
   ]
  },
  {
   "cell_type": "code",
   "execution_count": 74,
   "id": "9108b79c-c5d7-4468-9ae9-4b6e252d6d47",
   "metadata": {},
   "outputs": [
    {
     "name": "stdout",
     "output_type": "stream",
     "text": [
      "1316\n"
     ]
    }
   ],
   "source": [
    "def solution(a, b):\n",
    "    sum = int(a) + int(b)\n",
    "    return str(sum)\n",
    "print(solution(\"582\",\"734\"))"
   ]
  },
  {
   "cell_type": "markdown",
   "id": "2736610f-0e36-44d8-82a9-f14318fe0d86",
   "metadata": {},
   "source": [
    "### 문자열로 변환"
   ]
  },
  {
   "cell_type": "code",
   "execution_count": 77,
   "id": "fc7b66f9-9d6f-4606-80a6-d23769c626b1",
   "metadata": {},
   "outputs": [
    {
     "name": "stdout",
     "output_type": "stream",
     "text": [
      "123\n"
     ]
    }
   ],
   "source": [
    "def solution(n):\n",
    "    return str(n)\n",
    "print(solution(123))"
   ]
  },
  {
   "cell_type": "markdown",
   "id": "2a5c6380-4816-44c6-84a2-ea37e9c409f7",
   "metadata": {},
   "source": [
    "### 배열의 원소 삭제하기"
   ]
  },
  {
   "cell_type": "code",
   "execution_count": 80,
   "id": "7503d243-f2fc-49ae-900e-efc3904007f8",
   "metadata": {},
   "outputs": [
    {
     "name": "stdout",
     "output_type": "stream",
     "text": [
      "[293, 395, 678]\n"
     ]
    }
   ],
   "source": [
    "def solution(arr, delete_list):\n",
    "    for num in delete_list:\n",
    "        if num in arr:\n",
    "            arr.remove(num)\n",
    "    return arr\n",
    "print(solution([293, 1000, 395, 678, 94],[94, 777, 104, 1000, 1, 12]))"
   ]
  },
  {
   "cell_type": "markdown",
   "id": "8906f287-30eb-47a3-8f2c-b194a31fad17",
   "metadata": {},
   "source": [
    "### 부분 문자열인지 확인하기"
   ]
  },
  {
   "cell_type": "code",
   "execution_count": 83,
   "id": "dff6cc58-af66-44a8-8e88-9ad6ba4f7fc9",
   "metadata": {},
   "outputs": [
    {
     "name": "stdout",
     "output_type": "stream",
     "text": [
      "1\n"
     ]
    }
   ],
   "source": [
    "def solution(my_string, target):\n",
    "    if target in my_string:\n",
    "        return 1\n",
    "    else:\n",
    "        return 0\n",
    "print(solution(\"banana\",\"ana\"))"
   ]
  },
  {
   "cell_type": "markdown",
   "id": "53aa08f4-13c3-478d-83e7-9ed0c418aa59",
   "metadata": {},
   "source": [
    "# Day 23"
   ]
  },
  {
   "cell_type": "markdown",
   "id": "5be17eb8-1afa-4c9f-8c5e-f1a0b0d7af43",
   "metadata": {},
   "source": [
    "### 부분 문자열"
   ]
  },
  {
   "cell_type": "code",
   "execution_count": 87,
   "id": "2939111a-1eb3-414a-bc3c-5d521231caad",
   "metadata": {},
   "outputs": [
    {
     "name": "stdout",
     "output_type": "stream",
     "text": [
      "1\n"
     ]
    }
   ],
   "source": [
    "def solution(str1, str2):\n",
    "    return int(str1 in str2)\n",
    "print(solution(\"abc\",\"aabcc\"))"
   ]
  },
  {
   "cell_type": "markdown",
   "id": "50929d6b-c005-4437-8a7c-a626d1e38102",
   "metadata": {},
   "source": [
    "### 꼬리 문자열"
   ]
  },
  {
   "cell_type": "code",
   "execution_count": 100,
   "id": "eea08703-d864-4c2b-b139-7b4f200ae42a",
   "metadata": {},
   "outputs": [
    {
     "name": "stdout",
     "output_type": "stream",
     "text": [
      "abcghi\n",
      "\n"
     ]
    }
   ],
   "source": [
    "def solution(str_list, ex):\n",
    "    result = [txt for txt in str_list if ex not in txt]\n",
    "    return \"\".join(result)\n",
    "print(solution([\"abc\", \"def\", \"ghi\"],\"ef\"))\n",
    "print(solution([\"abc\", \"bbc\", \"cbc\"],\"c\"))"
   ]
  },
  {
   "cell_type": "markdown",
   "id": "68ca7c50-5acf-4dc3-bd60-bcf5a56f58a8",
   "metadata": {},
   "source": [
    "### 정수 찾기"
   ]
  },
  {
   "cell_type": "code",
   "execution_count": 103,
   "id": "58191745-95e6-4792-b4f4-091c24731496",
   "metadata": {},
   "outputs": [
    {
     "name": "stdout",
     "output_type": "stream",
     "text": [
      "1\n"
     ]
    }
   ],
   "source": [
    "def solution(num_list, n):\n",
    "    return int(n in num_list)\n",
    "print(solution([1, 2, 3, 4, 5],3))"
   ]
  },
  {
   "cell_type": "markdown",
   "id": "0209e6c8-9e45-4fe7-b855-9a50425c81ba",
   "metadata": {},
   "source": [
    "### 주사위 게임 1"
   ]
  },
  {
   "cell_type": "code",
   "execution_count": 106,
   "id": "5230057c-1a73-4b31-a9ad-1087c5665141",
   "metadata": {},
   "outputs": [
    {
     "name": "stdout",
     "output_type": "stream",
     "text": [
      "34\n"
     ]
    }
   ],
   "source": [
    "def solution(a,b):\n",
    "    if a % 2 == 1 and b % 2 == 1:\n",
    "        return a*a + b*b\n",
    "    elif a % 2== 1 or b % 2 == 1:\n",
    "        return 2*(a+b)\n",
    "    else:\n",
    "        return abs(a-b)\n",
    "print(solution(3,5))"
   ]
  },
  {
   "cell_type": "markdown",
   "id": "84d6d044-b666-4d4f-84a1-7a2d93a241bd",
   "metadata": {},
   "source": [
    "### 날짜 비교하기"
   ]
  },
  {
   "cell_type": "code",
   "execution_count": 109,
   "id": "9ee77a9d-f6b0-4d3d-a393-0915548a5c9b",
   "metadata": {},
   "outputs": [
    {
     "name": "stdout",
     "output_type": "stream",
     "text": [
      "1\n"
     ]
    }
   ],
   "source": [
    "def solution(date1, date2):\n",
    "    year1, month1, day1 = date1[0], date1[1], date1[2]\n",
    "    year2, month2, day2 = date2[0], date2[1], date2[2]\n",
    "    if year1 < year2:\n",
    "        return 1\n",
    "    elif year1 == year2 and month1 < month2:\n",
    "        return 1\n",
    "    elif year1 == year2 and month1 == month2 and day1 < day2:\n",
    "        return 1\n",
    "    else:\n",
    "        return 0\n",
    "print(solution([2021, 12, 28],[2021, 12, 29]))"
   ]
  }
 ],
 "metadata": {
  "kernelspec": {
   "display_name": "Python [conda env:base] *",
   "language": "python",
   "name": "conda-base-py"
  },
  "language_info": {
   "codemirror_mode": {
    "name": "ipython",
    "version": 3
   },
   "file_extension": ".py",
   "mimetype": "text/x-python",
   "name": "python",
   "nbconvert_exporter": "python",
   "pygments_lexer": "ipython3",
   "version": "3.12.7"
  }
 },
 "nbformat": 4,
 "nbformat_minor": 5
}
