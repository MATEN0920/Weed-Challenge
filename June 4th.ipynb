{
 "cells": [
  {
   "cell_type": "markdown",
   "id": "4445d239-1121-4978-a549-8eda747fd219",
   "metadata": {},
   "source": [
    "### 햄버거 만들기"
   ]
  },
  {
   "cell_type": "code",
   "execution_count": 6,
   "id": "883065c4-d5cf-4833-b748-d2ec33c5e2ee",
   "metadata": {},
   "outputs": [
    {
     "name": "stdout",
     "output_type": "stream",
     "text": [
      "2\n",
      "0\n"
     ]
    }
   ],
   "source": [
    "def solution(ingredient):\n",
    "    hamburger = []\n",
    "    result = 0\n",
    "    for i in ingredient:\n",
    "        hamburger.append(i)\n",
    "        if hamburger[-4:] == [1, 2, 3, 1]:\n",
    "            result += 1\n",
    "            del hamburger[-4:]\n",
    "    return result\n",
    "print(solution([2, 1, 1, 2, 3, 1, 2, 3, 1]))\n",
    "print(solution([1, 3, 2, 1, 2, 1, 3, 1, 2]))"
   ]
  }
 ],
 "metadata": {
  "kernelspec": {
   "display_name": "Python 3 (ipykernel)",
   "language": "python",
   "name": "python3"
  },
  "language_info": {
   "codemirror_mode": {
    "name": "ipython",
    "version": 3
   },
   "file_extension": ".py",
   "mimetype": "text/x-python",
   "name": "python",
   "nbconvert_exporter": "python",
   "pygments_lexer": "ipython3",
   "version": "3.10.0"
  }
 },
 "nbformat": 4,
 "nbformat_minor": 5
}
