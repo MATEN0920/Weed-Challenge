{
 "cells": [
  {
   "cell_type": "markdown",
   "id": "7eb58dbd-b5a9-4fd0-9d5e-913fb20f4b25",
   "metadata": {},
   "source": [
    "### 숫자 짝꿍"
   ]
  },
  {
   "cell_type": "code",
   "execution_count": 16,
   "id": "91009735-4f9c-4129-a9ae-e7391ae06a4a",
   "metadata": {},
   "outputs": [
    {
     "name": "stdout",
     "output_type": "stream",
     "text": [
      "-1\n",
      "0\n",
      "10\n",
      "321\n"
     ]
    }
   ],
   "source": [
    "from collections import Counter\n",
    "\n",
    "def solution(X, Y):\n",
    "    counter_X = Counter(X)\n",
    "    counter_Y = Counter(Y)\n",
    "    result = []\n",
    "    for num in '9876543210':\n",
    "        if num in counter_X and num in counter_Y:\n",
    "            min_count = min(counter_X[num], counter_Y[num])\n",
    "            result.extend([num] * min_count)\n",
    "    if not result:\n",
    "        return \"-1\"\n",
    "    if result[0] == '0':\n",
    "        return \"0\"\n",
    "    return ''.join(result)\n",
    "print(solution(\"100\",\"2345\"))\n",
    "print(solution(\"100\",\"203045\"))\n",
    "print(solution(\"100\",\"123450\"))\n",
    "print(solution(\"12321\",\"42531\"))"
   ]
  }
 ],
 "metadata": {
  "kernelspec": {
   "display_name": "Python [conda env:base] *",
   "language": "python",
   "name": "conda-base-py"
  },
  "language_info": {
   "codemirror_mode": {
    "name": "ipython",
    "version": 3
   },
   "file_extension": ".py",
   "mimetype": "text/x-python",
   "name": "python",
   "nbconvert_exporter": "python",
   "pygments_lexer": "ipython3",
   "version": "3.12.7"
  }
 },
 "nbformat": 4,
 "nbformat_minor": 5
}
