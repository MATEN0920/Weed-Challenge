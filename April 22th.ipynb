{
 "cells": [
  {
   "cell_type": "markdown",
   "id": "e9ff6bec-3fd2-4e77-86e8-d750410e3874",
   "metadata": {},
   "source": [
    "### 과일 장수"
   ]
  },
  {
   "cell_type": "code",
   "execution_count": 22,
   "id": "440320d6-786f-45f2-8a74-ae8dd9fc9905",
   "metadata": {},
   "outputs": [
    {
     "name": "stdout",
     "output_type": "stream",
     "text": [
      "33\n"
     ]
    }
   ],
   "source": [
    "def solution(k, m, score):\n",
    "    result = 0\n",
    "    score.sort(reverse=True)\n",
    "    for i in range(0, len(score) - len(score) % m, m):\n",
    "        result += score[i + m - 1] * m\n",
    "    return result\n",
    "print(solution(4,3,[4, 1, 2, 2, 4, 4, 4, 4, 1, 2, 4, 2]))"
   ]
  },
  {
   "cell_type": "markdown",
   "id": "8e032db1-28ad-41c8-bc65-18c983eb9aa5",
   "metadata": {},
   "source": [
    "### 덧칠하기"
   ]
  },
  {
   "cell_type": "code",
   "execution_count": 48,
   "id": "2f9235f6-6d6f-408f-b75e-8bd5495926b2",
   "metadata": {},
   "outputs": [
    {
     "name": "stdout",
     "output_type": "stream",
     "text": [
      "2\n"
     ]
    }
   ],
   "source": [
    "def solution(n, m, section):\n",
    "    result = 0\n",
    "    i = 0\n",
    "    while i < len(section):\n",
    "        start = section[i]\n",
    "        end = start + m - 1\n",
    "        result += 1\n",
    "        while i < len(section) and section[i] <= end:\n",
    "            i += 1\n",
    "    return result\n",
    "print(solution(8,4,[2, 3, 6]))"
   ]
  },
  {
   "cell_type": "markdown",
   "id": "4fb59cec-75ff-47e6-a5b3-1446631ef15d",
   "metadata": {},
   "source": [
    "### 소수 찾기"
   ]
  },
  {
   "cell_type": "code",
   "execution_count": 77,
   "id": "b89ce1f4-0989-4ba0-827e-cc5db3b1a97d",
   "metadata": {},
   "outputs": [
    {
     "name": "stdout",
     "output_type": "stream",
     "text": [
      "4\n"
     ]
    }
   ],
   "source": [
    "def solution(n):\n",
    "    if n < 2:\n",
    "        return 0\n",
    "    prime = [True] * (n+1)\n",
    "    prime[0] = prime[1] = False\n",
    "    for i in range(2, int(n**0.5)+1):\n",
    "        if prime[i]:\n",
    "            for j in range(i*i, n+1, i):\n",
    "                prime[j] = False\n",
    "    return sum(prime)\n",
    "print(solution(10))"
   ]
  },
  {
   "cell_type": "markdown",
   "id": "be69d931-51bb-40c9-b384-1b03883b58a0",
   "metadata": {},
   "source": [
    "### 소수 만들기"
   ]
  },
  {
   "cell_type": "code",
   "execution_count": 80,
   "id": "79617527-df18-406d-9b69-733403cc7cb3",
   "metadata": {},
   "outputs": [
    {
     "name": "stdout",
     "output_type": "stream",
     "text": [
      "1\n"
     ]
    }
   ],
   "source": [
    "def solution(nums):\n",
    "    com = []\n",
    "    prime = []\n",
    "    for i in range(len(nums)-2):\n",
    "        for j in range(i+1, len(nums)-1):\n",
    "            for k in range(j+1, len(nums)):\n",
    "                com.append(nums[i] + nums[j] + nums[k])\n",
    "    for i in com:\n",
    "        if all(i % j != 0 for j in range(2,i)):\n",
    "            prime.append(i)\n",
    "    return len(prime)\n",
    "print(solution([1,2,3,4]))"
   ]
  },
  {
   "cell_type": "markdown",
   "id": "0cb2c6c7-05bd-4731-a74e-f095f17c4054",
   "metadata": {},
   "source": [
    "### 옹알이 (2)"
   ]
  },
  {
   "cell_type": "code",
   "execution_count": 93,
   "id": "60e2cf58-83fd-489f-99f9-3a342e113c16",
   "metadata": {},
   "outputs": [
    {
     "name": "stdout",
     "output_type": "stream",
     "text": [
      "2\n"
     ]
    }
   ],
   "source": [
    "def solution(babbling):\n",
    "    default = [\"aya\", \"ye\", \"woo\", \"ma\"]\n",
    "    count = 0\n",
    "    for word in babbling:\n",
    "        for i in default:\n",
    "            if i*2 in word:\n",
    "                break\n",
    "        else:\n",
    "            for i in default:\n",
    "                word = word.replace(i, \" \")\n",
    "            if word.strip() == \"\":\n",
    "                count += 1\n",
    "    return count\n",
    "print(solution([\"ayaye\", \"uuu\", \"yeye\", \"yemawoo\", \"ayaayaa\"]))"
   ]
  },
  {
   "cell_type": "markdown",
   "id": "4ad20736-2793-4339-96c6-ef905f318613",
   "metadata": {},
   "source": [
    "### 실패율"
   ]
  },
  {
   "cell_type": "code",
   "execution_count": 122,
   "id": "75d0c26b-36d0-4b85-9fe2-b5f9680070a0",
   "metadata": {},
   "outputs": [
    {
     "name": "stdout",
     "output_type": "stream",
     "text": [
      "[3, 4, 2, 1, 5]\n"
     ]
    }
   ],
   "source": [
    "def solution(N, stages):\n",
    "    result = []\n",
    "    player = len(stages)\n",
    "    for stage in range(1,N+1):\n",
    "        fail = stages.count(stage)\n",
    "        if player == 0:\n",
    "            fail_rate = 0\n",
    "        else:\n",
    "            fail_rate = fail / player\n",
    "        result.append((stage, fail_rate))\n",
    "        player -= fail\n",
    "    result.sort(key=lambda x: (-x[1], x[0]))\n",
    "    return [stage for stage, _ in result]\n",
    "print(solution(5,[2, 1, 2, 6, 2, 4, 3, 3]))"
   ]
  },
  {
   "cell_type": "markdown",
   "id": "0c74d74a-eb67-4ae5-a0bc-856f37b4b79d",
   "metadata": {},
   "source": [
    "### [PCCE 기출문제] 9번 / 지폐 접기"
   ]
  },
  {
   "cell_type": "code",
   "execution_count": 135,
   "id": "d7c6cce9-b7c4-4c70-bb76-f7dec5e0a186",
   "metadata": {},
   "outputs": [
    {
     "name": "stdout",
     "output_type": "stream",
     "text": [
      "4\n"
     ]
    }
   ],
   "source": [
    "def solution(wallet, bill):\n",
    "    answer = 0\n",
    "    while min(bill) > min(wallet) or max(bill) > max(wallet):\n",
    "        if bill[0] > bill[1]:\n",
    "            bill[0] = bill[0] // 2\n",
    "        else:\n",
    "            bill[1] = bill[1] // 2\n",
    "        answer += 1\n",
    "    return answer\n",
    "print(solution([50, 50],[100, 241]))"
   ]
  }
 ],
 "metadata": {
  "kernelspec": {
   "display_name": "Python [conda env:base] *",
   "language": "python",
   "name": "conda-base-py"
  },
  "language_info": {
   "codemirror_mode": {
    "name": "ipython",
    "version": 3
   },
   "file_extension": ".py",
   "mimetype": "text/x-python",
   "name": "python",
   "nbconvert_exporter": "python",
   "pygments_lexer": "ipython3",
   "version": "3.12.7"
  }
 },
 "nbformat": 4,
 "nbformat_minor": 5
}
