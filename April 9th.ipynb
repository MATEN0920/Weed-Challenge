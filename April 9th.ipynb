{
 "cells": [
  {
   "cell_type": "markdown",
   "id": "ca45ccc7-04d4-4b8b-a914-4a71db78a19a",
   "metadata": {},
   "source": [
    "# Day 15"
   ]
  },
  {
   "cell_type": "markdown",
   "id": "efe5ac44-7d05-4933-a385-3e66f1ef42b7",
   "metadata": {},
   "source": [
    "### 조건에 맞게 수열 변환하기 1"
   ]
  },
  {
   "cell_type": "code",
   "execution_count": 1,
   "id": "6671aa66-cc26-4a10-9828-562346dc57f5",
   "metadata": {},
   "outputs": [
    {
     "name": "stdout",
     "output_type": "stream",
     "text": [
      "[2, 2, 6, 50.0, 99, 49.0]\n"
     ]
    }
   ],
   "source": [
    "def solution(arr):\n",
    "    for i in range(len(arr)):\n",
    "        if arr[i] >= 50 and arr[i] % 2 == 0:\n",
    "            arr[i] = arr[i] / 2\n",
    "        elif arr[i] < 50 and arr[i] % 2 == 1:\n",
    "            arr[i] = 2 * arr[i]\n",
    "    return arr\n",
    "print(solution([1, 2, 3, 100, 99, 98]))"
   ]
  },
  {
   "cell_type": "markdown",
   "id": "5d632d48-d0fa-40ab-b6b7-cb3e7e0dfccb",
   "metadata": {},
   "source": [
    "### 조건에 맞게 수열 변환하기 2"
   ]
  },
  {
   "cell_type": "code",
   "execution_count": 10,
   "id": "7b8f6ea3-c9d3-433f-b1ab-778aa44517a6",
   "metadata": {},
   "outputs": [
    {
     "name": "stdout",
     "output_type": "stream",
     "text": [
      "5\n"
     ]
    }
   ],
   "source": [
    "def solution(arr):\n",
    "    idx = 0\n",
    "    while True:\n",
    "        result = []\n",
    "        for i in range(len(arr)):\n",
    "            if arr[i] >= 50 and arr[i] % 2 == 0:\n",
    "                result.append(arr[i] // 2)\n",
    "            elif arr[i] < 50 and arr[i] % 2 == 1:\n",
    "                result.append(arr[i] * 2 + 1)\n",
    "            else:\n",
    "                result.append(arr[i])\n",
    "        if result == arr:\n",
    "            return idx\n",
    "        arr = result\n",
    "        idx += 1\n",
    "print(solution([1, 2, 3, 100, 99, 98]))"
   ]
  },
  {
   "cell_type": "markdown",
   "id": "a709fef0-3142-4e94-9f4b-773d0a44330e",
   "metadata": {},
   "source": [
    "### 1로 만들기"
   ]
  },
  {
   "cell_type": "code",
   "execution_count": 27,
   "id": "8aedc21f-c54d-47b1-ab8e-89bf31875a29",
   "metadata": {},
   "outputs": [
    {
     "name": "stdout",
     "output_type": "stream",
     "text": [
      "11\n"
     ]
    }
   ],
   "source": [
    "def solution(num_list):\n",
    "    time = 0\n",
    "    for i in range(len(num_list)):\n",
    "        while num_list[i] != 1:\n",
    "            if num_list[i] % 2 == 0:\n",
    "                num_list[i] = num_list[i] // 2\n",
    "            else:\n",
    "                num_list[i] = (num_list[i] - 1) // 2\n",
    "            time += 1\n",
    "    return time\n",
    "print(solution([12, 4, 15, 1, 14]))"
   ]
  },
  {
   "cell_type": "markdown",
   "id": "cbd1bf83-d826-44ce-9fe0-7f2d1f506035",
   "metadata": {},
   "source": [
    "### 길이에 따른 연산"
   ]
  },
  {
   "cell_type": "code",
   "execution_count": 38,
   "id": "385cc21d-1c40-4e19-b9d8-236c6a3de914",
   "metadata": {},
   "outputs": [
    {
     "name": "stdout",
     "output_type": "stream",
     "text": [
      "51\n",
      "120\n"
     ]
    }
   ],
   "source": [
    "from math import prod\n",
    "def solution(num_list):\n",
    "    if len(num_list) >= 11:\n",
    "        return sum(num_list)\n",
    "    else:\n",
    "        return prod(num_list)\n",
    "print(solution([3, 4, 5, 2, 5, 4, 6, 7, 3, 7, 2, 2, 1]))\n",
    "print(solution([2, 3, 4, 5]))"
   ]
  },
  {
   "cell_type": "markdown",
   "id": "0789005c-5489-484b-b645-07901016ae2a",
   "metadata": {},
   "source": [
    "### 원하는 문자열 찾기"
   ]
  },
  {
   "cell_type": "code",
   "execution_count": 47,
   "id": "d7d7defc-c521-4a03-ab9c-6e483f46a31b",
   "metadata": {},
   "outputs": [
    {
     "name": "stdout",
     "output_type": "stream",
     "text": [
      "1\n",
      "0\n"
     ]
    }
   ],
   "source": [
    "def solution(myString, pat):\n",
    "    myString = myString.upper()\n",
    "    pat = pat.upper()\n",
    "    if pat in myString:\n",
    "        return 1\n",
    "    else:\n",
    "        return 0\n",
    "print(solution(\"AbCdEfG\",\"aBc\"))\n",
    "print(solution(\"aaAA\",\"aaaaa\"))"
   ]
  }
 ],
 "metadata": {
  "kernelspec": {
   "display_name": "Python [conda env:base] *",
   "language": "python",
   "name": "conda-base-py"
  },
  "language_info": {
   "codemirror_mode": {
    "name": "ipython",
    "version": 3
   },
   "file_extension": ".py",
   "mimetype": "text/x-python",
   "name": "python",
   "nbconvert_exporter": "python",
   "pygments_lexer": "ipython3",
   "version": "3.12.7"
  }
 },
 "nbformat": 4,
 "nbformat_minor": 5
}
