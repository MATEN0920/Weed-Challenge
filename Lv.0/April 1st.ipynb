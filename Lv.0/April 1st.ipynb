{
 "cells": [
  {
   "cell_type": "code",
   "execution_count": 125,
   "id": "514a6c39-b378-44e1-9219-1d4914abfe9b",
   "metadata": {},
   "outputs": [
    {
     "name": "stdin",
     "output_type": "stream",
     "text": [
      " HelloWorld!\n"
     ]
    },
    {
     "name": "stdout",
     "output_type": "stream",
     "text": [
      "HelloWorld!\n"
     ]
    }
   ],
   "source": [
    "str = input()\n",
    "print(str)"
   ]
  },
  {
   "cell_type": "code",
   "execution_count": 71,
   "id": "90c9f019-a549-42de-8fe7-149365e21edb",
   "metadata": {},
   "outputs": [
    {
     "name": "stdin",
     "output_type": "stream",
     "text": [
      " 4 5\n"
     ]
    },
    {
     "name": "stdout",
     "output_type": "stream",
     "text": [
      "a =  4\n",
      "b =  5\n"
     ]
    }
   ],
   "source": [
    "a, b = map(int,input().split(' '))\n",
    "\n",
    "print(\"a = \",a)\n",
    "print(\"b = \",b)"
   ]
  },
  {
   "cell_type": "code",
   "execution_count": 123,
   "id": "c2766ce7-0cd9-4170-aea1-f3546aa1ae2f",
   "metadata": {},
   "outputs": [
    {
     "name": "stdin",
     "output_type": "stream",
     "text": [
      " string 5\n"
     ]
    },
    {
     "name": "stdout",
     "output_type": "stream",
     "text": [
      "stringstringstringstringstring"
     ]
    }
   ],
   "source": [
    "text, n = input().split(' ')\n",
    "n = int(n)\n",
    "\n",
    "for i in range(n):\n",
    "    print(text, end='')"
   ]
  },
  {
   "cell_type": "code",
   "execution_count": 135,
   "id": "44c83093-3127-4d58-9f84-b4e20cf81dc1",
   "metadata": {},
   "outputs": [
    {
     "name": "stdin",
     "output_type": "stream",
     "text": [
      " aBcD\n"
     ]
    },
    {
     "name": "stdout",
     "output_type": "stream",
     "text": [
      "AbCd"
     ]
    }
   ],
   "source": [
    "str = input()\n",
    "\n",
    "for i in str:\n",
    "    if i.isupper() == True:\n",
    "        print(i.lower(), end='')\n",
    "    elif i.islower() == True:\n",
    "        print(i.upper(), end='')\n",
    "\n",
    "\n",
    "### print(input().swapcase())"
   ]
  },
  {
   "cell_type": "code",
   "execution_count": 181,
   "id": "2e84da68-6a25-4e62-94fb-5cc26af101de",
   "metadata": {},
   "outputs": [
    {
     "name": "stdout",
     "output_type": "stream",
     "text": [
      "!@#$%^&*(\\'\"<>?:;\n"
     ]
    }
   ],
   "source": [
    "print(r'!@#$%^&*(\\'\"<>?:;')"
   ]
  },
  {
   "cell_type": "code",
   "execution_count": 183,
   "id": "9261d0c6-2e59-404a-b38b-3fe2fa115599",
   "metadata": {},
   "outputs": [
    {
     "name": "stdin",
     "output_type": "stream",
     "text": [
      " 4 5\n"
     ]
    },
    {
     "name": "stdout",
     "output_type": "stream",
     "text": [
      "4 + 5 = 9\n"
     ]
    }
   ],
   "source": [
    "a, b = map(int, input().strip().split(' '))\n",
    "print(a, \"+\", b, \"=\", a+b)"
   ]
  },
  {
   "cell_type": "code",
   "execution_count": 185,
   "id": "3093902f-fe03-4da1-abfe-0c5ccfb7d0a0",
   "metadata": {},
   "outputs": [
    {
     "name": "stdin",
     "output_type": "stream",
     "text": [
      " apple pen\n"
     ]
    },
    {
     "name": "stdout",
     "output_type": "stream",
     "text": [
      "applepen\n"
     ]
    }
   ],
   "source": [
    "str1, str2 = input().strip().split(' ')\n",
    "print(str1+str2)"
   ]
  },
  {
   "cell_type": "code",
   "execution_count": 193,
   "id": "690e8140-50a2-419c-b098-bee575c06c89",
   "metadata": {},
   "outputs": [
    {
     "name": "stdin",
     "output_type": "stream",
     "text": [
      " abcde\n"
     ]
    },
    {
     "name": "stdout",
     "output_type": "stream",
     "text": [
      "a\n",
      "b\n",
      "c\n",
      "d\n",
      "e\n"
     ]
    }
   ],
   "source": [
    "str = input()\n",
    "for i in str:\n",
    "    print(i)"
   ]
  },
  {
   "cell_type": "code",
   "execution_count": 195,
   "id": "18b86f74-8065-4ee3-8736-45aa257e1a6e",
   "metadata": {},
   "outputs": [
    {
     "name": "stdin",
     "output_type": "stream",
     "text": [
      " 123\n"
     ]
    },
    {
     "name": "stdout",
     "output_type": "stream",
     "text": [
      "123 is odd\n"
     ]
    }
   ],
   "source": [
    "a = int(input())\n",
    "if(a%2 == 0):\n",
    "    print(a, \"is even\")\n",
    "else:\n",
    "    print(a, \"is odd\")"
   ]
  },
  {
   "cell_type": "code",
   "execution_count": 287,
   "id": "8a588793-c058-4f66-8dfa-91fb73be7905",
   "metadata": {},
   "outputs": [
    {
     "data": {
      "text/plain": [
       "'HelloWorld'"
      ]
     },
     "execution_count": 287,
     "metadata": {},
     "output_type": "execute_result"
    }
   ],
   "source": [
    "def solution(my_string, overwrite_string, s):\n",
    "    i = int(len(overwrite_string))\n",
    "    my_string = my_string[0:s] + overwrite_string + my_string[s+i:]\n",
    "    return my_string\n",
    "\n",
    "solution(\"He11oWor1d\",\"lloWorl\",2)"
   ]
  }
 ],
 "metadata": {
  "kernelspec": {
   "display_name": "Python [conda env:base] *",
   "language": "python",
   "name": "conda-base-py"
  },
  "language_info": {
   "codemirror_mode": {
    "name": "ipython",
    "version": 3
   },
   "file_extension": ".py",
   "mimetype": "text/x-python",
   "name": "python",
   "nbconvert_exporter": "python",
   "pygments_lexer": "ipython3",
   "version": "3.12.7"
  }
 },
 "nbformat": 4,
 "nbformat_minor": 5
}
