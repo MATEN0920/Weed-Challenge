{
 "cells": [
  {
   "cell_type": "markdown",
   "id": "43ec1a13-8df4-47ec-9236-118de93d7b7b",
   "metadata": {},
   "source": [
    "# Day 3"
   ]
  },
  {
   "cell_type": "markdown",
   "id": "5d635a7c-b15e-4124-926c-92fb074a70a1",
   "metadata": {},
   "source": [
    "### 문자열 섞기"
   ]
  },
  {
   "cell_type": "code",
   "execution_count": 3,
   "id": "9529de29-1c31-46e8-a482-164ac38501e1",
   "metadata": {},
   "outputs": [
    {
     "name": "stdout",
     "output_type": "stream",
     "text": [
      "ababababab\n"
     ]
    }
   ],
   "source": [
    "def solution(str1, str2):\n",
    "    a = len(str1)\n",
    "    result = \"\"\n",
    "    for i in range(a):\n",
    "        result += str1[i] + str2[i]\n",
    "    return result\n",
    "\n",
    "print(solution(\"aaaaa\",\"bbbbb\"))"
   ]
  },
  {
   "cell_type": "markdown",
   "id": "5b557620-49e1-411a-91be-505adf803736",
   "metadata": {},
   "source": [
    "### 문자 리스트를 문자열로 변환하기"
   ]
  },
  {
   "cell_type": "code",
   "execution_count": 10,
   "id": "67cd7083-994c-4bc9-accb-6685d72813ca",
   "metadata": {},
   "outputs": [
    {
     "name": "stdout",
     "output_type": "stream",
     "text": [
      "abc\n"
     ]
    }
   ],
   "source": [
    "def solution(arr):\n",
    "    result=''\n",
    "    for i in range(len(arr)):\n",
    "        result += arr[i]\n",
    "    return result\n",
    "print(solution([\"a\", \"b\", \"c\"]))"
   ]
  },
  {
   "cell_type": "markdown",
   "id": "85ea9959-bb6c-426e-87eb-269d668df087",
   "metadata": {},
   "source": [
    "### 문자열 곱하기"
   ]
  },
  {
   "cell_type": "code",
   "execution_count": 25,
   "id": "47469a40-0018-47ae-a864-534e6f8d22d4",
   "metadata": {},
   "outputs": [
    {
     "name": "stdout",
     "output_type": "stream",
     "text": [
      "stringstringstring\n"
     ]
    }
   ],
   "source": [
    "def solution(my_string, k):\n",
    "    result=''\n",
    "    for i in range(k):\n",
    "        result += my_string\n",
    "    return result\n",
    "print(solution(\"string\",3))"
   ]
  },
  {
   "cell_type": "markdown",
   "id": "026741fc-38a9-4b07-82e8-d5fa8d4fef73",
   "metadata": {},
   "source": [
    "### 더 크게 합치기"
   ]
  },
  {
   "cell_type": "code",
   "execution_count": 40,
   "id": "a405e274-7830-4482-87be-a0f81b710c26",
   "metadata": {},
   "outputs": [
    {
     "name": "stdout",
     "output_type": "stream",
     "text": [
      "231\n"
     ]
    }
   ],
   "source": [
    "def solution(a, b):\n",
    "    res1 = int(str(a)+str(b))\n",
    "    res2 = int(str(b)+str(a))\n",
    "    return max(res1, res2)\n",
    "\n",
    "print(solution(1,23))"
   ]
  },
  {
   "cell_type": "markdown",
   "id": "a256ac1d-fd8f-4671-95a8-f10286c4a5ea",
   "metadata": {},
   "source": [
    "### 두 수의 연산값 비교하기"
   ]
  },
  {
   "cell_type": "code",
   "execution_count": 43,
   "id": "8cbdd5bd-af90-4b58-b8fc-5cb5bb1b8365",
   "metadata": {},
   "outputs": [
    {
     "name": "stdout",
     "output_type": "stream",
     "text": [
      "364\n"
     ]
    }
   ],
   "source": [
    "def solution(a, b):\n",
    "    res1 = int(str(a)+str(b))\n",
    "    res2 = 2 * a * b\n",
    "    return max(res1, res2)\n",
    "\n",
    "print(solution(2,91))"
   ]
  },
  {
   "cell_type": "markdown",
   "id": "439a64a6-62da-4cfa-9018-9c2b042c26de",
   "metadata": {},
   "source": [
    "# Day 4"
   ]
  },
  {
   "cell_type": "markdown",
   "id": "3bd21fe8-deab-46d2-9c2f-f7ea5af33f06",
   "metadata": {},
   "source": [
    "### n의 배수"
   ]
  },
  {
   "cell_type": "code",
   "execution_count": 47,
   "id": "5aad8c02-639c-421c-b774-6e2ebc42a736",
   "metadata": {},
   "outputs": [
    {
     "name": "stdout",
     "output_type": "stream",
     "text": [
      "0\n"
     ]
    }
   ],
   "source": [
    "def solution(num, n):\n",
    "    if num % n == 0:\n",
    "        return 1\n",
    "    else:\n",
    "        return 0\n",
    "print(solution(10,3))"
   ]
  },
  {
   "cell_type": "markdown",
   "id": "f7be6c5c-291d-463b-a1a8-ac6d3c01d6e1",
   "metadata": {},
   "source": [
    "### 공배수"
   ]
  },
  {
   "cell_type": "code",
   "execution_count": 54,
   "id": "6a793777-df8d-4b95-9cbc-50d879e73aa6",
   "metadata": {},
   "outputs": [
    {
     "name": "stdout",
     "output_type": "stream",
     "text": [
      "1\n"
     ]
    }
   ],
   "source": [
    "def solution(num, n, m):\n",
    "    if num % n == 0 and num % m == 0:\n",
    "        return 1\n",
    "    else:\n",
    "        return 0\n",
    "print(solution(40,10,8))"
   ]
  },
  {
   "cell_type": "markdown",
   "id": "9398a007-4698-474f-8834-ac9b9d4c310e",
   "metadata": {},
   "source": [
    "### 홀짝에 따라 다른 값 반환하기"
   ]
  },
  {
   "cell_type": "code",
   "execution_count": 43,
   "id": "29d3dfed-8d19-4a2a-8725-e408ff7fbdc2",
   "metadata": {},
   "outputs": [
    {
     "name": "stdout",
     "output_type": "stream",
     "text": [
      "16\n",
      "220\n"
     ]
    }
   ],
   "source": [
    "def solution(n):\n",
    "    res1, res2 = 0, 0\n",
    "    if n % 2 == 1:\n",
    "        for i in range(n+1):\n",
    "            if i % 2 == 1:\n",
    "                res1 += i\n",
    "        return res1\n",
    "    else:\n",
    "        for i in range(n+1):\n",
    "            if i % 2 == 0:\n",
    "                res2 += i*i\n",
    "        return res2\n",
    "\n",
    "print(solution(7))\n",
    "print(solution(10))"
   ]
  },
  {
   "cell_type": "markdown",
   "id": "603b11ff-d8da-429e-bbf9-eb17cd979db9",
   "metadata": {},
   "source": [
    "### 조건 문자열"
   ]
  },
  {
   "cell_type": "code",
   "execution_count": 53,
   "id": "417e2867-781a-4af9-8ccf-12fcc96e30dc",
   "metadata": {},
   "outputs": [
    {
     "name": "stdout",
     "output_type": "stream",
     "text": [
      "1\n"
     ]
    }
   ],
   "source": [
    "def solution(ineq, eq, n, m):\n",
    "    if ineq == \">\" and eq == \"=\":\n",
    "        if n >= m:\n",
    "            return 1\n",
    "        else:\n",
    "            return 0\n",
    "    if ineq == \"<\" and eq == \"=\":\n",
    "        if n <= m:\n",
    "            return 1\n",
    "        else:\n",
    "            return 0\n",
    "    if ineq == \">\" and eq == \"!\":\n",
    "        if n > m:\n",
    "            return 1\n",
    "        else:\n",
    "            return 0\n",
    "    if ineq == \"<\" and eq == \"!\":\n",
    "        if n < m:\n",
    "            return 1\n",
    "        else:\n",
    "            return 0\n",
    "\n",
    "print(solution(\"<\",\"=\",40,50))"
   ]
  },
  {
   "cell_type": "markdown",
   "id": "8f1174d7-de3d-4ce8-8350-58eed824b2ef",
   "metadata": {},
   "source": [
    "### flag에 따라 다른 값 변환하기"
   ]
  },
  {
   "cell_type": "code",
   "execution_count": 60,
   "id": "430295e3-7f65-4458-b1d6-1366dceb5cc1",
   "metadata": {},
   "outputs": [
    {
     "name": "stdout",
     "output_type": "stream",
     "text": [
      "3\n"
     ]
    }
   ],
   "source": [
    "def solution(a, b, flag):\n",
    "    if flag:\n",
    "        return a + b\n",
    "    else:\n",
    "        return a - b\n",
    "\n",
    "print(solution(1, 2, True))"
   ]
  }
 ],
 "metadata": {
  "kernelspec": {
   "display_name": "Python [conda env:base] *",
   "language": "python",
   "name": "conda-base-py"
  },
  "language_info": {
   "codemirror_mode": {
    "name": "ipython",
    "version": 3
   },
   "file_extension": ".py",
   "mimetype": "text/x-python",
   "name": "python",
   "nbconvert_exporter": "python",
   "pygments_lexer": "ipython3",
   "version": "3.12.7"
  }
 },
 "nbformat": 4,
 "nbformat_minor": 5
}
