{
 "cells": [
  {
   "cell_type": "markdown",
   "id": "9376400a-94a3-47c2-8f95-5e169fa1aa88",
   "metadata": {},
   "source": [
    "# Day 13"
   ]
  },
  {
   "cell_type": "markdown",
   "id": "1e84b8f0-f3dc-4b9f-9258-c6753bae8c27",
   "metadata": {},
   "source": [
    "### n번째 원소부터"
   ]
  },
  {
   "cell_type": "code",
   "execution_count": 6,
   "id": "17d12b38-95ac-42e5-9c9d-c6bdaedc785b",
   "metadata": {},
   "outputs": [
    {
     "name": "stdout",
     "output_type": "stream",
     "text": [
      "[2, 1, 7, 5]\n"
     ]
    }
   ],
   "source": [
    "def solution(num_list, n):\n",
    "    return num_list[n-1:]\n",
    "print(solution([5, 2, 1, 7, 5],2))"
   ]
  },
  {
   "cell_type": "markdown",
   "id": "46522cf5-25de-44c4-a586-81d0167208f6",
   "metadata": {},
   "source": [
    "### 순서 바꾸기"
   ]
  },
  {
   "cell_type": "code",
   "execution_count": 11,
   "id": "12018323-b2d7-4e7e-ad5b-77c587159ac5",
   "metadata": {},
   "outputs": [
    {
     "name": "stdout",
     "output_type": "stream",
     "text": [
      "[7, 5, 5, 2, 1]\n"
     ]
    }
   ],
   "source": [
    "def solution(num_list, n):\n",
    "    return num_list[n:]+num_list[:n]\n",
    "print(solution([5, 2, 1, 7, 5],3))"
   ]
  },
  {
   "cell_type": "markdown",
   "id": "3f47fd97-5726-40a7-8ad7-9fda8c616019",
   "metadata": {},
   "source": [
    "### 왼쪽 오른쪽"
   ]
  },
  {
   "cell_type": "code",
   "execution_count": 46,
   "id": "1303b5ab-ebf2-47ca-b64e-47e53f906298",
   "metadata": {},
   "outputs": [
    {
     "name": "stdout",
     "output_type": "stream",
     "text": [
      "['l']\n",
      "[]\n"
     ]
    }
   ],
   "source": [
    "def solution(str_list):\n",
    "    for i in range(len(str_list)):\n",
    "        if str_list[i] == \"l\":\n",
    "            return str_list[:i]\n",
    "        elif str_list[i] == \"r\":\n",
    "            return str_list[i+1:]\n",
    "    return []\n",
    "print(solution([\"u\", \"u\", \"r\", \"l\"]))\n",
    "print(solution([\"l\"]))"
   ]
  },
  {
   "cell_type": "markdown",
   "id": "dc4d369d-8f63-4508-bc84-49d5266a8b94",
   "metadata": {},
   "source": [
    "### n번째 원소까지"
   ]
  },
  {
   "cell_type": "code",
   "execution_count": 49,
   "id": "991c5653-7107-4384-9661-07d424ccea63",
   "metadata": {},
   "outputs": [
    {
     "name": "stdout",
     "output_type": "stream",
     "text": [
      "[5, 2, 1]\n"
     ]
    }
   ],
   "source": [
    "def solution(num_list, n):\n",
    "    return num_list[:n]\n",
    "print(solution([5, 2, 1, 7, 5],3))"
   ]
  },
  {
   "cell_type": "markdown",
   "id": "e90d22b0-4cd0-4e3e-a143-000b80d5f406",
   "metadata": {},
   "source": [
    "### n개 간격의 원소들"
   ]
  },
  {
   "cell_type": "code",
   "execution_count": 52,
   "id": "3c302cc5-6903-4a3d-baea-587d08b4a30c",
   "metadata": {},
   "outputs": [
    {
     "name": "stdout",
     "output_type": "stream",
     "text": [
      "[4, 6, 7]\n"
     ]
    }
   ],
   "source": [
    "def solution(num_list, n):\n",
    "    return num_list[:][::n]\n",
    "print(solution([4, 2, 6, 1, 7, 6],2))"
   ]
  },
  {
   "cell_type": "markdown",
   "id": "aeb23c82-aa07-402e-8384-fe0b36b40d2e",
   "metadata": {},
   "source": [
    "# Day 14"
   ]
  },
  {
   "cell_type": "markdown",
   "id": "b32a166c-7a94-4083-a875-d32c5be9f860",
   "metadata": {},
   "source": [
    "### 홀수 vs 짝수"
   ]
  },
  {
   "cell_type": "code",
   "execution_count": 60,
   "id": "f95eb0ed-14e5-47e1-822f-c46dfc46172e",
   "metadata": {},
   "outputs": [
    {
     "name": "stdout",
     "output_type": "stream",
     "text": [
      "17\n"
     ]
    }
   ],
   "source": [
    "def solution(num_list):\n",
    "    odd = 0\n",
    "    even = 0\n",
    "    for i in range(len(num_list)):\n",
    "        if i % 2 == 1:\n",
    "            odd += num_list[i]\n",
    "        else:\n",
    "            even += num_list[i]\n",
    "    return max(odd, even)\n",
    "print(solution([4, 2, 6, 1, 7, 6]))"
   ]
  },
  {
   "cell_type": "markdown",
   "id": "7bb2b2ca-67e5-431c-b9a8-7682aecc4002",
   "metadata": {},
   "source": [
    "### 5명씩"
   ]
  },
  {
   "cell_type": "code",
   "execution_count": 63,
   "id": "22ed7863-a3d0-48c8-b25f-ccefb240c36a",
   "metadata": {},
   "outputs": [
    {
     "name": "stdout",
     "output_type": "stream",
     "text": [
      "['nami', 'vex']\n"
     ]
    }
   ],
   "source": [
    "def solution(names):\n",
    "    return names[::5]\n",
    "print(solution([\"nami\", \"ahri\", \"jayce\", \"garen\", \"ivern\", \"vex\", \"jinx\"]))"
   ]
  },
  {
   "cell_type": "markdown",
   "id": "2eebbe0d-7666-4274-9710-8e2a53295f81",
   "metadata": {},
   "source": [
    "### 할 일 목록"
   ]
  },
  {
   "cell_type": "code",
   "execution_count": 84,
   "id": "a4f7bf1d-0a05-4d93-a44b-85802ef8d078",
   "metadata": {},
   "outputs": [
    {
     "name": "stdout",
     "output_type": "stream",
     "text": [
      "['practiceguitar', 'studygraph']\n"
     ]
    }
   ],
   "source": [
    "def solution(todo_list, finished):\n",
    "    result = []\n",
    "    for i in range(len(finished)):\n",
    "        if finished[i] == False:\n",
    "            result.append(todo_list[i])\n",
    "    return result\n",
    "print(solution([\"problemsolving\", \"practiceguitar\", \"swim\", \"studygraph\"],[True, False, True, False]))"
   ]
  },
  {
   "cell_type": "markdown",
   "id": "7d9ffe81-4d0c-42b9-8cf4-2e123c0136a1",
   "metadata": {},
   "source": [
    "### n보다 커질 때까지 더하기"
   ]
  },
  {
   "cell_type": "code",
   "execution_count": 107,
   "id": "ef94d8c5-153d-4e27-bc96-23a3d0d2b92c",
   "metadata": {},
   "outputs": [
    {
     "name": "stdout",
     "output_type": "stream",
     "text": [
      "139\n",
      "239\n"
     ]
    }
   ],
   "source": [
    "def solution(numbers, n):\n",
    "    result = 0\n",
    "    for i in range(len(numbers)):\n",
    "        if result <= n:\n",
    "            result += numbers[i]\n",
    "    return result\n",
    "print(solution([34, 5, 71, 29, 100, 34], 123))\n",
    "print(solution([58, 44, 27, 10, 100], 139))"
   ]
  },
  {
   "cell_type": "markdown",
   "id": "6d0ab638-9908-4afa-9937-095499f524fa",
   "metadata": {},
   "source": [
    "### 수열과 구간 쿼리 1"
   ]
  },
  {
   "cell_type": "code",
   "execution_count": 126,
   "id": "b5395211-d93f-49bd-b9a5-34be885a88dc",
   "metadata": {},
   "outputs": [
    {
     "name": "stdout",
     "output_type": "stream",
     "text": [
      "[1, 3, 4, 4, 4]\n"
     ]
    }
   ],
   "source": [
    "def solution(arr, queries):\n",
    "    for i in range(len(queries)):\n",
    "        s, e = queries[i]\n",
    "        for j in range(s, e+1):\n",
    "            arr[j] += 1\n",
    "    return arr\n",
    "print(solution([0, 1, 2, 3, 4],[[0, 1],[1, 2],[2, 3]]))"
   ]
  }
 ],
 "metadata": {
  "kernelspec": {
   "display_name": "Python [conda env:base] *",
   "language": "python",
   "name": "conda-base-py"
  },
  "language_info": {
   "codemirror_mode": {
    "name": "ipython",
    "version": 3
   },
   "file_extension": ".py",
   "mimetype": "text/x-python",
   "name": "python",
   "nbconvert_exporter": "python",
   "pygments_lexer": "ipython3",
   "version": "3.12.7"
  }
 },
 "nbformat": 4,
 "nbformat_minor": 5
}
