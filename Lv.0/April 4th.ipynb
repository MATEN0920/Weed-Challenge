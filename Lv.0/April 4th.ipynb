{
 "cells": [
  {
   "cell_type": "markdown",
   "id": "3f879379-a17a-41cd-83ea-6b07878b598c",
   "metadata": {},
   "source": [
    "# Day 7"
   ]
  },
  {
   "cell_type": "markdown",
   "id": "44701f5d-15b8-460a-8ac4-0d1f14c50ad6",
   "metadata": {},
   "source": [
    "### 수열과 구간 쿼리 4"
   ]
  },
  {
   "cell_type": "code",
   "execution_count": 23,
   "id": "db4a12f1-9a4d-4b61-8d1f-073679e65464",
   "metadata": {},
   "outputs": [
    {
     "name": "stdout",
     "output_type": "stream",
     "text": [
      "[3, 2, 4, 6, 4]\n"
     ]
    }
   ],
   "source": [
    "def solution(arr, queries):\n",
    "    result = []\n",
    "    for i in range(len(queries)):\n",
    "        s = queries[i][0]\n",
    "        e = queries[i][1]\n",
    "        k = queries[i][2]\n",
    "        for j in range(s,e+1):\n",
    "            if j % k == 0:\n",
    "                arr[j] += 1\n",
    "    return arr\n",
    "\n",
    "print(solution([0, 1, 2, 4, 3],[[0, 4, 1],[0, 3, 2],[0, 3, 3]]))"
   ]
  },
  {
   "cell_type": "markdown",
   "id": "eee5f977-3a07-42f7-ad57-84ead2765176",
   "metadata": {},
   "source": [
    "### 배열 만들기 2"
   ]
  },
  {
   "cell_type": "code",
   "execution_count": 100,
   "id": "894b3a9e-a0a3-44e1-9f46-59e3c9822f7d",
   "metadata": {},
   "outputs": [
    {
     "name": "stdout",
     "output_type": "stream",
     "text": [
      "[0, 5, 50, 55]\n",
      "[500, 505, 550, 555, 5000, 5005, 5050, 5055, 5500, 5505, 5550, 5555]\n"
     ]
    }
   ],
   "source": [
    "def solution(l, r):\n",
    "    result = []\n",
    "    for i in range(l, r + 1):\n",
    "        i_str = str(i)\n",
    "        if all(ch in ['0', '5'] for ch in i_str):\n",
    "            result.append(i)\n",
    "    if not result:\n",
    "        return [-1]\n",
    "    return result\n",
    "print(solution(0,111))\n",
    "print(solution(100,10000))"
   ]
  },
  {
   "cell_type": "markdown",
   "id": "6c9e7aa9-d361-4a56-8ac7-d818bdf5f86b",
   "metadata": {},
   "source": [
    "### 카운트 업"
   ]
  },
  {
   "cell_type": "code",
   "execution_count": 103,
   "id": "7d52d208-887a-4127-b50f-9fd558565613",
   "metadata": {},
   "outputs": [
    {
     "name": "stdout",
     "output_type": "stream",
     "text": [
      "[3, 4, 5, 6, 7, 8, 9, 10]\n"
     ]
    }
   ],
   "source": [
    "def solution(start_num, end_num):\n",
    "    result = []\n",
    "    for i in range(start_num, end_num + 1):\n",
    "        result.append(i)\n",
    "    return result\n",
    "print(solution(3,10))"
   ]
  },
  {
   "cell_type": "markdown",
   "id": "e8516728-daad-4cb0-94f1-802dda086aed",
   "metadata": {},
   "source": [
    "### 콜라츠 수열 만들기"
   ]
  },
  {
   "cell_type": "code",
   "execution_count": 122,
   "id": "2850f496-90ac-4034-8c1f-9fae58bf0096",
   "metadata": {},
   "outputs": [
    {
     "name": "stdout",
     "output_type": "stream",
     "text": [
      "[10, 5.0, 16.0, 8.0, 4.0, 2.0, 1]\n"
     ]
    }
   ],
   "source": [
    "def solution(n):\n",
    "    result = []\n",
    "    while n != 1 :\n",
    "        result.append(n)\n",
    "        if n % 2 == 0:\n",
    "            n = n / 2\n",
    "        else:\n",
    "            n = 3 * n + 1\n",
    "    result.append(1)\n",
    "    return result\n",
    "print(solution(10))"
   ]
  },
  {
   "cell_type": "markdown",
   "id": "5cda441d-b2e6-4111-bf73-b2c361dfbf43",
   "metadata": {},
   "source": [
    "### 배열 만들기 4"
   ]
  },
  {
   "cell_type": "code",
   "execution_count": 179,
   "id": "f3f48aba-7f89-461b-8eba-49abfea4e757",
   "metadata": {},
   "outputs": [
    {
     "name": "stdout",
     "output_type": "stream",
     "text": [
      "[1, 2, 3]\n"
     ]
    }
   ],
   "source": [
    "def solution(arr):\n",
    "    stk = []\n",
    "    i = 0\n",
    "    while i < len(arr):\n",
    "        if not stk or stk[-1] < arr[i]:\n",
    "            stk.append(arr[i])\n",
    "            i += 1\n",
    "        elif stk[-1] > arr[i]:\n",
    "            stk.pop()\n",
    "        else:\n",
    "            i += 1\n",
    "    return stk\n",
    "print(solution([1, 4, 2, 5, 3]))"
   ]
  },
  {
   "cell_type": "markdown",
   "id": "36e1af3f-eac5-4303-9f2c-601c2002b8e8",
   "metadata": {},
   "source": [
    "# Day 8"
   ]
  },
  {
   "cell_type": "markdown",
   "id": "f00e900f-42be-423d-b7e2-be8283817d10",
   "metadata": {},
   "source": [
    "### 간단한 논리 연산"
   ]
  },
  {
   "cell_type": "code",
   "execution_count": 185,
   "id": "90bb521f-6201-4566-9e62-0a03d2226554",
   "metadata": {},
   "outputs": [
    {
     "name": "stdout",
     "output_type": "stream",
     "text": [
      "True\n",
      "False\n"
     ]
    }
   ],
   "source": [
    "def solution(x1, x2, x3, x4):\n",
    "    x5 = x1 or x2\n",
    "    x6 = x3 or x4\n",
    "    x7 = x5 and x6\n",
    "    return x7\n",
    "print(solution(False,True,True,True))\n",
    "print(solution(True,False,False,False))"
   ]
  },
  {
   "cell_type": "markdown",
   "id": "c6288af1-dea0-4cef-9e62-18faff1984f8",
   "metadata": {},
   "source": [
    "### 주사위 게임 3"
   ]
  },
  {
   "cell_type": "code",
   "execution_count": 206,
   "id": "0721a36f-427e-45ff-83d0-58af07c180a9",
   "metadata": {},
   "outputs": [
    {
     "name": "stdout",
     "output_type": "stream",
     "text": [
      "2222\n",
      "1681\n",
      "27\n",
      "30\n",
      "1\n"
     ]
    }
   ],
   "source": [
    "def solution(a,b,c,d):\n",
    "    if a == b == c == d:\n",
    "        return 1111*a\n",
    "        \n",
    "    elif a == b == c != d:\n",
    "        return (10*a+d)*(10*a+d)\n",
    "    elif a == b == d != c:\n",
    "        return (10*a+c)*(10*a+c)\n",
    "    elif a == d == c != b:\n",
    "        return (10*a+b)*(10*a+b)\n",
    "    elif d == b == c != a:\n",
    "        return (10*b+a)*(10*b+a)\n",
    "        \n",
    "    elif a == b != c == d:\n",
    "        return (a+c)*abs(a-c)\n",
    "    elif a == c != b == d:\n",
    "        return (a+b)*abs(a-b)\n",
    "    elif a == d != b == c:\n",
    "        return (a+c)*abs(a-c)\n",
    "\n",
    "    elif a == b:\n",
    "        return c*d\n",
    "    elif a == c:\n",
    "        return b*d\n",
    "    elif a == d:\n",
    "        return b*c\n",
    "    elif b == c:\n",
    "        return a*d\n",
    "    elif b == d:\n",
    "        return a*c\n",
    "    elif c == d:\n",
    "        return a*b\n",
    "    \n",
    "    elif a != b != c != d:\n",
    "        return min(a,b,c,d)\n",
    "print(solution(2,2,2,2))\n",
    "print(solution(4,4,4,1))\n",
    "print(solution(6,6,3,3))\n",
    "print(solution(2,5,2,6))\n",
    "print(solution(1,2,3,4))"
   ]
  },
  {
   "cell_type": "markdown",
   "id": "ee3b39cb-33f6-4b47-992c-5f549ce20bf9",
   "metadata": {},
   "source": [
    "### 글자 이어 붙여 문자열 만들기"
   ]
  },
  {
   "cell_type": "code",
   "execution_count": 225,
   "id": "72c32673-a5c4-45c0-ab9f-4972898e2584",
   "metadata": {},
   "outputs": [
    {
     "name": "stdout",
     "output_type": "stream",
     "text": [
      "programmers\n"
     ]
    }
   ],
   "source": [
    "def solution(my_string, index_list):\n",
    "    result = \"\"\n",
    "    for i in range(len(index_list)):\n",
    "        result += my_string[index_list[i]]\n",
    "    return result\n",
    "print(solution(\"cvsgiorszzzmrpaqpe\", [16, 6, 5, 3, 12, 14, 11, 11, 17, 12, 7]))"
   ]
  },
  {
   "cell_type": "markdown",
   "id": "78434014-9c55-4637-aff1-bf7f8025ec6a",
   "metadata": {},
   "source": [
    "### 9로 나눈 나머지"
   ]
  },
  {
   "cell_type": "code",
   "execution_count": 236,
   "id": "e26becf8-5d72-4c31-86a4-8ece0ea85148",
   "metadata": {},
   "outputs": [
    {
     "name": "stdout",
     "output_type": "stream",
     "text": [
      "6\n",
      "2\n"
     ]
    }
   ],
   "source": [
    "def solution(number):\n",
    "    number_str = str(number)\n",
    "    num = int()\n",
    "    for i in range(len(number_str)):\n",
    "        num += int(number_str[i])\n",
    "    return num%9\n",
    "print(solution(123))\n",
    "print(solution(78720646226947352489))"
   ]
  },
  {
   "cell_type": "markdown",
   "id": "5a8180ae-f12c-41a2-bb24-37050fdcc13d",
   "metadata": {},
   "source": [
    "### 문자열 여러 번 뒤집기"
   ]
  },
  {
   "cell_type": "code",
   "execution_count": 249,
   "id": "1b46a1d4-fbdc-403d-ae02-de58192a889f",
   "metadata": {},
   "outputs": [
    {
     "name": "stdout",
     "output_type": "stream",
     "text": [
      "programmers\n"
     ]
    }
   ],
   "source": [
    "def solution(my_string, queries):\n",
    "    my_string = list(my_string)\n",
    "    for i, j in queries:\n",
    "        my_string[i:j+1] = my_string[i:j+1][::-1]\n",
    "    result = \"\".join(my_string)\n",
    "    return result\n",
    "print(solution(\"rermgorpsam\", [[2, 3], [0, 7], [5, 9], [6, 10]]))"
   ]
  }
 ],
 "metadata": {
  "kernelspec": {
   "display_name": "Python [conda env:base] *",
   "language": "python",
   "name": "conda-base-py"
  },
  "language_info": {
   "codemirror_mode": {
    "name": "ipython",
    "version": 3
   },
   "file_extension": ".py",
   "mimetype": "text/x-python",
   "name": "python",
   "nbconvert_exporter": "python",
   "pygments_lexer": "ipython3",
   "version": "3.12.7"
  }
 },
 "nbformat": 4,
 "nbformat_minor": 5
}
