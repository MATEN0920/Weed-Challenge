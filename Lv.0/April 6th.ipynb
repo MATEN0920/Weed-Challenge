{
 "cells": [
  {
   "cell_type": "markdown",
   "id": "b6c84367-fc29-47db-807d-8f0faba6761a",
   "metadata": {},
   "source": [
    "# Day 10"
   ]
  },
  {
   "cell_type": "markdown",
   "id": "ff68f05c-cc3f-451e-a7a1-8bf8bbf65350",
   "metadata": {},
   "source": [
    "### 문자열의 앞의 n글자"
   ]
  },
  {
   "cell_type": "code",
   "execution_count": 3,
   "id": "f07f6a51-29df-48a2-bf51-8cf6929a199b",
   "metadata": {},
   "outputs": [
    {
     "name": "stdout",
     "output_type": "stream",
     "text": [
      "ProgrammerS\n"
     ]
    }
   ],
   "source": [
    "def solution(my_string, n):\n",
    "    return my_string[:n]\n",
    "print(solution(\"ProgrammerS123\",11))"
   ]
  },
  {
   "cell_type": "markdown",
   "id": "db1f8ad9-2aab-4c93-be9f-14f9b4f155ae",
   "metadata": {},
   "source": [
    "### 접두사인지 확인하기"
   ]
  },
  {
   "cell_type": "code",
   "execution_count": 8,
   "id": "cf2ba694-0b4a-40cb-8d8c-1369a2b592d6",
   "metadata": {},
   "outputs": [
    {
     "name": "stdout",
     "output_type": "stream",
     "text": [
      "1\n",
      "0\n"
     ]
    }
   ],
   "source": [
    "def solution(my_string, is_suffix):\n",
    "    result = []\n",
    "    for i in range(len(my_string)):\n",
    "        result.append(my_string[:i])\n",
    "    if is_suffix in result:\n",
    "        return 1\n",
    "    else:\n",
    "        return 0\n",
    "print(solution(\"banana\",\"ban\"))\n",
    "print(solution(\"banana\",\"bananan\"))"
   ]
  },
  {
   "cell_type": "markdown",
   "id": "4773e99d-49ad-44b6-a109-09bdb5e8cfdf",
   "metadata": {},
   "source": [
    "### 문자열 뒤집기"
   ]
  },
  {
   "cell_type": "code",
   "execution_count": 45,
   "id": "badef8b2-be26-48de-ab93-c4c527f549b0",
   "metadata": {},
   "outputs": [
    {
     "name": "stdout",
     "output_type": "stream",
     "text": [
      "ProgrammerS123\n"
     ]
    }
   ],
   "source": [
    "def solution(my_string, s, e):\n",
    "    return my_string[:s] + my_string[s:e+1][::-1] + my_string[e+1:]\n",
    "print(solution(\"Progra21Sremm3\",6,12))"
   ]
  },
  {
   "cell_type": "markdown",
   "id": "74795a33-f496-4d3b-8d61-3d50737d4dc0",
   "metadata": {},
   "source": [
    "### 세로 읽기"
   ]
  },
  {
   "cell_type": "code",
   "execution_count": 90,
   "id": "58e7c2dd-75cf-433a-96ab-6ce9ef12e96c",
   "metadata": {},
   "outputs": [
    {
     "name": "stdout",
     "output_type": "stream",
     "text": [
      "happy\n",
      "programmers\n"
     ]
    }
   ],
   "source": [
    "def solution(my_string, m, c):\n",
    "    result = \"\"\n",
    "    for i in range(len(my_string) // m):\n",
    "        result = result + my_string[m*i+c-1]\n",
    "    return result\n",
    "print(solution(\"ihrhbakrfpndopljhygc\",4,2))\n",
    "print(solution(\"programmers\",1,1))"
   ]
  },
  {
   "cell_type": "markdown",
   "id": "34d8a1c5-5e43-4b8d-af9a-d75ae0a314c8",
   "metadata": {},
   "source": [
    "### qr code"
   ]
  },
  {
   "cell_type": "code",
   "execution_count": 93,
   "id": "c1e7fd87-4d5e-4e67-b41b-cce7d244ce57",
   "metadata": {},
   "outputs": [
    {
     "name": "stdout",
     "output_type": "stream",
     "text": [
      "jerry\n"
     ]
    }
   ],
   "source": [
    "def solution(q, r, code):\n",
    "    result = \"\"\n",
    "    for i in range(len(code)):\n",
    "        if i % q == r:\n",
    "            result = result + code[i]\n",
    "    return result\n",
    "print(solution(3,1,\"qjnwezgrpirldywt\"))"
   ]
  }
 ],
 "metadata": {
  "kernelspec": {
   "display_name": "Python [conda env:base] *",
   "language": "python",
   "name": "conda-base-py"
  },
  "language_info": {
   "codemirror_mode": {
    "name": "ipython",
    "version": 3
   },
   "file_extension": ".py",
   "mimetype": "text/x-python",
   "name": "python",
   "nbconvert_exporter": "python",
   "pygments_lexer": "ipython3",
   "version": "3.12.7"
  }
 },
 "nbformat": 4,
 "nbformat_minor": 5
}
