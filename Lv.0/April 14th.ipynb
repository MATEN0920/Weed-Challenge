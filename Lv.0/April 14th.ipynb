{
 "cells": [
  {
   "cell_type": "markdown",
   "id": "fb3086a3-8501-41e6-bc60-8d80f4cd83cd",
   "metadata": {},
   "source": [
    "# Day 20"
   ]
  },
  {
   "cell_type": "markdown",
   "id": "82bf7eaa-5233-4cc4-86a4-9cbed29fab7a",
   "metadata": {},
   "source": [
    "### 배열의 길이를 2의 거듭제곱으로 만들기"
   ]
  },
  {
   "cell_type": "code",
   "execution_count": 15,
   "id": "3c4b390c-3cec-40a1-891e-646a3ee2046b",
   "metadata": {},
   "outputs": [
    {
     "name": "stdout",
     "output_type": "stream",
     "text": [
      "[1, 2, 3, 4, 5, 6, 0, 0]\n"
     ]
    }
   ],
   "source": [
    "def solution(arr):\n",
    "    result = []\n",
    "    a = len(arr)\n",
    "    i = 1\n",
    "    while i < a:\n",
    "        i *= 2\n",
    "    result = result + arr + [0] * (i-a)\n",
    "    return result\n",
    "print(solution([1, 2, 3, 4, 5, 6]))"
   ]
  },
  {
   "cell_type": "markdown",
   "id": "b965afad-08dd-42fc-bdab-c714f98478bd",
   "metadata": {},
   "source": [
    "### 배열 비교하기"
   ]
  },
  {
   "cell_type": "code",
   "execution_count": 24,
   "id": "ab0746c5-e36d-4cc1-8331-83149db50e5b",
   "metadata": {},
   "outputs": [
    {
     "name": "stdout",
     "output_type": "stream",
     "text": [
      "-1\n",
      "1\n",
      "0\n"
     ]
    }
   ],
   "source": [
    "def solution(arr1, arr2):\n",
    "    a, b = len(arr1), len(arr2)\n",
    "    if a > b:\n",
    "        return 1\n",
    "    elif a < b:\n",
    "        return -1\n",
    "    elif a == b:\n",
    "        if sum(arr1) > sum(arr2):\n",
    "            return 1\n",
    "        elif sum(arr1) < sum(arr2):\n",
    "            return -1\n",
    "        else:\n",
    "            return 0\n",
    "print(solution([49, 13],[70, 11, 2]))\n",
    "print(solution([100, 17, 84, 1],[55, 12, 65, 36]))\n",
    "print(solution([1, 2, 3, 4, 5],[3, 3, 3, 3, 3]))"
   ]
  },
  {
   "cell_type": "markdown",
   "id": "c79762b6-49c6-40ba-b8ad-45539bbd48e1",
   "metadata": {},
   "source": [
    "### 문자열 묶기"
   ]
  },
  {
   "cell_type": "code",
   "execution_count": 49,
   "id": "3789a795-a92c-4a8d-88d4-634d6cad1139",
   "metadata": {},
   "outputs": [
    {
     "name": "stdout",
     "output_type": "stream",
     "text": [
      "2\n"
     ]
    }
   ],
   "source": [
    "def solution(strArr):\n",
    "    lenArr = []\n",
    "    for text in strArr:\n",
    "        lenArr.append(len(text))\n",
    "    freq = {}\n",
    "    for num in lenArr:\n",
    "        if num in freq:\n",
    "            freq[num] += 1\n",
    "        else:\n",
    "            freq[num] = 1\n",
    "    return max(freq.values())\n",
    "print(solution([\"a\",\"bc\",\"d\",\"efg\",\"hi\"]))"
   ]
  },
  {
   "cell_type": "markdown",
   "id": "e2eb461e-460c-431a-8a40-cad017f2a564",
   "metadata": {},
   "source": [
    "### 배열의 길이에 따라 다른 연산하기"
   ]
  },
  {
   "cell_type": "code",
   "execution_count": 62,
   "id": "fe701230-5925-4aaf-a96e-7f7ff84f65c8",
   "metadata": {},
   "outputs": [
    {
     "name": "stdout",
     "output_type": "stream",
     "text": [
      "[76, 12, 127, 276, 60]\n",
      "[444, 655, 666, 877]\n"
     ]
    }
   ],
   "source": [
    "def solution(arr, n):\n",
    "    if len(arr) % 2 == 0:\n",
    "        for i in range(1,len(arr),2):\n",
    "            arr[i] = arr[i] + n\n",
    "    else:\n",
    "        for j in range(0,len(arr),2):\n",
    "            arr[j] = arr[j] + n\n",
    "    return arr\n",
    "print(solution([49, 12, 100, 276, 33],27))\n",
    "print(solution([444, 555, 666, 777],100))"
   ]
  },
  {
   "cell_type": "markdown",
   "id": "fef3ef71-5ff7-45d5-af7f-7707f835a22f",
   "metadata": {},
   "source": [
    "### 뒤에서 5등까지"
   ]
  },
  {
   "cell_type": "code",
   "execution_count": 69,
   "id": "56c72258-4b8d-4c0e-8e74-2fd843f60ba8",
   "metadata": {},
   "outputs": [
    {
     "name": "stdout",
     "output_type": "stream",
     "text": [
      "[1, 4, 12, 14, 15]\n"
     ]
    }
   ],
   "source": [
    "def solution(num_list):\n",
    "    num_list = sorted(num_list)\n",
    "    return num_list[:5]\n",
    "print(solution([12, 4, 15, 46, 38, 1, 14]))"
   ]
  },
  {
   "cell_type": "markdown",
   "id": "3b06b9d1-14ff-4870-a6fa-aaa6754fafe2",
   "metadata": {},
   "source": [
    "# Day 21"
   ]
  },
  {
   "cell_type": "markdown",
   "id": "74eff87e-547e-4224-8a82-fd9004ce18bc",
   "metadata": {},
   "source": [
    "### 뒤에서 5등 위로"
   ]
  },
  {
   "cell_type": "code",
   "execution_count": 75,
   "id": "2bd3091a-5636-4f2a-97c0-4b5ced74f8d0",
   "metadata": {},
   "outputs": [
    {
     "name": "stdout",
     "output_type": "stream",
     "text": [
      "[15, 32, 38, 46, 56]\n"
     ]
    }
   ],
   "source": [
    "def solution(num_list):\n",
    "    num_list = sorted(num_list)\n",
    "    return num_list[5:]\n",
    "print(solution([12, 4, 15, 46, 38, 1, 14, 56, 32, 10]))"
   ]
  },
  {
   "cell_type": "markdown",
   "id": "8bcbe45c-ce5a-4768-bed8-5e24daf120f5",
   "metadata": {},
   "source": [
    "### 전국 대회 선발 고사"
   ]
  },
  {
   "cell_type": "code",
   "execution_count": 94,
   "id": "21e4ffc5-69b9-4862-bc64-4636c61b0dff",
   "metadata": {},
   "outputs": [
    {
     "name": "stdout",
     "output_type": "stream",
     "text": [
      "20403\n"
     ]
    }
   ],
   "source": [
    "def solution(rank, attendance):\n",
    "    lst = []\n",
    "    for i in range(len(attendance)):\n",
    "        if attendance[i] == True:\n",
    "            lst.append(rank[i])\n",
    "    a = min(lst)\n",
    "    lst.remove(a)\n",
    "    b = min(lst)\n",
    "    lst.remove(b)\n",
    "    c = min(lst)\n",
    "    lst.remove(c)\n",
    "    A = rank.index(a)\n",
    "    B = rank.index(b)\n",
    "    C = rank.index(c)\n",
    "    return 10000 * A + 100 * B + C\n",
    "print(solution([3, 7, 2, 5, 4, 6, 1],[False, True, True, True, True, False, False]))"
   ]
  },
  {
   "cell_type": "markdown",
   "id": "6d69b88f-b775-4468-b84a-37e9c4385c4a",
   "metadata": {},
   "source": [
    "### 정수 부분"
   ]
  },
  {
   "cell_type": "code",
   "execution_count": 97,
   "id": "46b31667-2a06-40f4-b68f-c7bd2abc09a9",
   "metadata": {},
   "outputs": [
    {
     "name": "stdout",
     "output_type": "stream",
     "text": [
      "1\n"
     ]
    }
   ],
   "source": [
    "def solution(flo):\n",
    "    return int(flo)\n",
    "print(solution(1.42))"
   ]
  },
  {
   "cell_type": "markdown",
   "id": "0fe7016b-f1b8-440b-b7d7-5d850544e558",
   "metadata": {},
   "source": [
    "### 문자열 정수의 합"
   ]
  },
  {
   "cell_type": "code",
   "execution_count": 100,
   "id": "7739a2e5-75b8-4eb8-96cb-caa8ad2abd98",
   "metadata": {},
   "outputs": [
    {
     "name": "stdout",
     "output_type": "stream",
     "text": [
      "45\n"
     ]
    }
   ],
   "source": [
    "def solution(num_str):\n",
    "    lst = []\n",
    "    num_lst = list(num_str)\n",
    "    for i in range(len(num_lst)):\n",
    "        lst.append(int(num_lst[i]))\n",
    "    return sum(lst)\n",
    "print(solution(\"123456789\"))"
   ]
  },
  {
   "cell_type": "markdown",
   "id": "70c815da-a395-42c7-ac5e-48def00a11e6",
   "metadata": {},
   "source": [
    "### 문자열을 정수로 변환하기"
   ]
  },
  {
   "cell_type": "code",
   "execution_count": 105,
   "id": "bc510ceb-46ea-4dc0-988a-38e1af1ab8e0",
   "metadata": {},
   "outputs": [
    {
     "name": "stdout",
     "output_type": "stream",
     "text": [
      "10\n"
     ]
    }
   ],
   "source": [
    "def solution(n_str):\n",
    "    return int(n_str)\n",
    "print(solution(\"10\"))"
   ]
  }
 ],
 "metadata": {
  "kernelspec": {
   "display_name": "Python [conda env:base] *",
   "language": "python",
   "name": "conda-base-py"
  },
  "language_info": {
   "codemirror_mode": {
    "name": "ipython",
    "version": 3
   },
   "file_extension": ".py",
   "mimetype": "text/x-python",
   "name": "python",
   "nbconvert_exporter": "python",
   "pygments_lexer": "ipython3",
   "version": "3.12.7"
  }
 },
 "nbformat": 4,
 "nbformat_minor": 5
}
