{
 "cells": [
  {
   "cell_type": "markdown",
   "id": "6e6d1cfd-efc4-4148-9492-5f791c6190b9",
   "metadata": {},
   "source": [
    "# Day 24"
   ]
  },
  {
   "cell_type": "markdown",
   "id": "af2dd154-95ff-44fe-8653-d50be6e55d2e",
   "metadata": {},
   "source": [
    "### 커피 심부름"
   ]
  },
  {
   "cell_type": "code",
   "execution_count": 12,
   "id": "9e7d1f59-a13d-43fd-8e05-2da0313fe45e",
   "metadata": {},
   "outputs": [
    {
     "name": "stdout",
     "output_type": "stream",
     "text": [
      "19000\n",
      "13500\n"
     ]
    }
   ],
   "source": [
    "def solution(order):\n",
    "    result = 0\n",
    "    for coffee in order:\n",
    "        if coffee == \"iceamericano\" or coffee == \"americanoice\" or coffee == \"hotamericano\" or coffee == \"americanohot\" or coffee == \"americano\" or coffee == \"anything\":\n",
    "            result += 4500\n",
    "        elif coffee == \"icecafelatte\" or coffee == \"cafelatteice\" or coffee == \"hotcafelatte\" or coffee == \"cafelattehot\" or coffee == \"cafelatte\":\n",
    "            result += 5000\n",
    "    return result\n",
    "print(solution([\"cafelatte\", \"americanoice\", \"hotcafelatte\", \"anything\"]))\n",
    "print(solution([\"americanoice\", \"americano\", \"iceamericano\"]))"
   ]
  },
  {
   "cell_type": "markdown",
   "id": "21fe8655-ce22-489a-9bb4-5f57b2650e29",
   "metadata": {},
   "source": [
    "### 그림 확대"
   ]
  },
  {
   "cell_type": "code",
   "execution_count": 41,
   "id": "17eeeb45-2148-42d0-9f9f-d2f12a64f146",
   "metadata": {},
   "outputs": [
    {
     "name": "stdout",
     "output_type": "stream",
     "text": [
      "['..xxxx......xxxx..', '..xxxx......xxxx..', 'xx....xx..xx....xx', 'xx....xx..xx....xx', 'xx......xx......xx', 'xx......xx......xx', '..xx..........xx..', '..xx..........xx..', '....xx......xx....', '....xx......xx....', '......xx..xx......', '......xx..xx......', '........xx........', '........xx........']\n"
     ]
    }
   ],
   "source": [
    "def solution(picture, k):\n",
    "    result = []\n",
    "    for row in picture:\n",
    "        new_row = ''\n",
    "        for pixel in row:\n",
    "            new_row += k * pixel\n",
    "        for i in range(k):\n",
    "            result.append(new_row)\n",
    "            i += 1\n",
    "    return result\n",
    "print(solution([\".xx...xx.\", \"x..x.x..x\", \"x...x...x\", \".x.....x.\", \"..x...x..\", \"...x.x...\", \"....x....\"],2))"
   ]
  },
  {
   "cell_type": "markdown",
   "id": "7702b8cc-9520-4008-9097-ac1d80f979e9",
   "metadata": {},
   "source": [
    "### 조건에 맞게 수열 변환하기 3"
   ]
  },
  {
   "cell_type": "code",
   "execution_count": 46,
   "id": "92cbfc3f-96de-4dbc-b282-638e66480af6",
   "metadata": {},
   "outputs": [
    {
     "name": "stdout",
     "output_type": "stream",
     "text": [
      "[3, 6, 9, 300, 297, 294]\n"
     ]
    }
   ],
   "source": [
    "def solution(arr, k):\n",
    "    if k % 2 == 1:\n",
    "        for i in range(len(arr)):\n",
    "            arr[i] = arr[i] * k\n",
    "    else:\n",
    "        for i in range(len(arr)):\n",
    "            arr[i] = arr[i] + k\n",
    "    return arr\n",
    "print(solution([1, 2, 3, 100, 99, 98],3))"
   ]
  },
  {
   "cell_type": "markdown",
   "id": "6b682965-6fb3-4688-b4b7-90e3ea15641d",
   "metadata": {},
   "source": [
    "### l로 만들기"
   ]
  },
  {
   "cell_type": "code",
   "execution_count": 64,
   "id": "1ceacfe9-924e-4662-96eb-9c7b099fd461",
   "metadata": {},
   "outputs": [
    {
     "name": "stdout",
     "output_type": "stream",
     "text": [
      "lllllvwxyz\n"
     ]
    }
   ],
   "source": [
    "def solution(myString):\n",
    "    result = ''\n",
    "    for ch in myString:\n",
    "        if ch < \"l\":\n",
    "            result += \"l\"\n",
    "        else:\n",
    "            result += ch\n",
    "    return result\n",
    "print(solution(\"abcdevwxyz\"))"
   ]
  },
  {
   "cell_type": "markdown",
   "id": "cd5f31e1-4c9d-40d9-921d-aa9d6e2e6e9b",
   "metadata": {},
   "source": [
    "### 특별한 이차원 배열 1"
   ]
  },
  {
   "cell_type": "code",
   "execution_count": 81,
   "id": "c0bb79c5-c788-4fa8-8f47-0cc5ff4f09f3",
   "metadata": {},
   "outputs": [
    {
     "name": "stdout",
     "output_type": "stream",
     "text": [
      "[[1, 0, 0], [0, 1, 0], [0, 0, 1]]\n"
     ]
    }
   ],
   "source": [
    "def solution(n):\n",
    "    result = []\n",
    "    for _ in range(n):\n",
    "        result.append([0]*n)\n",
    "    for i in range(n):\n",
    "        result[i][i] = 1\n",
    "    return result\n",
    "print(solution(3))"
   ]
  },
  {
   "cell_type": "markdown",
   "id": "968791ef-4dff-4f9d-a65f-6ae04d2e54aa",
   "metadata": {},
   "source": [
    "# Day 25"
   ]
  },
  {
   "cell_type": "markdown",
   "id": "d69f5fd6-feea-4195-bb8b-14b11f163e23",
   "metadata": {},
   "source": [
    "### 정수를 나선형으로 배치하기"
   ]
  },
  {
   "cell_type": "code",
   "execution_count": 95,
   "id": "b0881bdb-bdbd-4dc5-aa01-0d2bfe5cddcf",
   "metadata": {},
   "outputs": [
    {
     "name": "stdout",
     "output_type": "stream",
     "text": [
      "[[1, 2, 3, 4], [12, 13, 14, 5], [11, 16, 15, 6], [10, 9, 8, 7]]\n"
     ]
    }
   ],
   "source": [
    "def solution(n):\n",
    "    result = []\n",
    "    for _ in range(n):\n",
    "        result.append([0]*n)\n",
    "    num = 1\n",
    "    top, bottom, left, right = 0, n-1, 0, n-1\n",
    "    while num <= n*n:\n",
    "        for i in range(left, right+1):\n",
    "            result[top][i] = num\n",
    "            num += 1\n",
    "        top += 1\n",
    "        for i in range(top, bottom+1):\n",
    "            result[i][right] = num\n",
    "            num += 1\n",
    "        right -= 1\n",
    "        for i in range(right, left-1, -1):\n",
    "            result[bottom][i] = num\n",
    "            num += 1\n",
    "        bottom -= 1\n",
    "        for i in range(bottom, top-1, -1):\n",
    "            result[i][left] = num\n",
    "            num += 1\n",
    "        left += 1\n",
    "    return result\n",
    "print(solution(4))"
   ]
  },
  {
   "cell_type": "markdown",
   "id": "60aa21e6-dfd3-4930-9d5c-9fad83eed971",
   "metadata": {},
   "source": [
    "### 특별한 이차원 배열 2"
   ]
  },
  {
   "cell_type": "code",
   "execution_count": 106,
   "id": "83b29ade-a2b8-453a-8ff3-0d73046c8bce",
   "metadata": {},
   "outputs": [
    {
     "name": "stdout",
     "output_type": "stream",
     "text": [
      "1\n",
      "0\n"
     ]
    }
   ],
   "source": [
    "def solution(arr):\n",
    "    n = len(arr)\n",
    "    for i in range(n):\n",
    "        for j in range(n):\n",
    "            if arr[i][j] != arr[j][i]:\n",
    "                return 0\n",
    "    return 1\n",
    "print(solution([[5, 192, 33], [192, 72, 95], [33, 95, 999]]))\n",
    "print(solution([[19, 498, 258, 587], [63, 93, 7, 754], [258, 7, 1000, 723], [587, 754, 723, 81]]))"
   ]
  },
  {
   "cell_type": "markdown",
   "id": "102b381a-ea34-4d15-9e39-c79baf08f7e9",
   "metadata": {},
   "source": [
    "### 정사각형으로 만들기"
   ]
  },
  {
   "cell_type": "code",
   "execution_count": 149,
   "id": "17e30664-2eb6-473d-895b-6c5483fb6e9f",
   "metadata": {},
   "outputs": [
    {
     "name": "stdout",
     "output_type": "stream",
     "text": [
      "[[572, 22, 37, 0], [287, 726, 384, 0], [85, 137, 292, 0], [487, 13, 876, 0]]\n",
      "[[57, 192, 534, 2], [9, 345, 192, 999], [0, 0, 0, 0], [0, 0, 0, 0]]\n"
     ]
    }
   ],
   "source": [
    "def solution(arr):\n",
    "    row, col = len(arr), len(arr[0])\n",
    "    if row > col:\n",
    "        for i in range(row):\n",
    "            arr[i].extend([0] * (row - col))\n",
    "    elif row < col:\n",
    "        for _ in range(col -row):\n",
    "            arr.append([0]*col)\n",
    "    return arr\n",
    "print(solution([[572, 22, 37], [287, 726, 384], [85, 137, 292], [487, 13, 876]]))\n",
    "print(solution([[57, 192, 534, 2], [9, 345, 192, 999]]))"
   ]
  },
  {
   "cell_type": "markdown",
   "id": "2651f689-baeb-4092-ae8a-c6e235bd4a97",
   "metadata": {},
   "source": [
    "### 이차원 배열 대각선 순회하기"
   ]
  },
  {
   "cell_type": "code",
   "execution_count": 154,
   "id": "b4311bf5-cac5-4cde-b78e-5df8aa9a8aaf",
   "metadata": {},
   "outputs": [
    {
     "name": "stdout",
     "output_type": "stream",
     "text": [
      "8\n"
     ]
    }
   ],
   "source": [
    "def solution(board, k):\n",
    "    result = 0\n",
    "    row, col = len(board), len(board[0])\n",
    "    for i in range(row):\n",
    "        for j in range(col):\n",
    "            if i+j < k+1:\n",
    "                result += board[i][j]\n",
    "    return result\n",
    "print(solution([[0, 1, 2],[1, 2, 3],[2, 3, 4],[3, 4, 5]],2))"
   ]
  }
 ],
 "metadata": {
  "kernelspec": {
   "display_name": "Python [conda env:base] *",
   "language": "python",
   "name": "conda-base-py"
  },
  "language_info": {
   "codemirror_mode": {
    "name": "ipython",
    "version": 3
   },
   "file_extension": ".py",
   "mimetype": "text/x-python",
   "name": "python",
   "nbconvert_exporter": "python",
   "pygments_lexer": "ipython3",
   "version": "3.12.7"
  }
 },
 "nbformat": 4,
 "nbformat_minor": 5
}
