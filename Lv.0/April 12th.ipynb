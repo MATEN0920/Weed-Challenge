{
 "cells": [
  {
   "cell_type": "markdown",
   "id": "3ee35080-5948-4d72-92c8-02c8ebd74001",
   "metadata": {},
   "source": [
    "# Day 18"
   ]
  },
  {
   "cell_type": "markdown",
   "id": "d6c3b87b-9aea-4da3-bef2-d978fc85bfec",
   "metadata": {},
   "source": [
    "### x 사이의 개수"
   ]
  },
  {
   "cell_type": "code",
   "execution_count": 11,
   "id": "c17c2de5-9616-42fd-8d0e-e3dc5e8229b5",
   "metadata": {},
   "outputs": [
    {
     "name": "stdout",
     "output_type": "stream",
     "text": [
      "[1, 2, 1, 0, 1, 0]\n",
      "[0, 3, 3, 3]\n"
     ]
    }
   ],
   "source": [
    "def solution(myString):\n",
    "    result = []\n",
    "    sp = myString.split(\"x\")\n",
    "    for i in range(len(sp)):\n",
    "        result.append(len(sp[i]))\n",
    "    return result\n",
    "print(solution(\"oxooxoxxox\"))\n",
    "print(solution(\"xabcxdefxghi\"))"
   ]
  },
  {
   "cell_type": "markdown",
   "id": "9230b5f7-3751-4b47-9213-4b13265491fe",
   "metadata": {},
   "source": [
    "### 문자열 잘라서 정렬하기"
   ]
  },
  {
   "cell_type": "code",
   "execution_count": 18,
   "id": "5dcc59e7-b252-450a-bff9-9caea86ff3cb",
   "metadata": {},
   "outputs": [
    {
     "name": "stdout",
     "output_type": "stream",
     "text": [
      "['aaaa', 'bbb', 'cc', 'd']\n"
     ]
    }
   ],
   "source": [
    "def solution(myString):\n",
    "    result = []\n",
    "    sp = myString.split(\"x\")\n",
    "    for s in sp:\n",
    "        if s != \"\":\n",
    "            result.append(s)\n",
    "    return sorted(result)\n",
    "print(solution(\"dxccxbbbxaaaa\"))"
   ]
  },
  {
   "cell_type": "markdown",
   "id": "532aef5b-334b-49cd-aa3c-1937a2004b89",
   "metadata": {},
   "source": [
    "### 간단한 식 계산하기"
   ]
  },
  {
   "cell_type": "code",
   "execution_count": 29,
   "id": "f18334a1-3fd2-4d7c-90ff-4a0dca8e56d2",
   "metadata": {},
   "outputs": [
    {
     "name": "stdout",
     "output_type": "stream",
     "text": [
      "-7777\n"
     ]
    }
   ],
   "source": [
    "def solution(binomial):\n",
    "    cal = binomial.split(\" \")\n",
    "    if cal[1] == \"+\":\n",
    "        return int(cal[0]) + int(cal[2])\n",
    "    elif cal[1] == \"-\":\n",
    "        return int(cal[0]) - int(cal[2])\n",
    "    elif cal[1] == \"*\":\n",
    "        return int(cal[0]) * int(cal[2])\n",
    "print(solution(\"0 - 7777\"))"
   ]
  },
  {
   "cell_type": "markdown",
   "id": "628eab08-44f1-4bbc-a596-2e493c8b6540",
   "metadata": {},
   "source": [
    "### 문자열 바꿔서 찾기"
   ]
  },
  {
   "cell_type": "code",
   "execution_count": 46,
   "id": "86de1fd7-30dd-42f4-b7d4-9eec24f3037a",
   "metadata": {},
   "outputs": [
    {
     "name": "stdout",
     "output_type": "stream",
     "text": [
      "1\n"
     ]
    }
   ],
   "source": [
    "def solution(myString, pat):\n",
    "    sp = myString.replace(\"A\",\"X\").replace(\"B\",\"A\").replace(\"X\",\"B\")\n",
    "    if pat in sp:\n",
    "        return 1\n",
    "    else:\n",
    "        return 0\n",
    "print(solution(\"ABBAA\",\"AABB\"))"
   ]
  },
  {
   "cell_type": "markdown",
   "id": "74a3eb2e-6e8c-4171-8627-ae3d14420029",
   "metadata": {},
   "source": [
    "### rny_string"
   ]
  },
  {
   "cell_type": "code",
   "execution_count": 49,
   "id": "dd0f62f9-4a79-4c98-af18-8658020b3fcc",
   "metadata": {},
   "outputs": [
    {
     "name": "stdout",
     "output_type": "stream",
     "text": [
      "rnasterpiece\n"
     ]
    }
   ],
   "source": [
    "def solution(rny_string):\n",
    "    return rny_string.replace(\"m\",\"rn\")\n",
    "print(solution(\"masterpiece\"))"
   ]
  }
 ],
 "metadata": {
  "kernelspec": {
   "display_name": "Python [conda env:base] *",
   "language": "python",
   "name": "conda-base-py"
  },
  "language_info": {
   "codemirror_mode": {
    "name": "ipython",
    "version": 3
   },
   "file_extension": ".py",
   "mimetype": "text/x-python",
   "name": "python",
   "nbconvert_exporter": "python",
   "pygments_lexer": "ipython3",
   "version": "3.12.7"
  }
 },
 "nbformat": 4,
 "nbformat_minor": 5
}
