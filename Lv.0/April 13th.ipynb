{
 "cells": [
  {
   "cell_type": "markdown",
   "id": "36402fc6-9547-4af6-bf5d-243041e1dd5a",
   "metadata": {},
   "source": [
    "# Day 19"
   ]
  },
  {
   "cell_type": "markdown",
   "id": "21f6d03f-6cd6-4af9-b2dd-b5611dbcd158",
   "metadata": {},
   "source": [
    "### 세 개의 구분자"
   ]
  },
  {
   "cell_type": "code",
   "execution_count": 29,
   "id": "4d4f4ec2-f7af-4844-801d-9213b9ce07fc",
   "metadata": {},
   "outputs": [
    {
     "name": "stdout",
     "output_type": "stream",
     "text": [
      "['onlettu', 'etom', 'to']\n"
     ]
    }
   ],
   "source": [
    "import re\n",
    "def solution(myStr):\n",
    "    result = re.split('[abc]', myStr)\n",
    "    result = [s for s in result if s]\n",
    "    return result if result else [\"EMPTY\"]\n",
    "\n",
    "print(solution(\"baconlettucetomato\"))"
   ]
  },
  {
   "cell_type": "markdown",
   "id": "080f75fd-2f8c-404d-8803-004c901ef56c",
   "metadata": {},
   "source": [
    "### 배열의 원소만큼 추가하기"
   ]
  },
  {
   "cell_type": "code",
   "execution_count": 32,
   "id": "9fdd9f95-da85-48dd-abde-9f38cc9bbf6a",
   "metadata": {},
   "outputs": [
    {
     "name": "stdout",
     "output_type": "stream",
     "text": [
      "[5, 5, 5, 5, 5, 1, 4, 4, 4, 4]\n"
     ]
    }
   ],
   "source": [
    "def solution(arr):\n",
    "    result = []\n",
    "    for i in range(len(arr)):\n",
    "        for j in range(arr[i]):\n",
    "            result.append(arr[i])\n",
    "    return result\n",
    "print(solution([5, 1, 4]))"
   ]
  },
  {
   "cell_type": "markdown",
   "id": "245a4783-16f2-4d61-a1ca-5e4cf0149034",
   "metadata": {},
   "source": [
    "### 빈 배열에 추가, 삭제하기"
   ]
  },
  {
   "cell_type": "code",
   "execution_count": 43,
   "id": "387d122d-a20a-4385-8e4f-65de85b51c33",
   "metadata": {},
   "outputs": [
    {
     "name": "stdout",
     "output_type": "stream",
     "text": [
      "[3, 3, 3, 3, 4, 4, 4, 4]\n"
     ]
    }
   ],
   "source": [
    "def solution(arr, flag):\n",
    "    result = []\n",
    "    for i in range(len(arr)):\n",
    "        if flag[i] == True:\n",
    "            for j in range(arr[i]):\n",
    "                result.append(arr[i])\n",
    "                result.append(arr[i])\n",
    "        elif flag[i] == False:\n",
    "            result = result[:-arr[i]]\n",
    "    return result\n",
    "print(solution([3, 2, 4, 1, 3],[True, False, True, False, False]))"
   ]
  },
  {
   "cell_type": "markdown",
   "id": "b40751dd-f841-4bca-a902-55f43361737a",
   "metadata": {},
   "source": [
    "### 배열 만들기 6"
   ]
  },
  {
   "cell_type": "code",
   "execution_count": 58,
   "id": "ac09d50f-42dc-4512-adc4-099970f61f53",
   "metadata": {},
   "outputs": [
    {
     "name": "stdout",
     "output_type": "stream",
     "text": [
      "[0, 1, 0]\n"
     ]
    }
   ],
   "source": [
    "def solution(arr):\n",
    "    result = []\n",
    "    for i in range(len(arr)):\n",
    "        if result == []:\n",
    "            result.append(arr[i])\n",
    "        else:\n",
    "            if result[-1] == arr[i]:\n",
    "                result.pop()\n",
    "            elif result[-1] != arr[i]:\n",
    "                result.append(arr[i])\n",
    "    if result == []: return [-1]\n",
    "    return result\n",
    "print(solution([0, 1, 1, 1, 0]))"
   ]
  },
  {
   "cell_type": "markdown",
   "id": "38c340a8-816a-435b-af67-7ffa32f21434",
   "metadata": {},
   "source": [
    "### 무작위로 k개의 수 뽑기"
   ]
  },
  {
   "cell_type": "code",
   "execution_count": 63,
   "id": "f7ab172b-1a0a-4118-a1bf-03576893d377",
   "metadata": {},
   "outputs": [
    {
     "name": "stdout",
     "output_type": "stream",
     "text": [
      "[0, 1, 2]\n",
      "[0, 1, -1, -1]\n"
     ]
    }
   ],
   "source": [
    "def solution(arr, k):\n",
    "    result = []\n",
    "    seen = []\n",
    "    for num in arr:\n",
    "        if num not in seen:\n",
    "            result.append(num)\n",
    "            seen.append(num)\n",
    "        if len(result) == k:\n",
    "            break\n",
    "    while len(result) < k:\n",
    "        result.append(-1)\n",
    "    return result\n",
    "print(solution([0, 1, 1, 2, 2, 3],3))\n",
    "print(solution([0, 1, 1, 1, 1],4))"
   ]
  }
 ],
 "metadata": {
  "kernelspec": {
   "display_name": "Python [conda env:base] *",
   "language": "python",
   "name": "conda-base-py"
  },
  "language_info": {
   "codemirror_mode": {
    "name": "ipython",
    "version": 3
   },
   "file_extension": ".py",
   "mimetype": "text/x-python",
   "name": "python",
   "nbconvert_exporter": "python",
   "pygments_lexer": "ipython3",
   "version": "3.12.7"
  }
 },
 "nbformat": 4,
 "nbformat_minor": 5
}
