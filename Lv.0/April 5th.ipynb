{
 "cells": [
  {
   "cell_type": "markdown",
   "id": "6e49065f-9164-4aa2-9eaa-e4b142a4853b",
   "metadata": {},
   "source": [
    "# Day 9"
   ]
  },
  {
   "cell_type": "markdown",
   "id": "4a0ad89b-c19d-46c6-8816-fc56b600a930",
   "metadata": {},
   "source": [
    "### 배열 만들기 5"
   ]
  },
  {
   "cell_type": "code",
   "execution_count": 8,
   "id": "5fa4fdbe-c203-4b2c-bf0a-96d016c276e7",
   "metadata": {},
   "outputs": [
    {
     "name": "stdout",
     "output_type": "stream",
     "text": [
      "[56789, 99999]\n"
     ]
    }
   ],
   "source": [
    "def solution(intStrs, k, s, l):\n",
    "    result = []\n",
    "    for i in range(len(intStrs)):\n",
    "        a = int(intStrs[i][s:s+l])\n",
    "        if a > k:\n",
    "            result.append(a)\n",
    "    return result\n",
    "print(solution([\"0123456789\",\"9876543210\",\"9999999999999\"], 50000, 5, 5))"
   ]
  },
  {
   "cell_type": "markdown",
   "id": "0f2ff2d2-883b-4023-82c4-1aed767c1a4c",
   "metadata": {},
   "source": [
    "### 부분 문자열 이어 붙여 문자열 만들기"
   ]
  },
  {
   "cell_type": "code",
   "execution_count": 29,
   "id": "fe33d290-1b54-4eea-a346-354eae85531f",
   "metadata": {},
   "outputs": [
    {
     "name": "stdout",
     "output_type": "stream",
     "text": [
      "programmers\n"
     ]
    }
   ],
   "source": [
    "def solution(my_strings, parts):\n",
    "    result = \"\"\n",
    "    for i in range(len(my_strings)):\n",
    "        strings = str(my_strings[i])\n",
    "        a = parts[i][0]\n",
    "        b = parts[i][1]\n",
    "        result = result + strings[a:b+1]\n",
    "    return result\n",
    "print(solution([\"progressive\", \"hamburger\", \"hammer\", \"ahocorasick\"],[[0, 4], [1, 2], [3, 5], [7, 7]]))"
   ]
  },
  {
   "cell_type": "markdown",
   "id": "7618fbc8-dd43-4570-8068-5d4477b2860e",
   "metadata": {},
   "source": [
    "### 문자열의 뒤의 n글자"
   ]
  },
  {
   "cell_type": "code",
   "execution_count": 32,
   "id": "fc44e60a-c9b2-4693-b2e5-dfb64cdc2a37",
   "metadata": {},
   "outputs": [
    {
     "name": "stdout",
     "output_type": "stream",
     "text": [
      "grammerS123\n"
     ]
    }
   ],
   "source": [
    "def solution(my_string, n):\n",
    "    result = \"\"\n",
    "    for i in range(len(my_string)):\n",
    "        result = my_string[len(my_string)-n:]\n",
    "    return result\n",
    "print(solution(\"ProgrammerS123\", 11))"
   ]
  },
  {
   "cell_type": "markdown",
   "id": "2f1ed16d-223c-4b8b-ba45-bc5f128a2c4a",
   "metadata": {},
   "source": [
    "### 접미사 배열"
   ]
  },
  {
   "cell_type": "code",
   "execution_count": 51,
   "id": "16b5f8f4-609e-449e-95dd-7d6760ed23b3",
   "metadata": {},
   "outputs": [
    {
     "name": "stdout",
     "output_type": "stream",
     "text": [
      "['a', 'ana', 'anana', 'banana', 'na', 'nana']\n"
     ]
    }
   ],
   "source": [
    "def solution(my_string):\n",
    "    result = []\n",
    "    for i in range(len(my_string)):\n",
    "        result.append(my_string[-i:])\n",
    "    return sorted(result)\n",
    "print(solution('banana'))"
   ]
  },
  {
   "cell_type": "markdown",
   "id": "72aeb685-0957-452d-b909-38d77008b607",
   "metadata": {},
   "source": [
    "### 접미사인지 확인하기"
   ]
  },
  {
   "cell_type": "code",
   "execution_count": 56,
   "id": "5cdd523d-29c8-46af-a434-ddcb48f78d49",
   "metadata": {},
   "outputs": [
    {
     "name": "stdout",
     "output_type": "stream",
     "text": [
      "1\n",
      "0\n"
     ]
    }
   ],
   "source": [
    "def solution(my_string, is_suffix):\n",
    "    result = []\n",
    "    for i in range(len(my_string)):\n",
    "        result.append(my_string[-i:])\n",
    "    if is_suffix in result:\n",
    "        return 1\n",
    "    else:\n",
    "        return 0\n",
    "print(solution(\"banana\",\"ana\"))\n",
    "print(solution(\"banana\",\"nan\"))"
   ]
  }
 ],
 "metadata": {
  "kernelspec": {
   "display_name": "Python [conda env:base] *",
   "language": "python",
   "name": "conda-base-py"
  },
  "language_info": {
   "codemirror_mode": {
    "name": "ipython",
    "version": 3
   },
   "file_extension": ".py",
   "mimetype": "text/x-python",
   "name": "python",
   "nbconvert_exporter": "python",
   "pygments_lexer": "ipython3",
   "version": "3.12.7"
  }
 },
 "nbformat": 4,
 "nbformat_minor": 5
}
