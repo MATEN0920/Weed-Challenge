{
 "cells": [
  {
   "cell_type": "markdown",
   "id": "9ce08b22-8ba7-4e7c-9c08-1312cb86d0c6",
   "metadata": {},
   "source": [
    "### 두 개 뽑아서 더하기"
   ]
  },
  {
   "cell_type": "code",
   "execution_count": 2,
   "id": "23deae4f-6ef7-4b64-9294-97211811dc67",
   "metadata": {},
   "outputs": [
    {
     "name": "stdout",
     "output_type": "stream",
     "text": [
      "[2, 3, 4, 5, 6, 7]\n"
     ]
    }
   ],
   "source": [
    "def solution(numbers):\n",
    "    result = []\n",
    "    for i in range(len(numbers)):\n",
    "        for j in range(i+1,len(numbers)):\n",
    "            add = numbers[i] + numbers[j]\n",
    "            if add not in result:\n",
    "                result.append(add)\n",
    "    return sorted(result)\n",
    "print(solution([2,1,3,4,1]))"
   ]
  },
  {
   "cell_type": "markdown",
   "id": "a62523e2-16fc-4f60-9c26-dc6d6bd9e11e",
   "metadata": {},
   "source": [
    "### 숫자 문자열과 영단어"
   ]
  },
  {
   "cell_type": "code",
   "execution_count": 25,
   "id": "46aac4a8-673c-4d85-bb6d-a183be6a019e",
   "metadata": {},
   "outputs": [
    {
     "name": "stdout",
     "output_type": "stream",
     "text": [
      "1478\n"
     ]
    }
   ],
   "source": [
    "def solution(s):\n",
    "    num = {'zero':0, 'one':1, 'two':2, 'three':3, 'four':4, 'five':5, 'six':6, 'seven':7, 'eight':8, 'nine':9}\n",
    "    for word,num in num.items():\n",
    "        s = s.replace(word, str(num))\n",
    "    return int(s)\n",
    "print(solution(\"one4seveneight\"))"
   ]
  },
  {
   "cell_type": "markdown",
   "id": "ea3f0817-732e-468e-a9c9-31a50502c189",
   "metadata": {},
   "source": [
    "### 푸드 파이트 대회"
   ]
  },
  {
   "cell_type": "code",
   "execution_count": 56,
   "id": "81e6ff8a-7ef4-4d20-85d4-8e61f506dc2b",
   "metadata": {},
   "outputs": [
    {
     "name": "stdout",
     "output_type": "stream",
     "text": [
      "1223330333221\n",
      "111303111\n"
     ]
    }
   ],
   "source": [
    "def solution(food):\n",
    "    result = ''\n",
    "    for i in range(1, len(food)):\n",
    "        count = food[i] // 2\n",
    "        result += str(i) * count\n",
    "    return result + '0' + result[::-1]\n",
    "print(solution([1, 3, 4, 6]))\n",
    "print(solution([1, 7, 1, 2]))"
   ]
  },
  {
   "cell_type": "markdown",
   "id": "706421a5-918f-4155-a162-9359d6088efb",
   "metadata": {},
   "source": [
    "### 콜라 문제"
   ]
  },
  {
   "cell_type": "code",
   "execution_count": 73,
   "id": "d6405265-7b41-4797-98d5-732ed5559dc4",
   "metadata": {},
   "outputs": [
    {
     "name": "stdout",
     "output_type": "stream",
     "text": [
      "19\n"
     ]
    }
   ],
   "source": [
    "def solution(a, b, n):\n",
    "    result = 0\n",
    "    while n >= a:\n",
    "        take = n // a * b\n",
    "        result += take\n",
    "        n = (n % a) + take\n",
    "    return result\n",
    "print(solution(2,1,20))"
   ]
  },
  {
   "cell_type": "markdown",
   "id": "fb49ed7a-0f54-4627-ac05-45e3f8bff7b3",
   "metadata": {},
   "source": [
    "### 문자열 내 마음대로 정렬하기"
   ]
  },
  {
   "cell_type": "code",
   "execution_count": 84,
   "id": "32285839-49ab-4046-bac8-f2e572073734",
   "metadata": {},
   "outputs": [
    {
     "name": "stdout",
     "output_type": "stream",
     "text": [
      "['car', 'bed', 'sun']\n"
     ]
    }
   ],
   "source": [
    "def solution(strings, n):\n",
    "    result = []\n",
    "    for i in range(len(strings)):\n",
    "        strings[i] = strings[i][n] + strings[i]\n",
    "    strings.sort()\n",
    "    for i in range(len(strings)):\n",
    "        result.append(strings[i][1:])\n",
    "    return result\n",
    "print(solution([\"sun\", \"bed\", \"car\"],1))"
   ]
  },
  {
   "cell_type": "markdown",
   "id": "699ac71d-37d8-43d6-80d1-07de06eb5b9e",
   "metadata": {},
   "source": [
    "### 명예의 전당(1)"
   ]
  },
  {
   "cell_type": "code",
   "execution_count": 99,
   "id": "ed1ebb99-b7aa-4aee-a46b-bebec2c05d4c",
   "metadata": {},
   "outputs": [
    {
     "name": "stdout",
     "output_type": "stream",
     "text": [
      "[10, 10, 10, 20, 20, 100, 100]\n"
     ]
    }
   ],
   "source": [
    "def solution(k, score):\n",
    "    result = []\n",
    "    honor = []\n",
    "    for i in range(len(score)):\n",
    "        honor.append(score[i])\n",
    "        if len(honor) == k+1:\n",
    "            honor.remove(min(honor))\n",
    "        result.append(min(honor))\n",
    "    return result\n",
    "print(solution(3,[10, 100, 20, 150, 1, 100, 200]))"
   ]
  }
 ],
 "metadata": {
  "kernelspec": {
   "display_name": "Python [conda env:base] *",
   "language": "python",
   "name": "conda-base-py"
  },
  "language_info": {
   "codemirror_mode": {
    "name": "ipython",
    "version": 3
   },
   "file_extension": ".py",
   "mimetype": "text/x-python",
   "name": "python",
   "nbconvert_exporter": "python",
   "pygments_lexer": "ipython3",
   "version": "3.12.7"
  }
 },
 "nbformat": 4,
 "nbformat_minor": 5
}
