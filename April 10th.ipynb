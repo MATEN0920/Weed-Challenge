{
 "cells": [
  {
   "cell_type": "markdown",
   "id": "73db5f7e-3982-436d-adce-6a183faf1d7b",
   "metadata": {},
   "source": [
    "# Day 16"
   ]
  },
  {
   "cell_type": "markdown",
   "id": "f25b20d5-cfb8-4971-9893-6a25b6046295",
   "metadata": {},
   "source": [
    "### 대문자로 바꾸기"
   ]
  },
  {
   "cell_type": "code",
   "execution_count": 3,
   "id": "b2be7641-b662-438e-90cc-87be945480c6",
   "metadata": {},
   "outputs": [
    {
     "name": "stdout",
     "output_type": "stream",
     "text": [
      "ABCDEFG\n"
     ]
    }
   ],
   "source": [
    "def solution(myString):\n",
    "    return myString.upper()\n",
    "print(solution(\"aBcDeFg\"))"
   ]
  },
  {
   "cell_type": "markdown",
   "id": "cb082ee0-8d13-4155-807f-aff5cb158486",
   "metadata": {},
   "source": [
    "### 소문자로 바꾸기"
   ]
  },
  {
   "cell_type": "code",
   "execution_count": 6,
   "id": "1a891514-12c4-4d70-8e74-5f0107ca40a7",
   "metadata": {},
   "outputs": [
    {
     "name": "stdout",
     "output_type": "stream",
     "text": [
      "abcdefg\n"
     ]
    }
   ],
   "source": [
    "def solution(myString):\n",
    "    return myString.lower()\n",
    "print(solution(\"aBcDeFg\"))"
   ]
  },
  {
   "cell_type": "markdown",
   "id": "d82033e9-9e51-446f-ad5f-02b11db38c4e",
   "metadata": {},
   "source": [
    "### 배열에서 문자열 대소문자 변환하기"
   ]
  },
  {
   "cell_type": "code",
   "execution_count": 21,
   "id": "ea49606d-a73e-475a-b40a-903d57e36e42",
   "metadata": {},
   "outputs": [
    {
     "name": "stdout",
     "output_type": "stream",
     "text": [
      "['aaa', 'BBB', 'ccc', 'DDD']\n"
     ]
    }
   ],
   "source": [
    "def solution(strArr):\n",
    "    for i in range(len(strArr)):\n",
    "        if i % 2 == 0:\n",
    "            strArr[i] = strArr[i].lower()\n",
    "        else:\n",
    "            strArr[i] = strArr[i].upper()\n",
    "    return strArr\n",
    "print(solution([\"AAA\",\"BBB\",\"CCC\",\"DDD\"]))"
   ]
  },
  {
   "cell_type": "markdown",
   "id": "92177a46-e706-41ae-a787-e206df42d0cb",
   "metadata": {},
   "source": [
    "### A 강조하기"
   ]
  },
  {
   "cell_type": "code",
   "execution_count": 54,
   "id": "32717ab3-4f6b-41f0-b45e-c6e6ae39513c",
   "metadata": {},
   "outputs": [
    {
     "name": "stdout",
     "output_type": "stream",
     "text": [
      "AbstrAct AlgebrA\n",
      "progrAmmers\n"
     ]
    }
   ],
   "source": [
    "def solution(myString):\n",
    "    myList = list(myString)\n",
    "    for i in range(len(myList)):\n",
    "        if myList[i] == \"a\" or myList[i] == \"A\":\n",
    "            myList[i] = \"A\"\n",
    "        else:\n",
    "            myList[i] = myList[i].lower()\n",
    "    return \"\".join(myList)\n",
    "print(solution(\"abstract algebra\"))\n",
    "print(solution(\"PrOgRaMmErS\"))"
   ]
  },
  {
   "cell_type": "markdown",
   "id": "57ab6b36-3d8a-4e75-aa93-25ddb50b22ee",
   "metadata": {},
   "source": [
    "### 특정한 문자를 대문자로 바꾸기"
   ]
  },
  {
   "cell_type": "code",
   "execution_count": 57,
   "id": "c60d3f38-9824-454e-a659-5cc53fd21309",
   "metadata": {},
   "outputs": [
    {
     "name": "stdout",
     "output_type": "stream",
     "text": [
      "Programmers\n"
     ]
    }
   ],
   "source": [
    "def solution(myString, alp):\n",
    "    return myString.replace(alp, alp.upper())\n",
    "print(solution(\"programmers\",\"p\"))"
   ]
  },
  {
   "cell_type": "markdown",
   "id": "ab084fe0-533a-4872-882a-4f2a2118d482",
   "metadata": {},
   "source": [
    "# Day 17"
   ]
  },
  {
   "cell_type": "markdown",
   "id": "073a2aa7-eb20-4b26-bd3b-341c134ebc9e",
   "metadata": {},
   "source": [
    "### 특정 문자열로 끝나는 가장 긴 부분 문자열 찾기"
   ]
  },
  {
   "cell_type": "code",
   "execution_count": 63,
   "id": "256e433e-eed4-4e1c-aad5-fb106f2e4173",
   "metadata": {},
   "outputs": [
    {
     "name": "stdout",
     "output_type": "stream",
     "text": [
      "AbCdE\n",
      "AAAAaaaa\n"
     ]
    }
   ],
   "source": [
    "def solution(myString, pat):\n",
    "    myString, pat = myString[::-1], pat[::-1]\n",
    "    index = myString.index(pat)\n",
    "    answer = myString[index:]\n",
    "    return answer[::-1]\n",
    "print(solution(\"AbCdEFG\", \"dE\"))\n",
    "print(solution(\"AAAAaaaa\", \"a\"))"
   ]
  },
  {
   "cell_type": "markdown",
   "id": "2d958007-c610-4850-b0fa-a37c1e7707b7",
   "metadata": {},
   "source": [
    "### 문자열이 몇 번 등장하는지 세기"
   ]
  },
  {
   "cell_type": "code",
   "execution_count": 66,
   "id": "1edbf24a-6cbd-4b8b-8686-3774e6c92b5f",
   "metadata": {},
   "outputs": [
    {
     "name": "stdout",
     "output_type": "stream",
     "text": [
      "2\n"
     ]
    }
   ],
   "source": [
    "def solution(myString, pat):\n",
    "    count = 0\n",
    "    for i in range(len(myString) - len(pat) + 1):\n",
    "        if myString[i:i+len(pat)] == pat:\n",
    "            count += 1\n",
    "    return count\n",
    "print(solution(\"banana\", \"ana\"))"
   ]
  },
  {
   "cell_type": "markdown",
   "id": "539003db-cb99-48b0-8760-b7c58a5d0e02",
   "metadata": {},
   "source": [
    "### ad 제거하기"
   ]
  },
  {
   "cell_type": "code",
   "execution_count": 83,
   "id": "6597efd2-7bcd-4622-b0b3-a9c3922e2dc3",
   "metadata": {},
   "outputs": [
    {
     "name": "stdout",
     "output_type": "stream",
     "text": [
      "['and', 'abcd']\n"
     ]
    }
   ],
   "source": [
    "def solution(strArr):\n",
    "    result = []\n",
    "    for s in strArr:\n",
    "        if \"ad\" not in s:\n",
    "            result.append(s)\n",
    "    return result\n",
    "                \n",
    "print(solution([\"and\",\"notad\",\"abcd\"]))"
   ]
  },
  {
   "cell_type": "markdown",
   "id": "b452af97-b255-4b28-9232-3595c2557622",
   "metadata": {},
   "source": [
    "### 공백으로 구분하기 1"
   ]
  },
  {
   "cell_type": "code",
   "execution_count": 92,
   "id": "24c711ff-a19c-4c4a-9355-a8aaff0c2fef",
   "metadata": {},
   "outputs": [
    {
     "name": "stdout",
     "output_type": "stream",
     "text": [
      "['i', 'love', 'you']\n"
     ]
    }
   ],
   "source": [
    "def solution(my_string):\n",
    "    return my_string.split(\" \")\n",
    "print(solution(\"i love you\"))"
   ]
  },
  {
   "cell_type": "markdown",
   "id": "c4ee3d0b-539e-4739-9187-1a60dbb41c61",
   "metadata": {},
   "source": [
    "### 공백으로 구분하기 2"
   ]
  },
  {
   "cell_type": "code",
   "execution_count": 117,
   "id": "6a770e22-7a2a-463b-80d3-84a95c3b1179",
   "metadata": {},
   "outputs": [
    {
     "name": "stdout",
     "output_type": "stream",
     "text": [
      "['i', 'love', 'you']\n",
      "['programmers']\n"
     ]
    }
   ],
   "source": [
    "def solution(my_string):\n",
    "    return my_string.split()\n",
    "print(solution(\" i    love  you\"))\n",
    "print(solution(\"    programmers  \"))"
   ]
  }
 ],
 "metadata": {
  "kernelspec": {
   "display_name": "Python [conda env:base] *",
   "language": "python",
   "name": "conda-base-py"
  },
  "language_info": {
   "codemirror_mode": {
    "name": "ipython",
    "version": 3
   },
   "file_extension": ".py",
   "mimetype": "text/x-python",
   "name": "python",
   "nbconvert_exporter": "python",
   "pygments_lexer": "ipython3",
   "version": "3.12.7"
  }
 },
 "nbformat": 4,
 "nbformat_minor": 5
}
