{
 "cells": [
  {
   "cell_type": "markdown",
   "id": "97794e35-c1a9-42f8-9dea-969016180c62",
   "metadata": {},
   "source": [
    "# Day 5"
   ]
  },
  {
   "cell_type": "markdown",
   "id": "88d7409e-1c5f-47a7-99aa-4b7a97fd7302",
   "metadata": {},
   "source": [
    "### 코드 처리하기"
   ]
  },
  {
   "cell_type": "code",
   "execution_count": 42,
   "id": "6ca49956-ea4d-4e8c-bdd7-33b3a202e75f",
   "metadata": {},
   "outputs": [
    {
     "name": "stdout",
     "output_type": "stream",
     "text": [
      "acbac\n"
     ]
    }
   ],
   "source": [
    "def solution(code):\n",
    "    ret = \"\"\n",
    "    mode = 0\n",
    "\n",
    "    for i in range(len(code)):\n",
    "        if code[i] == \"1\":\n",
    "            mode = 1 - mode\n",
    "        else:\n",
    "            if (mode == 0 and i % 2 == 0) or (mode == 1 and i % 2 == 1):\n",
    "                ret += code[i]\n",
    "    if ret == \"\":\n",
    "        return \"EMPTY\"\n",
    "    return ret \n",
    "    \n",
    "\n",
    "print(solution(\"abc1abc1abc\"))"
   ]
  },
  {
   "cell_type": "markdown",
   "id": "b2991b74-1c13-4d98-a7b5-f03846cd0e5d",
   "metadata": {},
   "source": [
    "### 등차수열의 특정한 항만 더하기"
   ]
  },
  {
   "cell_type": "code",
   "execution_count": 95,
   "id": "c8021140-fc16-445d-8471-e73accf2d2ca",
   "metadata": {},
   "outputs": [
    {
     "name": "stdout",
     "output_type": "stream",
     "text": [
      "37\n",
      "10\n"
     ]
    }
   ],
   "source": [
    "def solution(a, d, included):\n",
    "    arr = []\n",
    "    i = 0\n",
    "    res = 0\n",
    "    for i in range(len(included)):\n",
    "        arr = a + d * i\n",
    "        if included[i] == True:\n",
    "            res += arr\n",
    "    return res\n",
    "\n",
    "print(solution(3, 4, [True, False, False, True, True]))\n",
    "print(solution(7, 1, [False, False, False, True, False, False, False]))"
   ]
  },
  {
   "cell_type": "markdown",
   "id": "5a58fcd0-a7b2-4d50-ae0a-a6b054c7c6e5",
   "metadata": {},
   "source": [
    "### 주사위 게임 2"
   ]
  },
  {
   "cell_type": "code",
   "execution_count": 105,
   "id": "af3280a9-de00-48a6-b6a6-bded4a3f3ab0",
   "metadata": {},
   "outputs": [
    {
     "name": "stdout",
     "output_type": "stream",
     "text": [
      "9\n",
      "473\n"
     ]
    }
   ],
   "source": [
    "def solution(a,b,c):\n",
    "    if (a != b) and (a != c) and (b != c):\n",
    "        return a + b + c\n",
    "    elif (a == b and a != c) or (a == c and a != b) or (c == b and c != a):\n",
    "        return (a + b + c)*(a*a + b*b + c*c)\n",
    "    else:\n",
    "        return (a + b + c)*(a*a + b*b + c*c)*(a*a*a + b*b*b + c*c*c)\n",
    "print(solution(1,2,6))\n",
    "print(solution(5,3,3))"
   ]
  },
  {
   "cell_type": "markdown",
   "id": "f5851107-4cd4-40ac-81ad-9bb50516e098",
   "metadata": {},
   "source": [
    "### 원소들의 곱과 합"
   ]
  },
  {
   "cell_type": "code",
   "execution_count": 120,
   "id": "1a37adbb-f168-460b-b714-016316cfd4da",
   "metadata": {},
   "outputs": [
    {
     "name": "stdout",
     "output_type": "stream",
     "text": [
      "1\n",
      "0\n"
     ]
    }
   ],
   "source": [
    "def solution(num_list):\n",
    "    a = 1\n",
    "    b = 0\n",
    "    for i in range(len(num_list)):\n",
    "        a *= num_list[i]\n",
    "        b += num_list[i]\n",
    "    if a > b*b:\n",
    "        return 0\n",
    "    elif a < b*b:\n",
    "        return 1\n",
    "\n",
    "print(solution([3, 4, 5, 2, 1]))\n",
    "print(solution([5, 7, 8, 3]))"
   ]
  },
  {
   "cell_type": "markdown",
   "id": "4ab17404-3005-4663-8e48-02992e15c303",
   "metadata": {},
   "source": [
    "### 이어 붙인 수"
   ]
  },
  {
   "cell_type": "code",
   "execution_count": 141,
   "id": "e2de562b-b950-4ba6-bcdf-44ac09a8f8f3",
   "metadata": {},
   "outputs": [
    {
     "name": "stdout",
     "output_type": "stream",
     "text": [
      "393\n",
      "581\n"
     ]
    }
   ],
   "source": [
    "def solution(num_list):\n",
    "    a = \"\"\n",
    "    b = \"\"\n",
    "    for i in range(len(num_list)):\n",
    "        if num_list[i] % 2 == 1:\n",
    "            a = a + str(num_list[i])\n",
    "        else:\n",
    "            b = b + str(num_list[i])\n",
    "    return int(a) + int(b)\n",
    "print(solution([3, 4, 5, 2, 1]))\n",
    "print(solution([5, 7, 8, 3]))"
   ]
  },
  {
   "cell_type": "markdown",
   "id": "588958c2-4ccf-4bcf-83f6-ac989fc0c490",
   "metadata": {},
   "source": [
    "# Day 6"
   ]
  },
  {
   "cell_type": "markdown",
   "id": "3e9ac697-5f3f-4015-b534-31b9a7fd4cc5",
   "metadata": {},
   "source": [
    "### 마지막 두 원소"
   ]
  },
  {
   "cell_type": "code",
   "execution_count": 157,
   "id": "473d6627-6edb-40ca-8d43-5d851f6a699d",
   "metadata": {},
   "outputs": [
    {
     "name": "stdout",
     "output_type": "stream",
     "text": [
      "[2, 1, 6, 5]\n",
      "[5, 2, 1, 7, 5, 10]\n"
     ]
    }
   ],
   "source": [
    "def solution(num_list):\n",
    "    i = len(num_list)\n",
    "    if num_list[i-1] > num_list[i-2]:\n",
    "        num_list.append(num_list[i-1] - num_list[i-2])\n",
    "    else:\n",
    "        num_list.append(num_list[i-1] * 2)\n",
    "    return num_list\n",
    "\n",
    "print(solution([2, 1, 6]))\n",
    "print(solution([5, 2, 1, 7, 5]))"
   ]
  },
  {
   "cell_type": "markdown",
   "id": "d8b446ff-a118-4c4b-9f30-f6d13947eec5",
   "metadata": {},
   "source": [
    "### 수 조작하기 1"
   ]
  },
  {
   "cell_type": "code",
   "execution_count": 162,
   "id": "f0b68c87-3120-458e-ab46-4584d956c82b",
   "metadata": {},
   "outputs": [
    {
     "name": "stdout",
     "output_type": "stream",
     "text": [
      "-1\n"
     ]
    }
   ],
   "source": [
    "def solution(n, control):\n",
    "    for i in range(len(control)):\n",
    "        if control[i] == \"w\":\n",
    "            n += 1\n",
    "        elif control[i] == \"s\":\n",
    "            n -= 1\n",
    "        elif control[i] == \"d\":\n",
    "            n += 10\n",
    "        elif control[i] == \"a\":\n",
    "            n -= 10\n",
    "    return n\n",
    "\n",
    "print(solution(0, \"wsdawsdassw\"))"
   ]
  },
  {
   "cell_type": "markdown",
   "id": "edc591d4-e20c-41b3-b323-4aaf5e47e3a9",
   "metadata": {},
   "source": [
    "### 수 조작하기 2"
   ]
  },
  {
   "cell_type": "code",
   "execution_count": 207,
   "id": "a5146ef3-be66-4a67-bee9-cdda9dc215d9",
   "metadata": {},
   "outputs": [
    {
     "name": "stdout",
     "output_type": "stream",
     "text": [
      "wsdawsdassw\n"
     ]
    }
   ],
   "source": [
    "def solution(numLog):\n",
    "    res = \"\"\n",
    "    for i in range(1, len(numLog)):\n",
    "        diff = numLog[i] - numLog[i-1]\n",
    "        \n",
    "        if diff == 1:\n",
    "            res += \"w\"\n",
    "        elif diff == -1:\n",
    "            res += \"s\"\n",
    "        elif diff == 10:\n",
    "            res += \"d\"\n",
    "        elif diff == -10:\n",
    "            res += \"a\"\n",
    "            \n",
    "    return res\n",
    "print(solution([0, 1, 0, 10, 0, 1, 0, 10, 0, -1, -2, -1]))"
   ]
  },
  {
   "cell_type": "markdown",
   "id": "a0fa7500-bf06-4635-bb69-b1e39cf04198",
   "metadata": {},
   "source": [
    "### 수열과 구간 쿼리 3"
   ]
  },
  {
   "cell_type": "code",
   "execution_count": 210,
   "id": "419b5088-8fbb-4a7f-bf1c-305abf52ff80",
   "metadata": {},
   "outputs": [
    {
     "name": "stdout",
     "output_type": "stream",
     "text": [
      "[3, 4, 1, 0, 2]\n"
     ]
    }
   ],
   "source": [
    "def solution(arr, queries):\n",
    "    for i in range(len(queries)):\n",
    "        tmp = arr[queries[i][0]]\n",
    "        arr[queries[i][0]] = arr[queries[i][1]]\n",
    "        arr[queries[i][1]] = tmp\n",
    "    return arr\n",
    "print(solution([0, 1, 2, 3, 4], [[0, 3],[1, 2],[1, 4]]))"
   ]
  },
  {
   "cell_type": "markdown",
   "id": "f31cfa9d-204c-491e-99b5-3fe0ce342329",
   "metadata": {},
   "source": [
    "### 수열과 구간 쿼리 2"
   ]
  },
  {
   "cell_type": "code",
   "execution_count": 243,
   "id": "7f4721f6-75e8-4ac0-8327-228f7dbe36aa",
   "metadata": {},
   "outputs": [
    {
     "name": "stdout",
     "output_type": "stream",
     "text": [
      "[3, 4, -1]\n"
     ]
    }
   ],
   "source": [
    "def solution(arr, queries):\n",
    "    result = []\n",
    "    for i in range(len(queries)):\n",
    "        s = queries[i][0]\n",
    "        e = queries[i][1]\n",
    "        k = queries[i][2]\n",
    "        a = []\n",
    "        for j in range(s,e+1):\n",
    "            if arr[j] > k:\n",
    "                a.append(arr[j])            \n",
    "        if a:\n",
    "            result.append(min(a))\n",
    "        else:\n",
    "            result.append(-1)\n",
    "    return result\n",
    "print(solution([0, 1, 2, 4, 3], [[0, 4, 2],[0, 3, 2],[0, 2, 2]]))"
   ]
  }
 ],
 "metadata": {
  "kernelspec": {
   "display_name": "Python [conda env:base] *",
   "language": "python",
   "name": "conda-base-py"
  },
  "language_info": {
   "codemirror_mode": {
    "name": "ipython",
    "version": 3
   },
   "file_extension": ".py",
   "mimetype": "text/x-python",
   "name": "python",
   "nbconvert_exporter": "python",
   "pygments_lexer": "ipython3",
   "version": "3.12.7"
  }
 },
 "nbformat": 4,
 "nbformat_minor": 5
}
