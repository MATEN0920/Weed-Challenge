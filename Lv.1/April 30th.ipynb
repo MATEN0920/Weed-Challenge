{
 "cells": [
  {
   "cell_type": "markdown",
   "id": "4d26ad6e-774b-4faf-8c6e-42f3c3be5a62",
   "metadata": {},
   "source": [
    "### 정수 삼각형"
   ]
  },
  {
   "cell_type": "code",
   "execution_count": 39,
   "id": "96f4bc2f-95b4-47a7-b6a8-e7dd8e0eea4f",
   "metadata": {},
   "outputs": [
    {
     "name": "stdout",
     "output_type": "stream",
     "text": [
      "30\n",
      "10\n",
      "3\n",
      "27\n",
      "10\n"
     ]
    }
   ],
   "source": [
    "def solution(triangle):\n",
    "    for i in range(len(triangle) - 2, -1, -1):\n",
    "        for j in range(len(triangle[i])):\n",
    "            triangle[i][j] += max(triangle[i + 1][j], triangle[i + 1][j + 1])\n",
    "    return triangle[0][0]\n",
    "print(solution([[7], [3, 8], [8, 1, 0], [2, 7, 4, 4], [4, 5, 2, 6, 5]]))\n",
    "print(solution([[2], [4, 1], [1, 2, 7]]))\n",
    "print(solution([[1],[1, 1],[1, 1, 1]]))\n",
    "print(solution([[5],[9, 6],[4, 6, 8],[0, 7, 1, 5]]))\n",
    "print(solution([[1],[2, 3],[4, 1, 2],[1, 2, 3, 4]]))"
   ]
  }
 ],
 "metadata": {
  "kernelspec": {
   "display_name": "Python [conda env:base] *",
   "language": "python",
   "name": "conda-base-py"
  },
  "language_info": {
   "codemirror_mode": {
    "name": "ipython",
    "version": 3
   },
   "file_extension": ".py",
   "mimetype": "text/x-python",
   "name": "python",
   "nbconvert_exporter": "python",
   "pygments_lexer": "ipython3",
   "version": "3.12.7"
  }
 },
 "nbformat": 4,
 "nbformat_minor": 5
}
