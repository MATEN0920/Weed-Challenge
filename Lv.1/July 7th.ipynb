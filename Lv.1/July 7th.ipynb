{
 "cells": [
  {
   "cell_type": "markdown",
   "id": "9155edcc-1005-4cc2-aca7-6b067c3fcf69",
   "metadata": {},
   "source": [
    "### 택배 상자 꺼내기"
   ]
  },
  {
   "cell_type": "code",
   "execution_count": 16,
   "id": "e55c3374-0795-4156-aad0-b8f58d72b3a6",
   "metadata": {},
   "outputs": [
    {
     "name": "stdout",
     "output_type": "stream",
     "text": [
      "3\n",
      "4\n"
     ]
    }
   ],
   "source": [
    "def solution(n, w, num):\n",
    "    layer = (num - 1) // w\n",
    "    index_in_layer = (num - 1) % w\n",
    "\n",
    "    if layer % 2 == 0:\n",
    "        col = index_in_layer\n",
    "    else:\n",
    "        col = w - 1 - index_in_layer\n",
    "    \n",
    "    count = 1\n",
    "    \n",
    "    for upper_layer in range(layer + 1, (n + w - 1) // w):\n",
    "        start = upper_layer * w + 1\n",
    "        end = min(n, start + w - 1)\n",
    "        length = end - start + 1\n",
    "        \n",
    "        if upper_layer % 2 == 0:\n",
    "            if col < length:\n",
    "                count += 1\n",
    "        else:\n",
    "            if (w - 1 - col) < length:\n",
    "                count += 1\n",
    "    return count\n",
    "print(solution(22,6,8))\n",
    "print(solution(13,3,6))"
   ]
  }
 ],
 "metadata": {
  "kernelspec": {
   "display_name": "Python 3 (ipykernel)",
   "language": "python",
   "name": "python3"
  },
  "language_info": {
   "codemirror_mode": {
    "name": "ipython",
    "version": 3
   },
   "file_extension": ".py",
   "mimetype": "text/x-python",
   "name": "python",
   "nbconvert_exporter": "python",
   "pygments_lexer": "ipython3",
   "version": "3.10.0"
  }
 },
 "nbformat": 4,
 "nbformat_minor": 5
}
