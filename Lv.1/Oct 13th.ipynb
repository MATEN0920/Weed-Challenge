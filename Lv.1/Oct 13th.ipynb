{
 "cells": [
  {
   "cell_type": "markdown",
   "id": "adf63ed5-66e4-42d1-bfb6-fb3045d25288",
   "metadata": {},
   "source": [
    "### 유연근무제"
   ]
  },
  {
   "cell_type": "code",
   "execution_count": 9,
   "id": "1564772f-e5c5-4e29-ae95-dd5f9b36dcd6",
   "metadata": {},
   "outputs": [
    {
     "name": "stdout",
     "output_type": "stream",
     "text": [
      "[5, 6, 7, 8, 9, 10, 11]\n",
      "None\n"
     ]
    }
   ],
   "source": [
    "def solution(schedules, timelogs, startday):\n",
    "    pass_time = []\n",
    "    result = 0\n",
    "    for i in range(len(schedules)):\n",
    "        pass_time.append(schedules[i]+10)\n",
    "        if pass_time[i] % 100 > 59:\n",
    "            pass_time[i] = pass_time[i] + 40\n",
    "     n = len(schedules)\n",
    "\n",
    "    for i in range(n):\n",
    "        ok = True\n",
    "        for j in range(7):\n",
    "            today = (startday + j - 1) % 7 + 1\n",
    "            if dow in (6, 7)\n",
    "                continue\n",
    "            if timelogs[i][j] > pass_times[i]:\n",
    "                ok = False\n",
    "                break\n",
    "        if ok:\n",
    "            result += 1\n",
    "\n",
    "    return result\n",
    "                    \n",
    "                \n",
    "\n",
    "print(solution([700, 800, 1100],[[710, 2359, 1050, 700, 650, 631, 659], [800, 801, 805, 800, 759, 810, 809], [1105, 1001, 1002, 600, 1059, 1001, 1100]],5))"
   ]
  },
  {
   "cell_type": "code",
   "execution_count": null,
   "id": "366d3307-cadf-46fe-a5f8-7f4818c96bf7",
   "metadata": {},
   "outputs": [],
   "source": []
  }
 ],
 "metadata": {
  "kernelspec": {
   "display_name": "Python 3 (ipykernel)",
   "language": "python",
   "name": "python3"
  },
  "language_info": {
   "codemirror_mode": {
    "name": "ipython",
    "version": 3
   },
   "file_extension": ".py",
   "mimetype": "text/x-python",
   "name": "python",
   "nbconvert_exporter": "python",
   "pygments_lexer": "ipython3",
   "version": "3.12.7"
  }
 },
 "nbformat": 4,
 "nbformat_minor": 5
}
