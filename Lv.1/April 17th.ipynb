{
 "cells": [
  {
   "cell_type": "markdown",
   "id": "3450be7e-978b-4f5d-b0e7-c367261a9bc7",
   "metadata": {},
   "source": [
    "# Lv. 1"
   ]
  },
  {
   "cell_type": "markdown",
   "id": "390f6e7a-7547-472b-9461-385e856d4006",
   "metadata": {},
   "source": [
    "### 약수의 합"
   ]
  },
  {
   "cell_type": "code",
   "execution_count": 30,
   "id": "2d3746de-0ad9-40d1-9b1e-5931b49ad01a",
   "metadata": {},
   "outputs": [
    {
     "name": "stdout",
     "output_type": "stream",
     "text": [
      "6\n"
     ]
    }
   ],
   "source": [
    "def solution(n):\n",
    "    sum = 0\n",
    "    i = 1\n",
    "    while i != n+1:\n",
    "        if n % i == 0:\n",
    "            sum += i\n",
    "            i += 1\n",
    "        else:\n",
    "            i += 1\n",
    "    return sum\n",
    "print(solution(5))"
   ]
  },
  {
   "cell_type": "markdown",
   "id": "5c033964-9dc9-41d5-a67e-27b44237ddd2",
   "metadata": {},
   "source": [
    "### 자릿수 더하기"
   ]
  },
  {
   "cell_type": "code",
   "execution_count": 33,
   "id": "e7dc33e5-b355-457f-a5c3-96e475a052b7",
   "metadata": {},
   "outputs": [
    {
     "name": "stdout",
     "output_type": "stream",
     "text": [
      "6\n"
     ]
    }
   ],
   "source": [
    "def solution(n):\n",
    "    sum = 0\n",
    "    n = str(n)\n",
    "    for num in n:\n",
    "        sum += int(num)\n",
    "    return sum\n",
    "print(solution(123))"
   ]
  },
  {
   "cell_type": "markdown",
   "id": "fccdd834-2d95-42b0-8d3b-46c9c11d9817",
   "metadata": {},
   "source": [
    "### 자연수 뒤집어 배열로 만들기"
   ]
  },
  {
   "cell_type": "code",
   "execution_count": 56,
   "id": "d5006549-96f8-474e-8b1f-f74ba2ffd33c",
   "metadata": {},
   "outputs": [
    {
     "name": "stdout",
     "output_type": "stream",
     "text": [
      "[5, 4, 3, 2, 1]\n"
     ]
    }
   ],
   "source": [
    "def solution(n):\n",
    "    n = list(str(n))\n",
    "    n = n[::-1]\n",
    "    for i in range(len(n)):\n",
    "        n[i] = int(n[i])\n",
    "    return n\n",
    "print(solution(12345))"
   ]
  },
  {
   "cell_type": "markdown",
   "id": "eab45763-39b0-4a18-ab69-96a79a427521",
   "metadata": {},
   "source": [
    "### 짝수와 홀수"
   ]
  },
  {
   "cell_type": "code",
   "execution_count": 59,
   "id": "731bcce3-141f-4422-8505-6eba0324b63a",
   "metadata": {},
   "outputs": [
    {
     "name": "stdout",
     "output_type": "stream",
     "text": [
      "Odd\n"
     ]
    }
   ],
   "source": [
    "def solution(num):\n",
    "    if num % 2 == 0:\n",
    "        return \"Even\"\n",
    "    else:\n",
    "        return \"Odd\"\n",
    "print(solution(3))"
   ]
  },
  {
   "cell_type": "markdown",
   "id": "1518bd4e-6590-418d-a469-55e2a1dfd492",
   "metadata": {},
   "source": [
    "### 평균 구하기"
   ]
  },
  {
   "cell_type": "code",
   "execution_count": 64,
   "id": "1bd476e4-16fa-4b47-9236-6f1ea2e85b6b",
   "metadata": {},
   "outputs": [
    {
     "name": "stdout",
     "output_type": "stream",
     "text": [
      "2.5\n"
     ]
    }
   ],
   "source": [
    "def solution(arr):\n",
    "    sum = 0\n",
    "    for num in arr:\n",
    "        sum += num\n",
    "    return sum / len(arr)\n",
    "print(solution([1,2,3,4]))"
   ]
  },
  {
   "cell_type": "markdown",
   "id": "cdd7066d-e463-45a0-9701-cdf519246028",
   "metadata": {},
   "source": [
    "### x만큼 간격이 있는 n개의 숫자"
   ]
  },
  {
   "cell_type": "code",
   "execution_count": 71,
   "id": "3b56c3e3-da9b-4970-9ddd-9760bd43b836",
   "metadata": {},
   "outputs": [
    {
     "name": "stdout",
     "output_type": "stream",
     "text": [
      "[2, 4, 6, 8, 10]\n"
     ]
    }
   ],
   "source": [
    "def solution(x, n):\n",
    "    result = [x]\n",
    "    for i in range(n-1):\n",
    "        result.append(x+(i+1)*x)\n",
    "    return result\n",
    "print(solution(2, 5))"
   ]
  },
  {
   "cell_type": "markdown",
   "id": "744b03ba-b95c-4041-bbda-342340ee3163",
   "metadata": {},
   "source": [
    "### 나머지가 1이 되는 수 찾기"
   ]
  },
  {
   "cell_type": "code",
   "execution_count": 83,
   "id": "a6ad3480-87a5-48ab-a98f-be03f76d31e6",
   "metadata": {},
   "outputs": [
    {
     "name": "stdout",
     "output_type": "stream",
     "text": [
      "3\n"
     ]
    }
   ],
   "source": [
    "def solution(n):\n",
    "    i = 1\n",
    "    while i <= n:\n",
    "        if n % i == 1:\n",
    "            return i\n",
    "        else:\n",
    "            i += 1\n",
    "print(solution(10))"
   ]
  },
  {
   "cell_type": "markdown",
   "id": "0f9f835f-a676-4d99-ad1d-6c46de09ac90",
   "metadata": {},
   "source": [
    "### 문자열을 정수로 바꾸기"
   ]
  },
  {
   "cell_type": "code",
   "execution_count": 90,
   "id": "43eefe4c-bc33-42e3-8881-e88e2b135011",
   "metadata": {},
   "outputs": [
    {
     "name": "stdout",
     "output_type": "stream",
     "text": [
      "1234\n"
     ]
    }
   ],
   "source": [
    "def solution(s):\n",
    "    return int(s)\n",
    "print(solution(\"+1234\"))"
   ]
  },
  {
   "cell_type": "markdown",
   "id": "de71b949-2ffb-466f-a4e2-cd093a223f41",
   "metadata": {},
   "source": [
    "### 두 정수 사이의 합"
   ]
  },
  {
   "cell_type": "code",
   "execution_count": 109,
   "id": "5d9a858e-aed4-4a87-b428-6063b037ecaf",
   "metadata": {},
   "outputs": [
    {
     "name": "stdout",
     "output_type": "stream",
     "text": [
      "3\n"
     ]
    }
   ],
   "source": [
    "def solution(a, b):\n",
    "    sum = 0\n",
    "    if a <= b:\n",
    "        for i in range(a, b+1):\n",
    "            sum += i\n",
    "    else:\n",
    "        for i in range(b, a+1):\n",
    "            sum += i\n",
    "    return sum\n",
    "print(solution(3,3))"
   ]
  },
  {
   "cell_type": "markdown",
   "id": "d55d67ec-37f9-42fb-9f9e-25e30190fe11",
   "metadata": {},
   "source": [
    "### 문자열 내 p와 y의 갯수"
   ]
  },
  {
   "cell_type": "code",
   "execution_count": 120,
   "id": "5cfde760-b8a9-47c8-bd7b-cdd58688a249",
   "metadata": {},
   "outputs": [
    {
     "name": "stdout",
     "output_type": "stream",
     "text": [
      "True\n",
      "False\n"
     ]
    }
   ],
   "source": [
    "def solution(s):\n",
    "    p, y = 0, 0\n",
    "    for i in range(len(s)):\n",
    "        if s[i] == \"p\" or s[i] == \"P\":\n",
    "            p += 1\n",
    "        if s[i] == \"y\" or s[i] == \"Y\":\n",
    "            y += 1\n",
    "    if p == y:\n",
    "        return True\n",
    "    else:\n",
    "        return False\n",
    "print(solution(\"pPoooyY\"))\n",
    "print(solution(\"Pyy\"))"
   ]
  },
  {
   "cell_type": "markdown",
   "id": "704c50a9-9f28-4bcc-a911-4cd61684d050",
   "metadata": {},
   "source": [
    "### 정수 내림차순으로 배열하기"
   ]
  },
  {
   "cell_type": "code",
   "execution_count": 159,
   "id": "9257eded-4045-4eb6-a5f6-2351778e0aef",
   "metadata": {},
   "outputs": [
    {
     "name": "stdout",
     "output_type": "stream",
     "text": [
      "873211\n"
     ]
    }
   ],
   "source": [
    "def solution(n):\n",
    "    return int(''.join(sorted(str(n), reverse=True)))\n",
    "print(solution(118372))"
   ]
  },
  {
   "cell_type": "markdown",
   "id": "6582edde-1812-4164-9158-a9ae805e713e",
   "metadata": {},
   "source": [
    "### 정수 제곱근 판별"
   ]
  },
  {
   "cell_type": "code",
   "execution_count": 171,
   "id": "14955370-3fa8-423a-88e3-17223bdf6031",
   "metadata": {},
   "outputs": [
    {
     "name": "stdout",
     "output_type": "stream",
     "text": [
      "144\n"
     ]
    }
   ],
   "source": [
    "def solution(n):\n",
    "    root = n ** 0.5\n",
    "    if root.is_integer():\n",
    "        return int((root+1)**2)\n",
    "    else:\n",
    "        return -1\n",
    "print(solution(121))"
   ]
  },
  {
   "cell_type": "markdown",
   "id": "6f63eb9a-1ac2-4916-bc3e-9b6055fa2fdf",
   "metadata": {},
   "source": [
    "### 하샤드 수"
   ]
  },
  {
   "cell_type": "code",
   "execution_count": 182,
   "id": "bfc73892-e3de-4d0f-9254-e3eb8eb92ad8",
   "metadata": {},
   "outputs": [
    {
     "name": "stdout",
     "output_type": "stream",
     "text": [
      "False\n"
     ]
    }
   ],
   "source": [
    "def solution(x):\n",
    "    n = list(str(x))\n",
    "    add = 0\n",
    "    for i in range(len(n)):\n",
    "        add += int(n[i])\n",
    "    return x % add == 0\n",
    "print(solution(11))"
   ]
  },
  {
   "cell_type": "markdown",
   "id": "0919e9f1-12e7-4d92-9874-bc868ff71037",
   "metadata": {},
   "source": [
    "### 음양 더하기"
   ]
  },
  {
   "cell_type": "code",
   "execution_count": 189,
   "id": "9ebe9f0c-464e-461a-9d14-66ee6b55dc3a",
   "metadata": {},
   "outputs": [
    {
     "name": "stdout",
     "output_type": "stream",
     "text": [
      "9\n"
     ]
    }
   ],
   "source": [
    "def solution(absolutes, signs):\n",
    "    sum = 0\n",
    "    for i in range(len(signs)):\n",
    "        if signs[i]:\n",
    "           sum += absolutes[i]\n",
    "        else:\n",
    "            sum -= absolutes[i]\n",
    "    return sum\n",
    "print(solution([4,7,12],[True,False,True]))"
   ]
  },
  {
   "cell_type": "markdown",
   "id": "a918987f-f4fe-4eff-823e-8d10c56071ba",
   "metadata": {},
   "source": [
    "### 없는 숫자 더하기"
   ]
  },
  {
   "cell_type": "code",
   "execution_count": 192,
   "id": "f965a4e4-4064-4378-9161-4f4b711dbb6b",
   "metadata": {},
   "outputs": [
    {
     "name": "stdout",
     "output_type": "stream",
     "text": [
      "14\n"
     ]
    }
   ],
   "source": [
    "def solution(numbers):\n",
    "    result = 0\n",
    "    num = [1,2,3,4,5,6,7,8,9,0]\n",
    "    for i in range(len(num)):\n",
    "        if num[i] not in numbers:\n",
    "            result += num[i]\n",
    "    return result\n",
    "print(solution([1,2,3,4,6,7,8,0]))"
   ]
  },
  {
   "cell_type": "markdown",
   "id": "6880b318-1437-4551-853c-af3c2ca1dd72",
   "metadata": {},
   "source": [
    "### 나누어 떨어지는 숫자 배열"
   ]
  },
  {
   "cell_type": "code",
   "execution_count": 195,
   "id": "351d2ff9-3b58-41bd-ad24-6e775273d89c",
   "metadata": {},
   "outputs": [
    {
     "name": "stdout",
     "output_type": "stream",
     "text": [
      "[5, 10]\n"
     ]
    }
   ],
   "source": [
    "def solution(arr, divisor):\n",
    "    result = []\n",
    "    for num in arr:\n",
    "        if num % divisor == 0:\n",
    "            result.append(num)\n",
    "    if result == []:\n",
    "        result.append(-1)\n",
    "    return sorted(result)\n",
    "print(solution([5, 9, 7, 10],5))"
   ]
  },
  {
   "cell_type": "markdown",
   "id": "1f9ecfeb-5803-447c-8b87-4f12b48c4c55",
   "metadata": {},
   "source": [
    "### 서울에서 김서방 찾기"
   ]
  },
  {
   "cell_type": "code",
   "execution_count": 202,
   "id": "173d5da4-9b7b-463e-a0f5-323fb2358b51",
   "metadata": {},
   "outputs": [
    {
     "name": "stdout",
     "output_type": "stream",
     "text": [
      "김서방은 1에 있다\n"
     ]
    }
   ],
   "source": [
    "def solution(seoul):\n",
    "    for i in range(len(seoul)):\n",
    "        if seoul[i] == \"Kim\":\n",
    "            return f\"김서방은 {i}에 있다\"\n",
    "print(solution([\"Jane\", \"Kim\"]))"
   ]
  },
  {
   "cell_type": "markdown",
   "id": "80efaee2-6839-4bf6-bec4-b8205af11c39",
   "metadata": {},
   "source": [
    "### 콜라츠 추측"
   ]
  },
  {
   "cell_type": "code",
   "execution_count": 222,
   "id": "8dfebe7d-a2b1-427c-ad3d-1a99799a1522",
   "metadata": {},
   "outputs": [
    {
     "name": "stdout",
     "output_type": "stream",
     "text": [
      "8\n"
     ]
    }
   ],
   "source": [
    "def solution(num):\n",
    "    time = 0\n",
    "    while num != 1:\n",
    "        if num % 2 == 0:\n",
    "            num = num / 2\n",
    "            time += 1\n",
    "        elif num % 2 == 1:\n",
    "            num = 3 * num + 1\n",
    "            time += 1\n",
    "    if time > 500:\n",
    "        return -1\n",
    "    return time\n",
    "print(solution(6))"
   ]
  },
  {
   "cell_type": "markdown",
   "id": "3571a26a-e79f-4e66-a5db-906f2e6591cb",
   "metadata": {},
   "source": [
    "### 핸드폰 번호 가리기"
   ]
  },
  {
   "cell_type": "code",
   "execution_count": 225,
   "id": "23234775-445f-43f8-ab50-f12c52a71677",
   "metadata": {},
   "outputs": [
    {
     "name": "stdout",
     "output_type": "stream",
     "text": [
      "*******4444\n"
     ]
    }
   ],
   "source": [
    "def solution(phone_number):\n",
    "    return '*' * (len(phone_number)-4) + phone_number[-4:]\n",
    "print(solution(\"01033334444\"))"
   ]
  },
  {
   "cell_type": "markdown",
   "id": "711c8de0-0bca-43f4-8d6a-391848fd1ebf",
   "metadata": {},
   "source": [
    "### 가운데 글자 가져오기"
   ]
  },
  {
   "cell_type": "code",
   "execution_count": 251,
   "id": "25f17a62-25f2-4246-a37a-d96a0c56291f",
   "metadata": {},
   "outputs": [
    {
     "name": "stdout",
     "output_type": "stream",
     "text": [
      "c\n",
      "we\n"
     ]
    }
   ],
   "source": [
    "def solution(s):\n",
    "    if len(s) % 2 == 0:\n",
    "        return s[int((len(s) / 2) - 1):int((len(s) / 2) + 1)]\n",
    "    else:\n",
    "        return s[int(len(s)/2)]\n",
    "print(solution(\"abcde\"))\n",
    "print(solution(\"qwer\"))"
   ]
  }
 ],
 "metadata": {
  "kernelspec": {
   "display_name": "Python [conda env:base] *",
   "language": "python",
   "name": "conda-base-py"
  },
  "language_info": {
   "codemirror_mode": {
    "name": "ipython",
    "version": 3
   },
   "file_extension": ".py",
   "mimetype": "text/x-python",
   "name": "python",
   "nbconvert_exporter": "python",
   "pygments_lexer": "ipython3",
   "version": "3.12.7"
  }
 },
 "nbformat": 4,
 "nbformat_minor": 5
}
