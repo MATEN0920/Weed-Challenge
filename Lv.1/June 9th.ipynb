{
 "cells": [
  {
   "cell_type": "markdown",
   "id": "87060588-b1ea-4d0d-ac97-9f84771f2f4a",
   "metadata": {},
   "source": [
    "# 크레인 인형뽑기 게임"
   ]
  },
  {
   "cell_type": "code",
   "execution_count": 9,
   "id": "41a193bc-5a55-4e8f-919b-b410ced14d21",
   "metadata": {},
   "outputs": [
    {
     "name": "stdout",
     "output_type": "stream",
     "text": [
      "4\n"
     ]
    }
   ],
   "source": [
    "def solution(board, moves):\n",
    "    count = 0\n",
    "    n = len(board)\n",
    "    bucket = []\n",
    "    for move in moves:\n",
    "        for row in range(n):\n",
    "            if board[row][move-1] != 0:\n",
    "                doll = board[row][move-1]\n",
    "                board[row][move-1] = 0\n",
    "                if bucket and bucket[-1] == doll:\n",
    "                    bucket.pop()\n",
    "                    count += 2\n",
    "                else:\n",
    "                    bucket.append(doll)\n",
    "                break\n",
    "    return count\n",
    "print(solution([[0,0,0,0,0],[0,0,1,0,3],[0,2,5,0,1],[4,2,4,4,2],[3,5,1,3,1]],[1,5,3,5,1,2,1,4]))"
   ]
  }
 ],
 "metadata": {
  "kernelspec": {
   "display_name": "Python 3 (ipykernel)",
   "language": "python",
   "name": "python3"
  },
  "language_info": {
   "codemirror_mode": {
    "name": "ipython",
    "version": 3
   },
   "file_extension": ".py",
   "mimetype": "text/x-python",
   "name": "python",
   "nbconvert_exporter": "python",
   "pygments_lexer": "ipython3",
   "version": "3.10.0"
  }
 },
 "nbformat": 4,
 "nbformat_minor": 5
}
