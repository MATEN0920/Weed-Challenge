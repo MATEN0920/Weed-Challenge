{
 "cells": [
  {
   "cell_type": "markdown",
   "id": "d6ca11d1-764f-4b93-848d-15b9388cef97",
   "metadata": {},
   "source": [
    "### 신규 아이디 추천"
   ]
  },
  {
   "cell_type": "code",
   "execution_count": 43,
   "id": "a9e5a6c7-bb03-4572-ad3b-0ea28585584d",
   "metadata": {},
   "outputs": [
    {
     "name": "stdout",
     "output_type": "stream",
     "text": [
      "bat.y.abcdefghi\n",
      "z--\n",
      "abcdefghijklmn\n"
     ]
    }
   ],
   "source": [
    "import re\n",
    "def solution(new_id):\n",
    "    new_id = new_id.lower()\n",
    "    new_id = re.sub(r'[^a-z0-9\\-_.]', '', new_id)\n",
    "    new_id = re.sub(r'\\.{2,}', '.', new_id)\n",
    "    new_id = new_id.strip('.')\n",
    "    if new_id == '':\n",
    "        new_id = 'a'\n",
    "    if len(new_id) >= 16:\n",
    "        new_id = new_id[:15]\n",
    "        new_id = new_id.rstrip('.')\n",
    "    while len(new_id) < 3:\n",
    "        new_id += new_id[-1]\n",
    "    return new_id\n",
    "print(solution(\"...!@BaT#*..y.abcdefghijklm\"))\n",
    "print(solution(\"z-+.^.\"))\n",
    "print(solution(\"abcdefghijklmn.p\"))"
   ]
  }
 ],
 "metadata": {
  "kernelspec": {
   "display_name": "Python [conda env:base] *",
   "language": "python",
   "name": "conda-base-py"
  },
  "language_info": {
   "codemirror_mode": {
    "name": "ipython",
    "version": 3
   },
   "file_extension": ".py",
   "mimetype": "text/x-python",
   "name": "python",
   "nbconvert_exporter": "python",
   "pygments_lexer": "ipython3",
   "version": "3.12.7"
  }
 },
 "nbformat": 4,
 "nbformat_minor": 5
}
