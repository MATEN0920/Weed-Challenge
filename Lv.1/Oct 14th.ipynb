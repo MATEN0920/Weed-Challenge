{
 "cells": [
  {
   "cell_type": "markdown",
   "id": "056886bd-278f-4e0c-ae33-65a03bb2946f",
   "metadata": {},
   "source": [
    "### 개인정보 수집 유효기간"
   ]
  },
  {
   "cell_type": "code",
   "execution_count": 5,
   "id": "92fd48aa-2c43-4083-bdd7-f71bd43c1740",
   "metadata": {},
   "outputs": [
    {
     "name": "stdout",
     "output_type": "stream",
     "text": [
      "[1, 3]\n"
     ]
    }
   ],
   "source": [
    "def solution(today, terms, privacies):\n",
    "    result = []\n",
    "    \n",
    "    to_y, to_m, to_d = map(int, today.split('.'))\n",
    "    \n",
    "    pairs = [s.split() for s in terms]\n",
    "    term_months = {k: int(v) for k, v in pairs}\n",
    "    \n",
    "    def to_days(y, m, d):\n",
    "        return y * 12 * 28 + (m - 1) * 28 + d\n",
    "\n",
    "    today_days = to_days(to_y, to_m, to_d)\n",
    "\n",
    "    for i, p in enumerate(privacies):\n",
    "        date_str, kind = p.split()\n",
    "        y, m, d = map(int, date_str.split('.'))\n",
    "\n",
    "        start_days = to_days(y, m, d)\n",
    "        expire_days = start_days + term_months[kind] * 28 - 1\n",
    "\n",
    "        if today_days > expire_days:\n",
    "            result.append(i+1)\n",
    "\n",
    "    return result\n",
    "print(solution(\"2022.05.19\",[\"A 6\", \"B 12\", \"C 3\"],[\"2021.05.02 A\", \"2021.07.01 B\", \"2022.02.19 C\", \"2022.02.20 C\"]))"
   ]
  }
 ],
 "metadata": {
  "kernelspec": {
   "display_name": "Python 3 (ipykernel)",
   "language": "python",
   "name": "python3"
  },
  "language_info": {
   "codemirror_mode": {
    "name": "ipython",
    "version": 3
   },
   "file_extension": ".py",
   "mimetype": "text/x-python",
   "name": "python",
   "nbconvert_exporter": "python",
   "pygments_lexer": "ipython3",
   "version": "3.12.7"
  }
 },
 "nbformat": 4,
 "nbformat_minor": 5
}
