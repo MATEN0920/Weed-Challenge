{
 "cells": [
  {
   "cell_type": "markdown",
   "id": "66361d08-20d9-4699-ad7a-edb49a99f3a6",
   "metadata": {},
   "source": [
    "### 신고 결과 받기"
   ]
  },
  {
   "cell_type": "code",
   "execution_count": 11,
   "id": "98f7ccd6-d1ea-4ff8-a585-8ae264edbe10",
   "metadata": {},
   "outputs": [
    {
     "name": "stdout",
     "output_type": "stream",
     "text": [
      "[2, 1, 1, 0]\n"
     ]
    }
   ],
   "source": [
    "def solution(id_list, report, k):\n",
    "    report = set(report)\n",
    "\n",
    "    reported_by = {u: set() for u in id_list}\n",
    "    for rec in report:\n",
    "        reporter, reported = rec.split()\n",
    "        reported_by[reported].add(reporter)\n",
    "\n",
    "    banned = {u for u, reporters in reported_by.items() if len(reporters) >= k}\n",
    "\n",
    "    mail_count = {u: 0 for u in id_list}\n",
    "    for banned_user in banned:\n",
    "        for reporter in reported_by[banned_user]:\n",
    "            mail_count[reporter] += 1\n",
    "\n",
    "    return [mail_count[u] for u in id_list]\n",
    "print(solution([\"muzi\", \"frodo\", \"apeach\", \"neo\"],[\"muzi frodo\",\"apeach frodo\",\"frodo neo\",\"muzi neo\",\"apeach muzi\"],2))"
   ]
  }
 ],
 "metadata": {
  "kernelspec": {
   "display_name": "Python 3 (ipykernel)",
   "language": "python",
   "name": "python3"
  },
  "language_info": {
   "codemirror_mode": {
    "name": "ipython",
    "version": 3
   },
   "file_extension": ".py",
   "mimetype": "text/x-python",
   "name": "python",
   "nbconvert_exporter": "python",
   "pygments_lexer": "ipython3",
   "version": "3.12.7"
  }
 },
 "nbformat": 4,
 "nbformat_minor": 5
}
