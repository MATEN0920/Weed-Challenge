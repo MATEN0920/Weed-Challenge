{
 "cells": [
  {
   "cell_type": "markdown",
   "id": "500c9698-000c-41a2-95bf-680da26840ff",
   "metadata": {},
   "source": [
    "### [PCCP 기출문제] 1번 / 동영상 재생기"
   ]
  },
  {
   "cell_type": "code",
   "execution_count": 18,
   "id": "ea30e577-9ae9-4720-a980-40257b49cd40",
   "metadata": {},
   "outputs": [
    {
     "name": "stdout",
     "output_type": "stream",
     "text": [
      "13:00\n",
      "06:55\n"
     ]
    }
   ],
   "source": [
    "def mmss_to_seconds(mmss):\n",
    "    minutes, seconds = map(int, mmss.split(\":\"))\n",
    "    return minutes * 60 + seconds\n",
    "\n",
    "def seconds_to_mmss(seconds):\n",
    "    minutes = seconds // 60\n",
    "    sec = seconds % 60\n",
    "    return f\"{minutes:02d}:{sec:02d}\"\n",
    "\n",
    "def skip_op(pos, op_start, op_end):\n",
    "    if op_start >= op_end:\n",
    "        return pos\n",
    "    while op_start <= pos < op_end:\n",
    "        pos = op_end\n",
    "    return pos\n",
    "\n",
    "def solution(video_len, pos, op_start, op_end, commands):\n",
    "    video_len = mmss_to_seconds(video_len)\n",
    "    pos = mmss_to_seconds(pos)\n",
    "    op_start = mmss_to_seconds(op_start)\n",
    "    op_end = mmss_to_seconds(op_end)\n",
    "\n",
    "    pos = skip_op(pos, op_start, op_end)\n",
    "\n",
    "    for command in commands:\n",
    "        if command == \"next\":\n",
    "            pos += 10\n",
    "        elif command == \"prev\":\n",
    "            pos -= 10\n",
    "        pos = max(0, min(pos, video_len))\n",
    "        pos = skip_op(pos, op_start, op_end)\n",
    "\n",
    "    pos = max(0, min(pos, video_len))\n",
    "    return seconds_to_mmss(pos)\n",
    "print(solution(\"34:33\",\"13:00\",\"00:55\",\"02:55\",[\"next\", \"prev\"]))\n",
    "print(solution(\"10:55\",\"00:05\",\"00:15\",\"06:55\",[\"prev\", \"next\", \"next\"]))"
   ]
  }
 ],
 "metadata": {
  "kernelspec": {
   "display_name": "Python [conda env:base] *",
   "language": "python",
   "name": "conda-base-py"
  },
  "language_info": {
   "codemirror_mode": {
    "name": "ipython",
    "version": 3
   },
   "file_extension": ".py",
   "mimetype": "text/x-python",
   "name": "python",
   "nbconvert_exporter": "python",
   "pygments_lexer": "ipython3",
   "version": "3.12.7"
  }
 },
 "nbformat": 4,
 "nbformat_minor": 5
}
