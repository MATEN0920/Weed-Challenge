{
 "cells": [
  {
   "cell_type": "markdown",
   "id": "5131fe62-08a4-4108-a9b8-a66fc2432850",
   "metadata": {},
   "source": [
    "### 카드 뭉치"
   ]
  },
  {
   "cell_type": "code",
   "execution_count": 6,
   "id": "59f9763e-4c23-44aa-a7d2-ec2ff88b3b74",
   "metadata": {},
   "outputs": [
    {
     "name": "stdout",
     "output_type": "stream",
     "text": [
      "Yes\n",
      "No\n"
     ]
    }
   ],
   "source": [
    "from collections import deque\n",
    "\n",
    "def solution(cards1, cards2, goal):\n",
    "    cards1 = deque(cards1)\n",
    "    cards2 = deque(cards2)\n",
    "    for word in goal:\n",
    "        if cards1 and cards1[0] == word:\n",
    "            cards1.popleft()\n",
    "        elif cards2 and cards2[0] == word:\n",
    "            cards2.popleft()\n",
    "        else:\n",
    "            return \"No\"\n",
    "    return \"Yes\"\n",
    "print(solution([\"i\", \"drink\", \"water\"],[\"want\", \"to\"],[\"i\", \"want\", \"to\", \"drink\", \"water\"]))\n",
    "print(solution([\"i\", \"water\", \"drink\"],[\"want\", \"to\"],[\"i\", \"want\", \"to\", \"drink\", \"water\"]))"
   ]
  },
  {
   "cell_type": "markdown",
   "id": "603f9d3d-ffee-41c5-9b9a-445cf3634484",
   "metadata": {},
   "source": [
    "### [1차] 비밀지도"
   ]
  },
  {
   "cell_type": "code",
   "execution_count": 9,
   "id": "542f4443-6819-4a37-8f2a-cd6ee525526a",
   "metadata": {},
   "outputs": [
    {
     "name": "stdout",
     "output_type": "stream",
     "text": [
      "['#####', '# # #', '### #', '#  ##', '#####']\n"
     ]
    }
   ],
   "source": [
    "def solution(n, arr1, arr2):\n",
    "    result = []\n",
    "    for i in range(n):\n",
    "        map = ''\n",
    "        for j in range(n-1, -1, -1):\n",
    "            if arr1[i] // (2**j) > 0 or arr2[i] // (2**j) > 0:\n",
    "                map += \"#\"\n",
    "                arr1[i] = arr1[i] % (2**j)\n",
    "                arr2[i] = arr2[i] % (2**j)\n",
    "            else:\n",
    "                map += ' '\n",
    "        result.append(map)\n",
    "    return result\n",
    "print(solution(5,[9, 20, 28, 18, 11],[30, 1, 21, 17, 28]))"
   ]
  },
  {
   "cell_type": "markdown",
   "id": "3fc2bb4a-9678-4c46-b70a-656eccc3f0c6",
   "metadata": {},
   "source": [
    "### 추억 점수"
   ]
  },
  {
   "cell_type": "code",
   "execution_count": 16,
   "id": "c978ba3a-eff8-4e0a-9c69-4d90a31f3d33",
   "metadata": {},
   "outputs": [
    {
     "name": "stdout",
     "output_type": "stream",
     "text": [
      "[19, 15, 6]\n"
     ]
    }
   ],
   "source": [
    "def solution(name, yearning, photo):\n",
    "    result = []\n",
    "    total = 0\n",
    "    for i in range(len(photo)):\n",
    "        for j in range(len(photo[i])):\n",
    "            for k in range(len(name)):\n",
    "                if photo[i][j] == name[k]:\n",
    "                    total += yearning[k]\n",
    "        result.append(total)\n",
    "        total = 0\n",
    "    return result\n",
    "print(solution([\"may\", \"kein\", \"kain\", \"radi\"],[5, 10, 1, 3],[[\"may\", \"kein\", \"kain\", \"radi\"],[\"may\", \"kein\", \"brin\", \"deny\"], [\"kon\", \"kain\", \"may\", \"coni\"]]))"
   ]
  },
  {
   "cell_type": "markdown",
   "id": "7849caff-1abb-4298-b4f2-84193b5d8e18",
   "metadata": {},
   "source": [
    "### 폰켓몬"
   ]
  },
  {
   "cell_type": "code",
   "execution_count": 33,
   "id": "7959457e-0db4-4dd3-a63e-04fea4b50a20",
   "metadata": {},
   "outputs": [
    {
     "name": "stdout",
     "output_type": "stream",
     "text": [
      "2\n",
      "3\n",
      "2\n"
     ]
    }
   ],
   "source": [
    "def solution(nums):\n",
    "    return min(len(nums) // 2, len(set(nums)))\n",
    "print(solution([3,1,2,3]))\n",
    "print(solution([3,3,3,2,2,4]))\n",
    "print(solution([3,3,3,2,2,2]))"
   ]
  },
  {
   "cell_type": "markdown",
   "id": "43970128-3a89-415c-aeab-2fac38db8e3b",
   "metadata": {},
   "source": [
    "### 2016년"
   ]
  },
  {
   "cell_type": "code",
   "execution_count": 36,
   "id": "ffb2fdfb-19b3-4fbe-a608-9b293549390f",
   "metadata": {},
   "outputs": [
    {
     "name": "stdout",
     "output_type": "stream",
     "text": [
      "TUE\n"
     ]
    }
   ],
   "source": [
    "def solution(a,b):\n",
    "    days = [\"SUN\", \"MON\", \"TUE\", \"WED\", \"THU\", \"FRI\", \"SAT\"]\n",
    "    month_days = [31, 29, 31, 30, 31, 30, 31, 31, 30, 31, 30, 31]\n",
    "    total = sum(month_days[:a - 1]) + (b - 1)\n",
    "    return days[(total + 5) % 7]\n",
    "print(solution(5,24))"
   ]
  },
  {
   "cell_type": "markdown",
   "id": "18bf1d4e-d559-4aac-8f3d-db67e986d19f",
   "metadata": {},
   "source": [
    "### 기사단원의 무기"
   ]
  },
  {
   "cell_type": "code",
   "execution_count": 71,
   "id": "0fb71d78-ec7c-45ba-a022-63d419b3dd1f",
   "metadata": {},
   "outputs": [
    {
     "name": "stdout",
     "output_type": "stream",
     "text": [
      "10\n"
     ]
    }
   ],
   "source": [
    "def solution(number, limit, power):\n",
    "    def count_divisors(n):\n",
    "        cnt = 0\n",
    "        for i in range(1, int(n**0.5) + 1):\n",
    "            if n % i == 0:\n",
    "                cnt += 1\n",
    "                if i != n // i:\n",
    "                    cnt += 1\n",
    "        return cnt\n",
    "    total = 0\n",
    "    for i in range(1, number + 1):\n",
    "        power_needed = count_divisors(i)\n",
    "        if power_needed > limit:\n",
    "            power_needed = power\n",
    "        total += power_needed\n",
    "    return total\n",
    "print(solution(5,3,2))"
   ]
  },
  {
   "cell_type": "markdown",
   "id": "11554f02-ee83-4fa0-911a-e063c5cf8937",
   "metadata": {},
   "source": [
    "### 모의고사"
   ]
  },
  {
   "cell_type": "code",
   "execution_count": 76,
   "id": "a1b61c63-60ed-4a62-9ed1-928b23cafae4",
   "metadata": {},
   "outputs": [
    {
     "name": "stdout",
     "output_type": "stream",
     "text": [
      "[1, 2, 3]\n"
     ]
    }
   ],
   "source": [
    "def solution(answers):\n",
    "    result = []\n",
    "    num1 = [1,2,3,4,5]\n",
    "    num2 = [2,1,2,3,2,4,2,5]\n",
    "    num3 = [3,3,1,1,2,2,4,4,5,5]\n",
    "    score1, score2, score3 = 0, 0, 0\n",
    "    for i in range(len(answers)):\n",
    "        if answers[i] == num1[i%5]:\n",
    "            score1 += 1\n",
    "        if answers[i] == num2[i%8]:\n",
    "            score2 += 1\n",
    "        if answers[i] == num3[i%10]:\n",
    "            score3 += 1\n",
    "    score = [score1, score2, score3]\n",
    "    max_score = max(score)\n",
    "    for i in range(3):\n",
    "        if score[i] == max_score:\n",
    "            result.append(i + 1)\n",
    "    return result\n",
    "print(solution([1,3,2,4,2]))"
   ]
  }
 ],
 "metadata": {
  "kernelspec": {
   "display_name": "Python [conda env:base] *",
   "language": "python",
   "name": "conda-base-py"
  },
  "language_info": {
   "codemirror_mode": {
    "name": "ipython",
    "version": 3
   },
   "file_extension": ".py",
   "mimetype": "text/x-python",
   "name": "python",
   "nbconvert_exporter": "python",
   "pygments_lexer": "ipython3",
   "version": "3.12.7"
  }
 },
 "nbformat": 4,
 "nbformat_minor": 5
}
