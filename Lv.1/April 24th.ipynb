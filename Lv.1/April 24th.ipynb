{
 "cells": [
  {
   "cell_type": "markdown",
   "id": "5f000aa1-c0e9-47cd-a90b-a4180f5d736e",
   "metadata": {},
   "source": [
    "### 문자열 나누기"
   ]
  },
  {
   "cell_type": "code",
   "execution_count": 22,
   "id": "b822e8ab-980a-4fa9-bc05-b4906769dfdf",
   "metadata": {},
   "outputs": [
    {
     "name": "stdout",
     "output_type": "stream",
     "text": [
      "3\n"
     ]
    }
   ],
   "source": [
    "def solution(s):\n",
    "    result = []\n",
    "    i = 0\n",
    "    while i < len(s):\n",
    "        same = 0\n",
    "        diff = 0\n",
    "        start = s[i]\n",
    "        for j in range(i, len(s)):\n",
    "            if s[j] == start:\n",
    "                same += 1\n",
    "            else:\n",
    "                diff += 1\n",
    "            if same == diff:\n",
    "                result.append(s[i:j+1])\n",
    "                i = j + 1\n",
    "                break\n",
    "        else:\n",
    "            result.append(s[i:])\n",
    "            break\n",
    "    return len(result)\n",
    "print(solution(\"banana\"))"
   ]
  },
  {
   "cell_type": "markdown",
   "id": "34ff105f-8225-43bd-b45a-d9a00d1924da",
   "metadata": {},
   "source": [
    "### 둘만의 암호"
   ]
  },
  {
   "cell_type": "code",
   "execution_count": 45,
   "id": "0e87aabe-40b2-4dc1-ac54-4cfabdf95d14",
   "metadata": {},
   "outputs": [
    {
     "name": "stdout",
     "output_type": "stream",
     "text": [
      "happy\n"
     ]
    }
   ],
   "source": [
    "def solution(s, skip, index):\n",
    "    result = ''\n",
    "    alphabet = [chr(i) for i in range(ord('a'), ord('z') + 1) if chr(i) not in skip]\n",
    "    for ch in s:\n",
    "        current_index = alphabet.index(ch)\n",
    "        new_index = (current_index + index) % len(alphabet)\n",
    "        result += alphabet[new_index]\n",
    "    return result\n",
    "print(solution(\"aukks\",\"wbqd\",5))"
   ]
  },
  {
   "cell_type": "markdown",
   "id": "bf09673b-720e-4660-89e9-448bc250c92d",
   "metadata": {},
   "source": [
    "### 대충 만든 자판"
   ]
  },
  {
   "cell_type": "code",
   "execution_count": 52,
   "id": "a3274583-a301-4750-bf50-5561f58d283d",
   "metadata": {},
   "outputs": [
    {
     "name": "stdout",
     "output_type": "stream",
     "text": [
      "[9, 4]\n"
     ]
    }
   ],
   "source": [
    "def solution(keymap, targets):\n",
    "    min_presses = {}\n",
    "    for key in keymap:\n",
    "        for i, ch in enumerate(key):\n",
    "            if ch in min_presses:\n",
    "                min_presses[ch] = min(min_presses[ch], i + 1)\n",
    "            else:\n",
    "                min_presses[ch] = i + 1\n",
    "    answer = []\n",
    "    for target in targets:\n",
    "        total = 0\n",
    "        for ch in target:\n",
    "            if ch in min_presses:\n",
    "                total += min_presses[ch]\n",
    "            else:\n",
    "                total = -1\n",
    "                break\n",
    "        answer.append(total)\n",
    "    return answer\n",
    "print(solution([\"ABACD\", \"BCEFD\"],[\"ABCD\",\"AABB\"]))"
   ]
  }
 ],
 "metadata": {
  "kernelspec": {
   "display_name": "Python [conda env:base] *",
   "language": "python",
   "name": "conda-base-py"
  },
  "language_info": {
   "codemirror_mode": {
    "name": "ipython",
    "version": 3
   },
   "file_extension": ".py",
   "mimetype": "text/x-python",
   "name": "python",
   "nbconvert_exporter": "python",
   "pygments_lexer": "ipython3",
   "version": "3.12.7"
  }
 },
 "nbformat": 4,
 "nbformat_minor": 5
}
