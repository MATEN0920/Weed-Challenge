{
 "cells": [
  {
   "cell_type": "markdown",
   "id": "2778434d-6df0-4dd6-887c-2163786f6e76",
   "metadata": {},
   "source": [
    "### [PCCP 기출문제] 1번 / 붕대 감기"
   ]
  },
  {
   "cell_type": "code",
   "execution_count": 20,
   "id": "8294fe11-c1bd-4db1-a180-75dd2048f252",
   "metadata": {},
   "outputs": [
    {
     "name": "stdout",
     "output_type": "stream",
     "text": [
      "5\n",
      "-1\n",
      "-1\n",
      "3\n"
     ]
    }
   ],
   "source": [
    "def solution(bandage, health, attacks):\n",
    "    t, x, y = bandage\n",
    "    max_hp = health\n",
    "    hp = health\n",
    "    attack_map = {time: dmg for time, dmg in attacks}\n",
    "    last_time = attacks[-1][0]\n",
    "    streak = 0\n",
    "    \n",
    "    for sec in range(0, last_time + 1):\n",
    "        if sec in attack_map:\n",
    "            hp -= attack_map[sec]\n",
    "            if hp <= 0:\n",
    "                return -1\n",
    "            streak = 0\n",
    "        else:\n",
    "            hp = min(max_hp, hp + x)\n",
    "            streak += 1\n",
    "            if streak == t:\n",
    "                hp = min(max_hp, hp + y)\n",
    "                streak = 0\n",
    "    return hp\n",
    "\n",
    "print(solution([5, 1, 5], 30, [[2, 10], [9, 15], [10, 5], [11, 5]]))\n",
    "print(solution([3, 2, 7],20,[[1, 15], [5, 16], [8, 6]]))\n",
    "print(solution([4, 2, 7],20,[[1, 15], [5, 16], [8, 6]]))\n",
    "print(solution([1, 1, 1],5,[[1, 2], [3, 2]]))"
   ]
  }
 ],
 "metadata": {
  "kernelspec": {
   "display_name": "Python 3 (ipykernel)",
   "language": "python",
   "name": "python3"
  },
  "language_info": {
   "codemirror_mode": {
    "name": "ipython",
    "version": 3
   },
   "file_extension": ".py",
   "mimetype": "text/x-python",
   "name": "python",
   "nbconvert_exporter": "python",
   "pygments_lexer": "ipython3",
   "version": "3.12.7"
  }
 },
 "nbformat": 4,
 "nbformat_minor": 5
}
