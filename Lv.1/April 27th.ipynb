{
 "cells": [
  {
   "cell_type": "markdown",
   "id": "52bd4be4-fd05-482b-aba7-170bbdf8280e",
   "metadata": {},
   "source": [
    "### 달리기 경주"
   ]
  },
  {
   "cell_type": "code",
   "execution_count": 14,
   "id": "25090452-7f7b-4dfc-938a-4c707a381e41",
   "metadata": {},
   "outputs": [
    {
     "name": "stdout",
     "output_type": "stream",
     "text": [
      "['mumu', 'kai', 'mine', 'soe', 'poe']\n"
     ]
    }
   ],
   "source": [
    "def solution(players, callings):\n",
    "    rank = {name: i for i, name in enumerate(players)}\n",
    "    for name in callings:\n",
    "        i = rank[name]\n",
    "        players[i], players[i-1] = players[i-1], players[i]\n",
    "        rank[players[i]] = i\n",
    "        rank[players[i-1]] = i-1\n",
    "    return players\n",
    "print(solution([\"mumu\", \"soe\", \"poe\", \"kai\", \"mine\"],[\"kai\", \"kai\", \"mine\", \"mine\"]))"
   ]
  }
 ],
 "metadata": {
  "kernelspec": {
   "display_name": "Python [conda env:base] *",
   "language": "python",
   "name": "conda-base-py"
  },
  "language_info": {
   "codemirror_mode": {
    "name": "ipython",
    "version": 3
   },
   "file_extension": ".py",
   "mimetype": "text/x-python",
   "name": "python",
   "nbconvert_exporter": "python",
   "pygments_lexer": "ipython3",
   "version": "3.12.7"
  }
 },
 "nbformat": 4,
 "nbformat_minor": 5
}
