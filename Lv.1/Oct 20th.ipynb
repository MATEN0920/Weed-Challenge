{
 "cells": [
  {
   "cell_type": "markdown",
   "id": "a1254dcf-14ed-425f-b45f-58c2d7a095d0",
   "metadata": {},
   "source": [
    "### 성격 유형 검사하기"
   ]
  },
  {
   "cell_type": "code",
   "execution_count": 11,
   "id": "bf4e9881-fdc9-4bb2-b042-c72067fb93bf",
   "metadata": {},
   "outputs": [
    {
     "name": "stdout",
     "output_type": "stream",
     "text": [
      "TCMA\n",
      "RCJA\n"
     ]
    }
   ],
   "source": [
    "def solution(survey, choices):\n",
    "    score = {ch: 0 for ch in \"RTCFJMAN\"}\n",
    "    \n",
    "    for s, c in zip(survey, choices):\n",
    "        left, right = s[0], s[1]\n",
    "        if c < 4:\n",
    "            score[left] += 4 - c\n",
    "        elif c > 4:\n",
    "            score[right] += c - 4\n",
    "\n",
    "    result = []\n",
    "    for a, b in [(\"R\",\"T\"), (\"C\",\"F\"), (\"J\",\"M\"), (\"A\",\"N\")]:\n",
    "        if score[a] > score[b]:\n",
    "            result.append(a)\n",
    "        elif score[a] < score[b]:\n",
    "            result.append(b)\n",
    "        else:\n",
    "            result.append(min(a, b))\n",
    "    return \"\".join(result)\n",
    "\n",
    "print(solution([\"AN\", \"CF\", \"MJ\", \"RT\", \"NA\"],[5, 3, 2, 7, 5]))\n",
    "print(solution([\"TR\", \"RT\", \"TR\"],[7, 1, 3]))"
   ]
  }
 ],
 "metadata": {
  "kernelspec": {
   "display_name": "Python 3 (ipykernel)",
   "language": "python",
   "name": "python3"
  },
  "language_info": {
   "codemirror_mode": {
    "name": "ipython",
    "version": 3
   },
   "file_extension": ".py",
   "mimetype": "text/x-python",
   "name": "python",
   "nbconvert_exporter": "python",
   "pygments_lexer": "ipython3",
   "version": "3.12.7"
  }
 },
 "nbformat": 4,
 "nbformat_minor": 5
}
