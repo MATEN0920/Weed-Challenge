{
 "cells": [
  {
   "cell_type": "markdown",
   "id": "50187235-c1c2-4941-9a6b-8facb9250f83",
   "metadata": {},
   "source": [
    "### 최대공약수와 최소공배수"
   ]
  },
  {
   "cell_type": "code",
   "execution_count": 2,
   "id": "9a86d9ad-736c-47d1-98f8-3fd96a0ab975",
   "metadata": {},
   "outputs": [
    {
     "name": "stdout",
     "output_type": "stream",
     "text": [
      "[3, 12]\n"
     ]
    }
   ],
   "source": [
    "def solution(n, m):\n",
    "    a, b = n, m\n",
    "    while b != 0:\n",
    "        a, b = b, a % b\n",
    "    gcd = a\n",
    "    lcm = n * m // gcd\n",
    "    return [gcd, lcm]\n",
    "print(solution(3,12))"
   ]
  },
  {
   "cell_type": "markdown",
   "id": "41fcfa5d-0fa3-41aa-9b33-90df075723aa",
   "metadata": {},
   "source": [
    "### 예산"
   ]
  },
  {
   "cell_type": "code",
   "execution_count": 13,
   "id": "38ff2fb7-bb42-4380-8288-f0b4e260fa8b",
   "metadata": {},
   "outputs": [
    {
     "name": "stdout",
     "output_type": "stream",
     "text": [
      "3\n",
      "4\n"
     ]
    }
   ],
   "source": [
    "def solution(d, budget):\n",
    "    d.sort()\n",
    "    total = 0\n",
    "    for i in range(len(d)):\n",
    "        total += d[i]\n",
    "        if total > budget:\n",
    "            return i\n",
    "    return len(d)\n",
    "print(solution([1,3,2,5,4],9))\n",
    "print(solution([2,2,3,3],10))"
   ]
  },
  {
   "cell_type": "markdown",
   "id": "5f68ed83-b436-4a36-b8df-e95d641236cc",
   "metadata": {},
   "source": [
    "### 3진법 뒤집기"
   ]
  },
  {
   "cell_type": "code",
   "execution_count": 18,
   "id": "49b76f4d-3e1b-4af0-9191-0e76a19dcde8",
   "metadata": {},
   "outputs": [
    {
     "name": "stdout",
     "output_type": "stream",
     "text": [
      "7\n"
     ]
    }
   ],
   "source": [
    "def solution(n):\n",
    "    conv = ''\n",
    "    result = 0\n",
    "    while n > 0:\n",
    "        conv = str(n % 3) + conv\n",
    "        n //= 3\n",
    "    conv = conv[::-1]\n",
    "    for i in range(len(conv)):\n",
    "        a = int(conv[-(i+1)])\n",
    "        result += a * (3 ** i)\n",
    "    return result\n",
    "print(solution(45))"
   ]
  },
  {
   "cell_type": "markdown",
   "id": "192d0cb0-1435-4638-a7ae-40d0ed49a0c1",
   "metadata": {},
   "source": [
    "### 크기가 작은 부분문자열"
   ]
  },
  {
   "cell_type": "code",
   "execution_count": 53,
   "id": "84e20f62-78ee-45ee-abef-8748db48eff4",
   "metadata": {},
   "outputs": [
    {
     "name": "stdout",
     "output_type": "stream",
     "text": [
      "2\n",
      "8\n",
      "3\n"
     ]
    }
   ],
   "source": [
    "def solution(t, p):\n",
    "    length = len(p)\n",
    "    count = 0\n",
    "    for i in range(len(t)-length+1):\n",
    "        if int(t[i:i+length]) <= int(p):\n",
    "            count += 1\n",
    "    return count\n",
    "print(solution(\"3141592\",\"271\"))\n",
    "print(solution(\"500220839878\",\"7\"))\n",
    "print(solution(\"10203\",\"15\"))"
   ]
  },
  {
   "cell_type": "markdown",
   "id": "b61ed1c5-0523-4609-81b3-4e65ff977c67",
   "metadata": {},
   "source": [
    "### 삼총사"
   ]
  },
  {
   "cell_type": "code",
   "execution_count": 62,
   "id": "4c04776b-0561-4b65-acfa-d0829a2d1900",
   "metadata": {},
   "outputs": [
    {
     "name": "stdout",
     "output_type": "stream",
     "text": [
      "2\n"
     ]
    }
   ],
   "source": [
    "def solution(number):\n",
    "    count = 0\n",
    "    length = len(number)\n",
    "    for i in range(length):\n",
    "        for j in range(i+1, length):\n",
    "            for k in range(j+1 , length):\n",
    "                if number[i] + number[j] + number[k] == 0:\n",
    "                    count += 1\n",
    "    return count\n",
    "print(solution([-2, 3, 0, 2, -5]))"
   ]
  },
  {
   "cell_type": "markdown",
   "id": "74ab12ae-a958-428e-a9dc-b1d619eae959",
   "metadata": {},
   "source": [
    "### 이상한 문자 만들기"
   ]
  },
  {
   "cell_type": "code",
   "execution_count": 85,
   "id": "6b99cb4c-b4ad-4137-bf9c-ad24fded918f",
   "metadata": {},
   "outputs": [
    {
     "name": "stdout",
     "output_type": "stream",
     "text": [
      "TrY HeLlO WoRlD\n"
     ]
    }
   ],
   "source": [
    "def solution(s):\n",
    "    words = s.split(' ')\n",
    "    for i in range(len(words)):\n",
    "        word = list(words[i])\n",
    "        for j in range(len(word)):\n",
    "            if j % 2 == 0:\n",
    "                word[j] = word[j].upper()\n",
    "            else:\n",
    "                word[j] = word[j].lower()\n",
    "        words[i] = ''.join(word)\n",
    "    return ' '.join(words)\n",
    "print(solution(\"try hello world\"))"
   ]
  },
  {
   "cell_type": "markdown",
   "id": "be32e95d-c6f4-4337-9c5b-25ddb4d1c3b5",
   "metadata": {},
   "source": [
    "### 최소직사각형"
   ]
  },
  {
   "cell_type": "code",
   "execution_count": 88,
   "id": "34ee9efa-fff7-474f-84a0-1eda96683e77",
   "metadata": {},
   "outputs": [
    {
     "name": "stdout",
     "output_type": "stream",
     "text": [
      "4000\n"
     ]
    }
   ],
   "source": [
    "def solution(sizes):\n",
    "    a, b = [], []\n",
    "    c, d = 0, 0\n",
    "    for i in range(len(sizes)):\n",
    "        a.append(max(sizes[i]))\n",
    "    c = max(a)\n",
    "    for i in range(len(sizes)):\n",
    "        b.append(min(sizes[i]))\n",
    "    d = max(b)\n",
    "    return c*d\n",
    "print(solution([[60, 50], [30, 70], [60, 30], [80, 40]]))"
   ]
  },
  {
   "cell_type": "markdown",
   "id": "8d0bea75-a8c1-4a85-a2c0-5dea2d74dac3",
   "metadata": {},
   "source": [
    "### 가장 가까운 같은 글자"
   ]
  },
  {
   "cell_type": "code",
   "execution_count": 91,
   "id": "523fb34a-b3ab-4a25-9a81-5a9f462046c0",
   "metadata": {},
   "outputs": [
    {
     "name": "stdout",
     "output_type": "stream",
     "text": [
      "[-1, -1, -1, 2, 2, 2]\n"
     ]
    }
   ],
   "source": [
    "def solution(s):\n",
    "    result = []\n",
    "    s = list(s)\n",
    "    for i in range(len(s)):\n",
    "        if s[i] in s[:i]:\n",
    "            for j in range(i-1, -1, -1):\n",
    "                if s[i] == s[j]:\n",
    "                    result.append(i -j)\n",
    "                    break\n",
    "        else:\n",
    "            result.append(-1)\n",
    "    return result\n",
    "print(solution(\"banana\"))"
   ]
  },
  {
   "cell_type": "markdown",
   "id": "b6cd48d7-d72d-4b20-8182-863029f357de",
   "metadata": {},
   "source": [
    "### 시저 암호"
   ]
  },
  {
   "cell_type": "code",
   "execution_count": 96,
   "id": "05004ae2-2090-4618-a25e-51e4d6fe5a68",
   "metadata": {},
   "outputs": [
    {
     "name": "stdout",
     "output_type": "stream",
     "text": [
      "BC\n"
     ]
    }
   ],
   "source": [
    "def solution(s, n):\n",
    "    result = ''\n",
    "    for ch in s:\n",
    "        if ch.isalpha():\n",
    "            base = ord('A') if ch.isupper() else ord('a')\n",
    "            result += chr((ord(ch) - base + n) % 26 + base)\n",
    "        else:\n",
    "            result += ch\n",
    "    return result\n",
    "print(solution(\"AB\", 1))"
   ]
  },
  {
   "cell_type": "markdown",
   "id": "9cd0f724-14aa-4f2c-99d0-2371df5a2b19",
   "metadata": {},
   "source": [
    "### K번째 수"
   ]
  },
  {
   "cell_type": "code",
   "execution_count": 103,
   "id": "d0a0e2cd-0de2-47da-8162-15421b4f23e2",
   "metadata": {},
   "outputs": [
    {
     "name": "stdout",
     "output_type": "stream",
     "text": [
      "[5, 6, 3]\n"
     ]
    }
   ],
   "source": [
    "def solution(array, commands):\n",
    "    result = []\n",
    "    for i in range(len(commands)):\n",
    "        a,b,c = commands[i]\n",
    "        arr = sorted(array[a-1:b])\n",
    "        result.append(arr[c-1])\n",
    "    return result\n",
    "print(solution([1, 5, 2, 6, 3, 7, 4],[[2, 5, 3], [4, 4, 1], [1, 7, 3]]))"
   ]
  }
 ],
 "metadata": {
  "kernelspec": {
   "display_name": "Python [conda env:base] *",
   "language": "python",
   "name": "conda-base-py"
  },
  "language_info": {
   "codemirror_mode": {
    "name": "ipython",
    "version": 3
   },
   "file_extension": ".py",
   "mimetype": "text/x-python",
   "name": "python",
   "nbconvert_exporter": "python",
   "pygments_lexer": "ipython3",
   "version": "3.12.7"
  }
 },
 "nbformat": 4,
 "nbformat_minor": 5
}
