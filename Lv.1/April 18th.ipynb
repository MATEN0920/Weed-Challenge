{
 "cells": [
  {
   "cell_type": "markdown",
   "id": "e10cb083-6221-4c2c-ac7e-af317537cd69",
   "metadata": {},
   "source": [
    "### 제일 작은 수 제거하기"
   ]
  },
  {
   "cell_type": "code",
   "execution_count": 2,
   "id": "213e72f0-1cbf-449c-b809-65d115537c4e",
   "metadata": {},
   "outputs": [
    {
     "name": "stdout",
     "output_type": "stream",
     "text": [
      "[4, 3, 2]\n"
     ]
    }
   ],
   "source": [
    "def solution(arr):\n",
    "    num = min(arr)\n",
    "    arr.remove(num)\n",
    "    if arr == []:\n",
    "        return [-1]\n",
    "    return arr\n",
    "print(solution([4,3,2,1]))"
   ]
  },
  {
   "cell_type": "markdown",
   "id": "cea9f194-9b74-4646-83bf-6d217d3152e6",
   "metadata": {},
   "source": [
    "### 내적"
   ]
  },
  {
   "cell_type": "code",
   "execution_count": 5,
   "id": "f3ad8b2d-be20-4b10-8fb0-20e6ee98ed91",
   "metadata": {},
   "outputs": [
    {
     "name": "stdout",
     "output_type": "stream",
     "text": [
      "3\n"
     ]
    }
   ],
   "source": [
    "def solution(a, b):\n",
    "    result = 0\n",
    "    for i in range(len(a)):\n",
    "        result += a[i] * b[i]\n",
    "    return result\n",
    "print(solution([1,2,3,4],[-3,-1,0,2]))"
   ]
  },
  {
   "cell_type": "markdown",
   "id": "2fb112c5-4a1c-42c2-9f74-16f30b82956c",
   "metadata": {},
   "source": [
    "### 수박수박수박수박수박수?"
   ]
  },
  {
   "cell_type": "code",
   "execution_count": 10,
   "id": "7b7b96e1-2ba5-4c50-8eeb-a5b38a236838",
   "metadata": {},
   "outputs": [
    {
     "name": "stdout",
     "output_type": "stream",
     "text": [
      "수박수박\n",
      "수박수\n"
     ]
    }
   ],
   "source": [
    "def solution(n):\n",
    "    result = ''\n",
    "    for i in range(n):\n",
    "        if i % 2 == 0:\n",
    "            result = result + '수'\n",
    "        else:\n",
    "            result = result + '박'\n",
    "    return result\n",
    "print(solution(4))\n",
    "print(solution(3))"
   ]
  },
  {
   "cell_type": "markdown",
   "id": "683800e4-881b-4335-b0cd-3a9aff0f1706",
   "metadata": {},
   "source": [
    "### 약수의 개수와 덧셈"
   ]
  },
  {
   "cell_type": "code",
   "execution_count": 19,
   "id": "1a59d512-4440-4eda-81db-0f3a757884da",
   "metadata": {},
   "outputs": [
    {
     "name": "stdout",
     "output_type": "stream",
     "text": [
      "43\n"
     ]
    }
   ],
   "source": [
    "def solution(left, right):\n",
    "    result = 0\n",
    "    for num in range(left, right + 1):\n",
    "        count = 0\n",
    "        for i in range(1, num + 1):\n",
    "            if num % i == 0:\n",
    "                count += 1\n",
    "        if count % 2 == 0:\n",
    "            result += num\n",
    "        else:\n",
    "            result -= num\n",
    "    return result\n",
    "print(solution(13, 17))"
   ]
  },
  {
   "cell_type": "markdown",
   "id": "ebbc26ae-57ce-4d52-936b-23290d9f064d",
   "metadata": {},
   "source": [
    "### 문자열 내림차순으로 배치하기"
   ]
  },
  {
   "cell_type": "code",
   "execution_count": 40,
   "id": "e0a4a6c0-a3ef-4225-9657-38fd5b41e509",
   "metadata": {},
   "outputs": [
    {
     "name": "stdout",
     "output_type": "stream",
     "text": [
      "gfedcbZ\n"
     ]
    }
   ],
   "source": [
    "def solution(s):\n",
    "    s = ''.join(sorted(s, reverse=True))\n",
    "    return s\n",
    "print(solution(\"Zbcdefg\"))"
   ]
  },
  {
   "cell_type": "markdown",
   "id": "d0186838-e3d4-4258-a711-61b8b1556d53",
   "metadata": {},
   "source": [
    "### 부족한 금액 계산하기"
   ]
  },
  {
   "cell_type": "code",
   "execution_count": 51,
   "id": "21683036-dc59-4d25-ae17-9707d82489dd",
   "metadata": {},
   "outputs": [
    {
     "name": "stdout",
     "output_type": "stream",
     "text": [
      "10\n"
     ]
    }
   ],
   "source": [
    "def solution(price, money, count):\n",
    "    sum = 0\n",
    "    for i in range(count+1):\n",
    "        sum += price * i\n",
    "    if sum-money < 0: return 0\n",
    "    return sum-money\n",
    "print(solution(3,20,4))"
   ]
  },
  {
   "cell_type": "markdown",
   "id": "62435db8-8228-4dca-b477-8aaa1fe127d0",
   "metadata": {},
   "source": [
    "### 문자열 다루기 기본"
   ]
  },
  {
   "cell_type": "code",
   "execution_count": 65,
   "id": "dc06bdec-67d9-4153-b3b1-03e63378bc62",
   "metadata": {},
   "outputs": [
    {
     "name": "stdout",
     "output_type": "stream",
     "text": [
      "True\n"
     ]
    }
   ],
   "source": [
    "def solution(s):\n",
    "    if len(s) == 4 or len(s) == 6:\n",
    "        return s.isdigit()\n",
    "    else:\n",
    "        return False\n",
    "print(solution(\"1234\"))"
   ]
  },
  {
   "cell_type": "markdown",
   "id": "34f25464-79d9-4ee9-8c18-74c6b3eea942",
   "metadata": {},
   "source": [
    "### 행렬의 덧셈"
   ]
  },
  {
   "cell_type": "code",
   "execution_count": 2,
   "id": "617894f7-f9ee-451e-80c9-a2a5f4204146",
   "metadata": {},
   "outputs": [
    {
     "name": "stdout",
     "output_type": "stream",
     "text": [
      "[[4, 6], [7, 9]]\n"
     ]
    }
   ],
   "source": [
    "def solution(arr1, arr2):\n",
    "    result = []\n",
    "    for i in range(len(arr1)):\n",
    "        row = []\n",
    "        for j in range(len(arr1[i])):\n",
    "            row.append(arr1[i][j] + arr2[i][j])\n",
    "        result.append(row)\n",
    "    return result\n",
    "print(solution([[1,2],[2,3]],[[3,4],[5,6]]))"
   ]
  },
  {
   "cell_type": "markdown",
   "id": "aa8e9e9e-dc53-42fa-adcf-89d28c5d407e",
   "metadata": {},
   "source": [
    "### 직사각형 별찍기"
   ]
  },
  {
   "cell_type": "code",
   "execution_count": 6,
   "id": "5d9d0607-c995-44b7-ac6c-c8215fa4180b",
   "metadata": {},
   "outputs": [
    {
     "name": "stdin",
     "output_type": "stream",
     "text": [
      " 3 5\n"
     ]
    },
    {
     "name": "stdout",
     "output_type": "stream",
     "text": [
      "***\n",
      "***\n",
      "***\n",
      "***\n",
      "***\n"
     ]
    }
   ],
   "source": [
    "a, b = map(int, input().strip().split(' '))\n",
    "for i in range(b):\n",
    "    print('*' * a)"
   ]
  },
  {
   "cell_type": "markdown",
   "id": "4aaabe1f-f6d1-49bb-b9f5-c2bbb3ac8fb9",
   "metadata": {},
   "source": [
    "### 같은 숫자는 싫어"
   ]
  },
  {
   "cell_type": "code",
   "execution_count": 11,
   "id": "e9aaa0a1-adf0-4832-b577-a65033af0fed",
   "metadata": {},
   "outputs": [
    {
     "name": "stdout",
     "output_type": "stream",
     "text": [
      "[1, 3, 0, 1]\n"
     ]
    }
   ],
   "source": [
    "def solution(arr):\n",
    "    result = [arr[0]]\n",
    "    for i in range(1, len(arr)):\n",
    "        if arr[i] != arr[i-1]:\n",
    "            result.append(arr[i])\n",
    "    return result\n",
    "print(solution([1,1,3,3,0,1,1]))"
   ]
  }
 ],
 "metadata": {
  "kernelspec": {
   "display_name": "Python [conda env:base] *",
   "language": "python",
   "name": "conda-base-py"
  },
  "language_info": {
   "codemirror_mode": {
    "name": "ipython",
    "version": 3
   },
   "file_extension": ".py",
   "mimetype": "text/x-python",
   "name": "python",
   "nbconvert_exporter": "python",
   "pygments_lexer": "ipython3",
   "version": "3.12.7"
  }
 },
 "nbformat": 4,
 "nbformat_minor": 5
}
