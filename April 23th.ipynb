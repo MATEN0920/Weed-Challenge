{
 "cells": [
  {
   "cell_type": "markdown",
   "id": "70b443b1-f4ab-4dc8-bb71-142c3e2d4485",
   "metadata": {},
   "source": [
    "### [1차] 다트 게임"
   ]
  },
  {
   "cell_type": "code",
   "execution_count": 8,
   "id": "54521e9e-2c69-47f9-9301-a1728254dedf",
   "metadata": {},
   "outputs": [
    {
     "name": "stdout",
     "output_type": "stream",
     "text": [
      "23\n"
     ]
    }
   ],
   "source": [
    "def bonus(nums, bonus_num):\n",
    "    if bonus_num == \"S\":\n",
    "        return nums**1\n",
    "    elif bonus_num == \"D\":\n",
    "        return nums**2\n",
    "    elif bonus_num == \"T\":\n",
    "        return nums**3\n",
    "\n",
    "def solution(dartResult):\n",
    "    answer = 0\n",
    "    answer_list = [0]\n",
    "    score = []\n",
    "\n",
    "    for char in dartResult:\n",
    "        if char.isdigit():\n",
    "            if score:\n",
    "                if len(score) == 2:\n",
    "                    result1 = bonus(int(score[0]), score[1])\n",
    "                    answer_list.append(result1)\n",
    "                    score = []\n",
    "\n",
    "                elif len(score) == 3:\n",
    "                    result1 = bonus(int(score[0]), score[1])\n",
    "\n",
    "                    if score[2] == '*':\n",
    "                        answer_list[-1] *= 2\n",
    "                        answer_list.append(result1 * 2)\n",
    "                    elif score[2] == '#':\n",
    "                        answer_list.append(result1 * (-1))\n",
    "                    score = []\n",
    "\n",
    "            if len(score) > 0 and score[-1].isdigit():\n",
    "                score[-1] = int(score[0])* 10 + int(char)\n",
    "                score[-1] = str(score[-1])\n",
    "            else:\n",
    "                score.append(char)\n",
    "        else:\n",
    "            score.append(char)\n",
    "\n",
    "    if score:\n",
    "        if len(score) == 2:\n",
    "            result1 = bonus(int(score[0]), score[1])\n",
    "            answer_list.append(result1)\n",
    "\n",
    "        elif len(score) == 3:\n",
    "            result1 = bonus(int(score[0]), score[1])\n",
    "\n",
    "            if score[2] == '*':\n",
    "                answer_list[-1] *= 2\n",
    "                answer_list.append(result1 * 2)\n",
    "            elif score[2] == '#':\n",
    "                answer_list.append(result1 * (-1))\n",
    "    \n",
    "    return sum(answer_list)\n",
    "print(solution(\"1S*2T*3S\"))"
   ]
  },
  {
   "cell_type": "markdown",
   "id": "69b3c7aa-dee8-41e9-8235-b69f9985dc9c",
   "metadata": {},
   "source": [
    "### 로또의 최고 순위와 최저 순위"
   ]
  },
  {
   "cell_type": "code",
   "execution_count": 23,
   "id": "e0e36d14-4b58-4c0d-a4fb-bcd3cdcf7e12",
   "metadata": {},
   "outputs": [
    {
     "name": "stdout",
     "output_type": "stream",
     "text": [
      "[3, 5]\n"
     ]
    }
   ],
   "source": [
    "def solution(lottos, win_nums):\n",
    "    zero = lottos.count(0)\n",
    "    matched = len([num for num in lottos if num in win_nums])\n",
    "    \n",
    "    def get_rank(count):\n",
    "        return 7 - count if count >= 2 else 6\n",
    "\n",
    "    max_rank = get_rank(matched + zero)\n",
    "    min_rank = get_rank(matched)\n",
    "    \n",
    "    return [max_rank, min_rank]\n",
    "\n",
    "print(solution([44, 1, 0, 0, 31, 25],[31, 10, 45, 1, 6, 19]))"
   ]
  }
 ],
 "metadata": {
  "kernelspec": {
   "display_name": "Python [conda env:base] *",
   "language": "python",
   "name": "conda-base-py"
  },
  "language_info": {
   "codemirror_mode": {
    "name": "ipython",
    "version": 3
   },
   "file_extension": ".py",
   "mimetype": "text/x-python",
   "name": "python",
   "nbconvert_exporter": "python",
   "pygments_lexer": "ipython3",
   "version": "3.12.7"
  }
 },
 "nbformat": 4,
 "nbformat_minor": 5
}
