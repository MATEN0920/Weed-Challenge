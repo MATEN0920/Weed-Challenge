{
 "cells": [
  {
   "cell_type": "markdown",
   "id": "21a044eb-a60e-4cab-b937-ef702263a277",
   "metadata": {},
   "source": [
    "### 완주하지 못한 선수"
   ]
  },
  {
   "cell_type": "code",
   "execution_count": 8,
   "id": "65876a08-a421-46de-969e-ebf8071c76af",
   "metadata": {},
   "outputs": [
    {
     "name": "stdout",
     "output_type": "stream",
     "text": [
      "leo\n"
     ]
    }
   ],
   "source": [
    "from collections import Counter\n",
    "\n",
    "def solution(participant, completion):\n",
    "    part_count = Counter(participant)\n",
    "    comp_count = Counter(completion)\n",
    "    answer = part_count - comp_count\n",
    "    return list(answer.keys())[0]\n",
    "print(solution([\"leo\", \"kiki\", \"eden\"],[\"eden\", \"kiki\"]))"
   ]
  },
  {
   "cell_type": "markdown",
   "id": "7884621d-dded-46e7-98e2-4b64f37ff021",
   "metadata": {},
   "source": [
    "### 체육복"
   ]
  },
  {
   "cell_type": "code",
   "execution_count": 23,
   "id": "af80632c-07d4-46fb-ba07-aec24b3a6684",
   "metadata": {},
   "outputs": [
    {
     "name": "stdout",
     "output_type": "stream",
     "text": [
      "5\n"
     ]
    }
   ],
   "source": [
    "def solution(n, lost, reserve):\n",
    "    lost_set = set(lost) - set(reserve)\n",
    "    reserve_set = set(reserve) - set(lost)    \n",
    "    for r in sorted(reserve_set):\n",
    "        if r - 1 in lost_set:\n",
    "            lost_set.remove(r - 1)\n",
    "        elif r + 1 in lost_set:\n",
    "            lost_set.remove(r + 1)\n",
    "    return n - len(lost_set)\n",
    "print(solution(5,[2, 4],[1, 3, 5]))"
   ]
  }
 ],
 "metadata": {
  "kernelspec": {
   "display_name": "Python [conda env:base] *",
   "language": "python",
   "name": "conda-base-py"
  },
  "language_info": {
   "codemirror_mode": {
    "name": "ipython",
    "version": 3
   },
   "file_extension": ".py",
   "mimetype": "text/x-python",
   "name": "python",
   "nbconvert_exporter": "python",
   "pygments_lexer": "ipython3",
   "version": "3.12.7"
  }
 },
 "nbformat": 4,
 "nbformat_minor": 5
}
