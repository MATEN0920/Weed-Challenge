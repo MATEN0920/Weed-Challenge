{
 "cells": [
  {
   "cell_type": "markdown",
   "id": "14bb557c-c918-4220-939b-c5d1dd24c7ad",
   "metadata": {},
   "source": [
    "# Day 11"
   ]
  },
  {
   "cell_type": "markdown",
   "id": "a93047c2-b4d7-4394-822f-a463a2e762dc",
   "metadata": {},
   "source": [
    "### 문자 개수 세기"
   ]
  },
  {
   "cell_type": "code",
   "execution_count": 1,
   "id": "94d403d3-316d-48dc-878f-224efecf4238",
   "metadata": {},
   "outputs": [
    {
     "name": "stdout",
     "output_type": "stream",
     "text": [
      "[0, 0, 0, 0, 0, 0, 0, 0, 0, 0, 0, 0, 0, 0, 0, 1, 0, 0, 0, 0, 0, 0, 0, 0, 0, 0, 1, 0, 0, 0, 1, 0, 1, 0, 0, 0, 0, 0, 2, 0, 1, 0, 0, 3, 1, 0, 0, 0, 0, 0, 0, 0]\n"
     ]
    }
   ],
   "source": [
    "def solution(my_string):\n",
    "    result = [0]*52\n",
    "    for i in range(len(my_string)):\n",
    "        if 'A' <= my_string[i] <= 'Z':\n",
    "            index = ord(my_string[i]) - ord('A')\n",
    "        elif 'a' <= my_string[i] <= 'z':\n",
    "            index = ord(my_string[i]) - ord('a') + 26\n",
    "        result[index] += 1\n",
    "    return result\n",
    "print(solution(\"Programmers\"))"
   ]
  },
  {
   "cell_type": "markdown",
   "id": "eb7016b8-c352-4d85-9a02-a75ddce1580d",
   "metadata": {},
   "source": [
    "### 배열 만들기"
   ]
  },
  {
   "cell_type": "code",
   "execution_count": 3,
   "id": "38a2b426-2acb-449e-9c78-0a4141980a23",
   "metadata": {},
   "outputs": [
    {
     "name": "stdout",
     "output_type": "stream",
     "text": [
      "[3, 6, 9]\n",
      "[5, 10, 15]\n"
     ]
    }
   ],
   "source": [
    "def solution(n, k):\n",
    "    result = []\n",
    "    i = 1\n",
    "    while i <= n:\n",
    "        if i % k == 0:\n",
    "            result.append(i)\n",
    "        i += 1\n",
    "    return result\n",
    "print(solution(10,3))\n",
    "print(solution(15,5))"
   ]
  },
  {
   "cell_type": "markdown",
   "id": "4cba6872-3630-4c2f-b372-517c7a8aae93",
   "metadata": {},
   "source": [
    "### 글자 지우기"
   ]
  },
  {
   "cell_type": "code",
   "execution_count": 6,
   "id": "7bc64172-8469-497e-ac37-108e7f8dcc37",
   "metadata": {},
   "outputs": [
    {
     "name": "stdout",
     "output_type": "stream",
     "text": [
      "programmers\n"
     ]
    }
   ],
   "source": [
    "def solution(my_string, indices):\n",
    "    result = \"\"\n",
    "    for i in range(len(my_string)):\n",
    "        if i not in indices:\n",
    "            result += my_string[i]\n",
    "    return result\n",
    "print(solution(\"apporoograpemmemprs\", [1, 16, 6, 15, 0, 10, 11, 3]))"
   ]
  },
  {
   "cell_type": "markdown",
   "id": "6a3ce361-1aab-4b37-93ee-6f23f17b778e",
   "metadata": {},
   "source": [
    "### 카운트 다운"
   ]
  },
  {
   "cell_type": "code",
   "execution_count": 9,
   "id": "3a279af4-0abd-4722-b3fa-48e618efb1ab",
   "metadata": {},
   "outputs": [
    {
     "name": "stdout",
     "output_type": "stream",
     "text": [
      "[10, 9, 8, 7, 6, 5, 4, 3]\n"
     ]
    }
   ],
   "source": [
    "def solution(start_num, end_num):\n",
    "    result = []\n",
    "    for i in range(start_num, end_num -1, -1):\n",
    "        result.append(i)\n",
    "    return result\n",
    "print(solution(10,3))"
   ]
  },
  {
   "cell_type": "markdown",
   "id": "1617383a-7c8b-4323-95a0-8c32ee43889f",
   "metadata": {},
   "source": [
    "### 가까운 1 찾기"
   ]
  },
  {
   "cell_type": "code",
   "execution_count": 12,
   "id": "c2f35898-4d82-4147-a9bb-b62c67b4c810",
   "metadata": {},
   "outputs": [
    {
     "name": "stdout",
     "output_type": "stream",
     "text": [
      "3\n",
      "-1\n",
      "3\n"
     ]
    }
   ],
   "source": [
    "def solution(arr, idx):\n",
    "    for i in range(idx, len(arr)):\n",
    "        if arr[i] == 1:\n",
    "            return i\n",
    "    return -1\n",
    "print(solution([0, 0, 0, 1],1))\n",
    "print(solution([1, 0, 0, 1, 0, 0],4))\n",
    "print(solution([1, 1, 1, 1, 0],3))"
   ]
  },
  {
   "cell_type": "markdown",
   "id": "7feb2a63-f5ef-4612-b387-1d6d14916136",
   "metadata": {},
   "source": [
    "# Day 12"
   ]
  },
  {
   "cell_type": "markdown",
   "id": "21572cca-1ee9-43d4-a4b4-dc1888cf474a",
   "metadata": {},
   "source": [
    "### 리스트 자르기"
   ]
  },
  {
   "cell_type": "code",
   "execution_count": 16,
   "id": "f8d531e7-ae32-410f-a756-10324376d356",
   "metadata": {},
   "outputs": [
    {
     "name": "stdout",
     "output_type": "stream",
     "text": [
      "[1, 2, 3, 4, 5, 6]\n",
      "[3, 4, 5, 6, 7, 8, 9]\n",
      "[2, 3, 4, 5, 6]\n",
      "[2, 4, 6]\n"
     ]
    }
   ],
   "source": [
    "def solution(n, slicer, num_list):\n",
    "    result = []\n",
    "    a, b, c = slicer[0], slicer[1], slicer[2]\n",
    "    if n == 1:\n",
    "        for i in range(b+1):\n",
    "            result.append(num_list[i])\n",
    "    if n == 2:\n",
    "        for i in range(a,len(num_list)):\n",
    "            result.append(num_list[i])\n",
    "    if n == 3:\n",
    "        for i in range(a, b+1):\n",
    "            result.append(num_list[i])\n",
    "    if n == 4:\n",
    "        for i in range(a, b+1, c):\n",
    "            result.append(num_list[i])\n",
    "    return result\n",
    "        \n",
    "print(solution(1, [1,5,2], [1, 2, 3, 4, 5, 6, 7, 8, 9]))\n",
    "print(solution(2, [2,5,2], [1, 2, 3, 4, 5, 6, 7, 8, 9]))\n",
    "print(solution(3, [1, 5, 2], [1, 2, 3, 4, 5, 6, 7, 8, 9]))\n",
    "print(solution(4, [1, 5, 2], [1, 2, 3, 4, 5, 6, 7, 8, 9]))"
   ]
  },
  {
   "cell_type": "markdown",
   "id": "68426e29-b38a-4845-acad-020dcd4c763c",
   "metadata": {},
   "source": [
    "### 첫 번째로 나오는 음수"
   ]
  },
  {
   "cell_type": "code",
   "execution_count": 19,
   "id": "daf492f0-3a10-41ed-96dd-a3f12c31801e",
   "metadata": {},
   "outputs": [
    {
     "name": "stdout",
     "output_type": "stream",
     "text": [
      "5\n",
      "-1\n"
     ]
    }
   ],
   "source": [
    "def solution(num_list):\n",
    "    for i in range(len(num_list)):\n",
    "        if num_list[i] < 0:\n",
    "            return i\n",
    "    return -1\n",
    "print(solution([12, 4, 15, 46, 38, -2, 15]))\n",
    "print(solution([13, 22, 53, 24, 15, 6]))"
   ]
  },
  {
   "cell_type": "markdown",
   "id": "c77bc5d2-07b0-49d7-8447-5e0e7489b18e",
   "metadata": {},
   "source": [
    "### 배열 만들기"
   ]
  },
  {
   "cell_type": "code",
   "execution_count": 22,
   "id": "a8a2bc12-547f-455e-b9f4-a466beeb8d4e",
   "metadata": {},
   "outputs": [
    {
     "name": "stdout",
     "output_type": "stream",
     "text": [
      "[2, 3, 4, 1, 2, 3, 4, 5]\n"
     ]
    }
   ],
   "source": [
    "def solution(arr, intervals):\n",
    "    [a1, b1], [a2, b2] = intervals\n",
    "    result = []\n",
    "    for i in range(a1, b1+1):\n",
    "        result.append(arr[i])\n",
    "    for j in range(a2, b2+1):\n",
    "        result.append(arr[j])\n",
    "    return result\n",
    "print(solution([1, 2, 3, 4, 5],[[1, 3], [0, 4]]))"
   ]
  },
  {
   "cell_type": "markdown",
   "id": "89aed6fa-b9f4-415e-a01d-ef01823c2f68",
   "metadata": {},
   "source": [
    "### 2의 영역"
   ]
  },
  {
   "cell_type": "code",
   "execution_count": 25,
   "id": "18b5bdf7-a80b-4e96-81f1-af890f93bf45",
   "metadata": {},
   "outputs": [
    {
     "name": "stdout",
     "output_type": "stream",
     "text": [
      "[2, 1, 4, 5, 2]\n",
      "[-1]\n",
      "[2, 1, 2, 1, 10, 2]\n"
     ]
    }
   ],
   "source": [
    "def solution(arr):\n",
    "    if 2 not in arr:\n",
    "        return [-1]\n",
    "    first = arr.index(2)\n",
    "    last = len(arr) - arr[::-1].index(2)\n",
    "    return arr[first:last]\n",
    "print(solution([1, 2, 1, 4, 5, 2, 9]))\n",
    "print(solution([1,1,1]))\n",
    "print(solution([1, 2, 1, 2, 1, 10, 2, 1]))"
   ]
  },
  {
   "cell_type": "markdown",
   "id": "3a65d9e2-914b-485e-8770-2200629a16a8",
   "metadata": {},
   "source": [
    "### 배열 조각하기"
   ]
  },
  {
   "cell_type": "code",
   "execution_count": 28,
   "id": "afa6d061-0493-496f-a583-fe2dbe886fc5",
   "metadata": {},
   "outputs": [
    {
     "name": "stdout",
     "output_type": "stream",
     "text": [
      "[1, 2, 3]\n"
     ]
    }
   ],
   "source": [
    "def solution(arr, query):\n",
    "    for i in range(len(query)):\n",
    "        if i % 2 == 0:\n",
    "            arr = arr[:query[i]+1]\n",
    "        else:\n",
    "            arr = arr[query[i]:]    \n",
    "    return arr\n",
    "print(solution([0, 1, 2, 3, 4, 5],[4, 1, 2]))"
   ]
  }
 ],
 "metadata": {
  "kernelspec": {
   "display_name": "Python [conda env:base] *",
   "language": "python",
   "name": "conda-base-py"
  },
  "language_info": {
   "codemirror_mode": {
    "name": "ipython",
    "version": 3
   },
   "file_extension": ".py",
   "mimetype": "text/x-python",
   "name": "python",
   "nbconvert_exporter": "python",
   "pygments_lexer": "ipython3",
   "version": "3.12.7"
  }
 },
 "nbformat": 4,
 "nbformat_minor": 5
}
